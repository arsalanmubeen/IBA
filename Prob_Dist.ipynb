{
  "nbformat": 4,
  "nbformat_minor": 0,
  "metadata": {
    "kernelspec": {
      "display_name": "Python 3",
      "language": "python",
      "name": "python3"
    },
    "language_info": {
      "codemirror_mode": {
        "name": "ipython",
        "version": 3
      },
      "file_extension": ".py",
      "mimetype": "text/x-python",
      "name": "python",
      "nbconvert_exporter": "python",
      "pygments_lexer": "ipython3",
      "version": "3.8.5"
    },
    "colab": {
      "provenance": [],
      "include_colab_link": true
    }
  },
  "cells": [
    {
      "cell_type": "markdown",
      "metadata": {
        "id": "view-in-github",
        "colab_type": "text"
      },
      "source": [
        "<a href=\"https://colab.research.google.com/github/arsalanmubeen/IBA/blob/main/Prob_Dist.ipynb\" target=\"_parent\"><img src=\"https://colab.research.google.com/assets/colab-badge.svg\" alt=\"Open In Colab\"/></a>"
      ]
    },
    {
      "cell_type": "code",
      "metadata": {
        "colab": {
          "base_uri": "https://localhost:8080/"
        },
        "id": "5XSEyhoLEinC",
        "outputId": "994cfdac-4b26-4095-9f8d-acfe4c1c86fe"
      },
      "source": [
        "# sample a normal distribution\n",
        "from numpy.random import normal\n",
        "# define the distribution\n",
        "mu = 50\n",
        "sigma = 5\n",
        "n = 10\n",
        "# generate the sample\n",
        "sample = normal(mu, sigma, n)\n",
        "print(sample)"
      ],
      "execution_count": null,
      "outputs": [
        {
          "output_type": "stream",
          "text": [
            "[49.20419923 53.42808124 55.55146775 51.82639204 47.14491063 50.49216484\n",
            " 60.5410681  46.0261794  54.16297513 52.60844275]\n"
          ],
          "name": "stdout"
        }
      ]
    },
    {
      "cell_type": "code",
      "metadata": {
        "colab": {
          "base_uri": "https://localhost:8080/",
          "height": 513
        },
        "id": "CteDWQtmEinH",
        "outputId": "d937cdc6-f27b-4cc2-b849-9fcf6b1850c5"
      },
      "source": [
        "# pdf and cdf for a normal distribution\n",
        "from scipy.stats import norm\n",
        "from matplotlib import pyplot\n",
        "# define distribution parameters\n",
        "mu = 50\n",
        "sigma = 5\n",
        "# create distribution\n",
        "dist = norm(mu, sigma)\n",
        "# plot pdf\n",
        "values = [value for value in range(30, 70)]\n",
        "probabilities = [dist.pdf(value) for value in values]\n",
        "pyplot.plot(values, probabilities)\n",
        "pyplot.show()\n",
        "# plot cdf\n",
        "cprobs = [dist.cdf(value) for value in values]\n",
        "pyplot.plot(values, cprobs)\n",
        "pyplot.show()"
      ],
      "execution_count": null,
      "outputs": [
        {
          "output_type": "display_data",
          "data": {
            "image/png": "[encoded data removed]",
            "text/plain": [
              "<Figure size 432x288 with 1 Axes>"
            ]
          },
          "metadata": {
            "needs_background": "light"
          }
        },
        {
          "output_type": "display_data",
          "data": {
            "image/png": "[encoded data removed]",
            "text/plain": [
              "<Figure size 432x288 with 1 Axes>"
            ]
          },
          "metadata": {
            "needs_background": "light"
          }
        }
      ]
    },
    {
      "cell_type": "code",
      "metadata": {
        "colab": {
          "base_uri": "https://localhost:8080/"
        },
        "id": "voTygxz9EinJ",
        "outputId": "26c03bc1-bed4-4f97-d7e7-deefc63ff308"
      },
      "source": [
        "# calculate the values that define the middle 95%\n",
        "from scipy.stats import norm\n",
        "# define distribution parameters\n",
        "mu = 50\n",
        "sigma = 5\n",
        "# create distribution\n",
        "dist = norm(mu, sigma)\n",
        "low_end = dist.ppf(0.025)\n",
        "high_end = dist.ppf(0.975)\n",
        "print('Middle 95%% between %.1f and %.1f' % (low_end, high_end))"
      ],
      "execution_count": null,
      "outputs": [
        {
          "output_type": "stream",
          "text": [
            "Middle 95% between 40.2 and 59.8\n"
          ],
          "name": "stdout"
        }
      ]
    },
    {
      "cell_type": "code",
      "metadata": {
        "colab": {
          "base_uri": "https://localhost:8080/"
        },
        "id": "o5-dRgmJEinK",
        "outputId": "884d1eb3-7b51-4203-f838-ce88de0d0b34"
      },
      "source": [
        "# sample an exponential distribution\n",
        "from numpy.random import exponential\n",
        "# define the distribution\n",
        "beta = 50\n",
        "n = 10\n",
        "# generate the sample\n",
        "sample = exponential(beta, n)\n",
        "print(sample)"
      ],
      "execution_count": null,
      "outputs": [
        {
          "output_type": "stream",
          "text": [
            "[  9.69229557   2.86821778  14.73000299  31.59510052  38.86498998\n",
            "  64.06799431  53.70146081 183.42231406  55.14804213   0.60322568]\n"
          ],
          "name": "stdout"
        }
      ]
    },
    {
      "cell_type": "code",
      "metadata": {
        "colab": {
          "base_uri": "https://localhost:8080/",
          "height": 513
        },
        "id": "6U1WCzxwEinL",
        "outputId": "18cc5260-dc17-4253-eb91-4a7ef70ed118"
      },
      "source": [
        "# pdf and cdf for an exponential distribution\n",
        "from scipy.stats import expon\n",
        "from matplotlib import pyplot\n",
        "# define distribution parameter\n",
        "beta = 50\n",
        "# create distribution\n",
        "dist = expon(beta)\n",
        "# plot pdf\n",
        "values = [value for value in range(50, 70)]\n",
        "probabilities = [dist.pdf(value) for value in values]\n",
        "pyplot.plot(values, probabilities)\n",
        "pyplot.show()\n",
        "# plot cdf\n",
        "cprobs = [dist.cdf(value) for value in values]\n",
        "pyplot.plot(values, cprobs)\n",
        "pyplot.show()"
      ],
      "execution_count": null,
      "outputs": [
        {
          "output_type": "display_data",
          "data": {
            "image/png": "[encoded data removed]",
            "text/plain": [
              "<Figure size 432x288 with 1 Axes>"
            ]
          },
          "metadata": {
            "needs_background": "light"
          }
        },
        {
          "output_type": "display_data",
          "data": {
            "image/png": "[encoded data removed]",
            "text/plain": [
              "<Figure size 432x288 with 1 Axes>"
            ]
          },
          "metadata": {
            "needs_background": "light"
          }
        }
      ]
    },
    {
      "cell_type": "code",
      "metadata": {
        "colab": {
          "base_uri": "https://localhost:8080/"
        },
        "id": "g4-xULTfEinM",
        "outputId": "5cadafe9-d4ab-4b40-ae96-615484552022"
      },
      "source": [
        "from numpy.random import pareto\n",
        "# define the distribution\n",
        "alpha = 1.1\n",
        "n = 10\n",
        "# generate the sample\n",
        "sample = pareto(alpha, n)\n",
        "print(sample)"
      ],
      "execution_count": null,
      "outputs": [
        {
          "output_type": "stream",
          "text": [
            "[0.28609146 1.45839536 0.33580352 0.06825854 0.1834041  0.42784288\n",
            " 0.35359632 0.68435283 0.6161766  2.59032801]\n"
          ],
          "name": "stdout"
        }
      ]
    },
    {
      "cell_type": "code",
      "metadata": {
        "colab": {
          "base_uri": "https://localhost:8080/",
          "height": 514
        },
        "id": "VWoeD3uBEinN",
        "outputId": "f1a8c8c6-4b86-44f3-bfc5-a3267110edf3"
      },
      "source": [
        "# pdf and cdf for a pareto distribution\n",
        "from scipy.stats import pareto\n",
        "from matplotlib import pyplot\n",
        "# define distribution parameter\n",
        "alpha = 1.5\n",
        "# create distribution\n",
        "dist = pareto(alpha)\n",
        "# plot pdf\n",
        "values = [value/10.0 for value in range(10, 100)]\n",
        "probabilities = [dist.pdf(value) for value in values]\n",
        "pyplot.plot(values, probabilities)\n",
        "pyplot.show()\n",
        "# plot cdf\n",
        "cprobs = [dist.cdf(value) for value in values]\n",
        "pyplot.plot(values, cprobs)\n",
        "pyplot.show()"
      ],
      "execution_count": null,
      "outputs": [
        {
          "output_type": "display_data",
          "data": {
            "image/png": "[encoded data removed]",
            "text/plain": [
              "<Figure size 432x288 with 1 Axes>"
            ]
          },
          "metadata": {
            "needs_background": "light"
          }
        },
        {
          "output_type": "display_data",
          "data": {
            "image/png": "[encoded data removed]",
            "text/plain": [
              "<Figure size 432x288 with 1 Axes>"
            ]
          },
          "metadata": {
            "needs_background": "light"
          }
        }
      ]
    },
    {
      "cell_type": "code",
      "metadata": {
        "colab": {
          "base_uri": "https://localhost:8080/"
        },
        "id": "XfQgPzo2EinS",
        "outputId": "6144f60d-a31d-4ac6-9e1c-fd055811437b"
      },
      "source": [
        "from scipy import stats\n",
        "X = stats.binom(10, 0.2) # Declare X to be a binomial random variable\n",
        "print(X.pmf(3))           # P(X = 3)\n",
        "print(X.cdf(4))           # P(X <= 4)\n",
        "print(X.mean())           # E[X]\n",
        "print(X.var())            # Var(X)\n",
        "print(X.std())            # Std(X)\n",
        "print(X.rvs())            # Get a random sample from X\n",
        "print(X.rvs(10))          # Get 10 random samples form X"
      ],
      "execution_count": null,
      "outputs": [
        {
          "output_type": "stream",
          "text": [
            "0.20132659200000022\n",
            "0.9672065024000001\n",
            "2.0\n",
            "1.6\n",
            "1.2649110640673518\n",
            "1\n",
            "[4 1 1 5 1 0 3 1 5 1]\n"
          ],
          "name": "stdout"
        }
      ]
    },
    {
      "cell_type": "code",
      "metadata": {
        "colab": {
          "base_uri": "https://localhost:8080/"
        },
        "id": "u07ZxHkGEinV",
        "outputId": "0eae2c6b-3d7c-4c41-8aba-38ee2035cff1"
      },
      "source": [
        "from scipy import stats\n",
        "Y = stats.poisson(2) # Declare Y to be a poisson random variable\n",
        "print( Y.pmf(3) )      # P(Y = 3)\n",
        "print( Y.rvs() )       # Get a random sample from Y"
      ],
      "execution_count": null,
      "outputs": [
        {
          "output_type": "stream",
          "text": [
            "0.18044704431548356\n",
            "1\n"
          ],
          "name": "stdout"
        }
      ]
    },
    {
      "cell_type": "code",
      "metadata": {
        "colab": {
          "base_uri": "https://localhost:8080/"
        },
        "id": "o2OUeH38EinY",
        "outputId": "a3f8f355-b6e6-4f2c-fec0-048a23ebbb5d"
      },
      "source": [
        "from scipy import stats\n",
        "X = stats.geom(0.75) # Declare X to be a geometric random variable\n",
        "print( X.pmf(3)  )     # P(X = 3)\n",
        "print( X.rvs()   )     # Get a random sample from Y"
      ],
      "execution_count": null,
      "outputs": [
        {
          "output_type": "stream",
          "text": [
            "0.046875\n",
            "1\n"
          ],
          "name": "stdout"
        }
      ]
    }
  ]
}