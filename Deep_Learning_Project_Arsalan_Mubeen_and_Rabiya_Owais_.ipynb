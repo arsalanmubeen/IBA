{
  "cells": [
    {
      "cell_type": "markdown",
      "metadata": {
        "id": "view-in-github",
        "colab_type": "text"
      },
      "source": [
        "<a href=\"https://colab.research.google.com/github/arsalanmubeen/IBA/blob/main/Deep_Learning_Project_Arsalan_Mubeen_and_Rabiya_Owais_.ipynb\" target=\"_parent\"><img src=\"https://colab.research.google.com/assets/colab-badge.svg\" alt=\"Open In Colab\"/></a>"
      ]
    },
    {
      "cell_type": "markdown",
      "metadata": {
        "id": "0g4Y2C5v2cld"
      },
      "source": [
        "# PROJECT NAME:\n",
        "# Improving quality and Classifying radiology images using 5 types of CNN and a denoising autoencoder\n",
        "# ------------------------------------------------------------------------------------\n",
        "## This project is about analyzing radiology images in healthcare domain; for this project we have used x-ray images dataset which we have recieved from INDUS HOSPITAL for the purposes of analysis and testing. \n",
        "\n",
        "## In this project we aim to do two major deep learning workings; this is an end to end pipeline from data load to CNN training and then classification. \n",
        "## The first part deals with Classification of radiology images using Convolutional Neural Networks to show if the x-ray is normal or abnormal. \n",
        "## This use case would help determine if any disease or infection may exist in the chest which is being detected in the CNN. \n",
        "\n",
        "## The second part of this project uses DAE - denoising autoencoder; the aim of this use case is to show how x-ray image quality can be improved using a DAE. \n",
        "\n",
        "## at the end of this notebook is a detailed analysis of the different parameters, pooling and padding functionality tried in this experiment. "
      ]
    },
    {
      "cell_type": "markdown",
      "metadata": {
        "id": "uMxYSTk5cI2U"
      },
      "source": [
        "# **Analysis**: \n",
        "\n",
        "# In this project we aimed to improve the quality and learning of x-ray images for classification purposes of any abnormality found in the X-ray.\n",
        "\n",
        "## As a comparative analysis, we have used different types of convolutional neural networks such as LeNet, AlexNet, VGGNet and GoogleNet. \n",
        "\n",
        "## We have also made a customised CNN model of our own based on the different results we got from the above types. \n",
        "\n",
        "## For performance measurement, we have used accuracy as a metric to signify how well our models have learned the classification of our dataset. \n",
        "\n",
        "## From this experiment we have seen that the best performance was from the customised CNN model we made with 93% accuracy, 0.19 loss using 10 epochs and 8 steps per training. \n",
        "\n",
        "## LeNet performance was not up to the mark even though we used more epochs and same training steps and a 5 layers CNN. The accuracy came out to be 52%. \n",
        "\n",
        "## AlexNet performance was lower with accuracy of 47% with exponentially increasing loss.\n",
        "\n",
        "## VGGNet around 50%"
      ]
    },
    {
      "cell_type": "markdown",
      "metadata": {
        "id": "kbkbHJna2cll"
      },
      "source": [
        "### Making necessary imports: \n"
      ]
    },
    {
      "cell_type": "code",
      "execution_count": null,
      "metadata": {
        "colab": {
          "base_uri": "https://localhost:8080/"
        },
        "id": "rvS0M2dT2clm",
        "outputId": "eac3f04f-a986-47d2-b866-d471a8bf62de"
      },
      "outputs": [
        {
          "output_type": "stream",
          "name": "stdout",
          "text": [
            "Number of replicas: 1\n",
            "2.7.0\n"
          ]
        }
      ],
      "source": [
        "import re\n",
        "import os\n",
        "import numpy as np\n",
        "import pandas as pd\n",
        "import tensorflow as tf\n",
        "tf.compat.v1.disable_eager_execution() \n",
        "import matplotlib.pyplot as plt\n",
        "from sklearn.model_selection import train_test_split\n",
        "\n",
        "try:\n",
        "    tpu = tf.distribute.cluster_resolver.TPUClusterResolver()\n",
        "    print('Device:', tpu.master())\n",
        "    tf.config.experimental_connect_to_cluster(tpu)\n",
        "    tf.tpu.experimental.initialize_tpu_system(tpu)\n",
        "    strategy = tf.distribute.experimental.TPUStrategy(tpu)\n",
        "except:\n",
        "    strategy = tf.distribute.get_strategy()\n",
        "print('Number of replicas:', strategy.num_replicas_in_sync)\n",
        "    \n",
        "print(tf.__version__)\n",
        "\n",
        "import sys\n",
        "from zipfile import ZipFile\n",
        "import argparse\n",
        "import random\n",
        "import time\n",
        "import datetime\n",
        "from collections import Counter\n",
        "import shutil\n",
        "from tqdm import tqdm\n",
        "import inspect\n",
        "import gc\n",
        "import re\n",
        "import cv2\n",
        "from PIL import Image\n",
        "import cv2\n",
        "import keras\n",
        "from keras.utils import np_utils\n",
        "from keras.preprocessing.image import ImageDataGenerator\n",
        "from keras import models\n",
        "from keras.models import Model\n",
        "from keras.models import Sequential\n",
        "from keras.layers import Conv2D, Activation, MaxPooling2D, Dropout, GlobalAveragePooling1D, GlobalAveragePooling2D, Flatten, BatchNormalization, Dense\n",
        "from keras.preprocessing import image\n",
        "from keras.layers import Dense, Conv2D, MaxPool2D , Flatten\n",
        "\n",
        "from keras.applications.inception_v3 import InceptionV3\n",
        "from keras.constraints import maxnorm\n",
        "from keras import optimizers\n",
        "from tensorflow.keras.optimizers import Adam\n",
        "from tensorflow.keras.optimizers import SGD , RMSprop\n",
        "from tensorflow.keras import backend as K\n",
        "#K.set_image_dim_ordering('th')\n",
        "\n",
        "\n",
        "from keras.callbacks import ModelCheckpoint, EarlyStopping, TensorBoard, ReduceLROnPlateau\n",
        "from keras.wrappers.scikit_learn import KerasClassifier\n",
        "from sklearn.metrics import precision_score, recall_score, f1_score, roc_auc_score, confusion_matrix, classification_report\n",
        "\n",
        "\n",
        "from mlxtend.plotting import plot_confusion_matrix\n",
        "import tensorflow as tf\n",
        "\n",
        "from IPython.display import display\n",
        "import seaborn as sns\n",
        "from matplotlib.pyplot import figure\n",
        "import matplotlib.pyplot as plt\n",
        "import matplotlib.image as mpimg\n",
        "%matplotlib inline\n",
        "\n",
        "import gzip\n",
        "import numpy as np\n",
        "import pandas as pd\n",
        "from time import time\n",
        "\n",
        "from sklearn.model_selection import train_test_split\n",
        "import tensorflow as tf\n",
        "import keras\n",
        "import keras.layers as layers\n",
        "from keras.models import Sequential\n",
        "from keras.preprocessing.image import ImageDataGenerator\n",
        "from keras.utils.np_utils import to_categorical\n",
        "from keras.callbacks import TensorBoard\n",
        "\n",
        "%matplotlib inline\n",
        "import matplotlib.pyplot as plt\n",
        "import seaborn as sns\n",
        "sns.set()"
      ]
    },
    {
      "cell_type": "markdown",
      "metadata": {
        "id": "ASKdY2-U2clq"
      },
      "source": [
        "## Below are the parameter tuning variables that will be needed for analyzing our CNN over different combinations of these parameters"
      ]
    },
    {
      "cell_type": "code",
      "execution_count": null,
      "metadata": {
        "id": "1FF17fVv2clr"
      },
      "outputs": [],
      "source": [
        "AUTOTUNE = tf.data.experimental.AUTOTUNE\n",
        "BATCH_SIZE = 16 * strategy.num_replicas_in_sync\n",
        "IMAGE_SIZE = [180, 180]\n",
        "EPOCHS = 25\n",
        "FILE_PATH =\"images/*\"\n"
      ]
    },
    {
      "cell_type": "markdown",
      "metadata": {
        "id": "p0fsdpdeedS0"
      },
      "source": []
    },
    {
      "cell_type": "code",
      "execution_count": null,
      "metadata": {
        "colab": {
          "base_uri": "https://localhost:8080/"
        },
        "id": "A7umQrh6WA9v",
        "outputId": "cd741e88-0a6f-49f6-be0e-0c29509381b1"
      },
      "outputs": [
        {
          "output_type": "stream",
          "name": "stdout",
          "text": [
            "Requirement already satisfied: kaggle in /usr/local/lib/python3.7/dist-packages (1.5.12)\n",
            "Requirement already satisfied: certifi in /usr/local/lib/python3.7/dist-packages (from kaggle) (2021.10.8)\n",
            "Requirement already satisfied: six>=1.10 in /usr/local/lib/python3.7/dist-packages (from kaggle) (1.15.0)\n",
            "Requirement already satisfied: python-dateutil in /usr/local/lib/python3.7/dist-packages (from kaggle) (2.8.2)\n",
            "Requirement already satisfied: urllib3 in /usr/local/lib/python3.7/dist-packages (from kaggle) (1.24.3)\n",
            "Requirement already satisfied: requests in /usr/local/lib/python3.7/dist-packages (from kaggle) (2.23.0)\n",
            "Requirement already satisfied: tqdm in /usr/local/lib/python3.7/dist-packages (from kaggle) (4.62.3)\n",
            "Requirement already satisfied: python-slugify in /usr/local/lib/python3.7/dist-packages (from kaggle) (5.0.2)\n",
            "Requirement already satisfied: text-unidecode>=1.3 in /usr/local/lib/python3.7/dist-packages (from python-slugify->kaggle) (1.3)\n",
            "Requirement already satisfied: chardet<4,>=3.0.2 in /usr/local/lib/python3.7/dist-packages (from requests->kaggle) (3.0.4)\n",
            "Requirement already satisfied: idna<3,>=2.5 in /usr/local/lib/python3.7/dist-packages (from requests->kaggle) (2.10)\n"
          ]
        }
      ],
      "source": [
        "!pip install kaggle\n",
        "!mkdir ~/.kaggle\n",
        "!cp kaggle.json ~/.kaggle/\n",
        "!chmod 600 ~/.kaggle/kaggle.json"
      ]
    },
    {
      "cell_type": "code",
      "execution_count": null,
      "metadata": {
        "colab": {
          "base_uri": "https://localhost:8080/"
        },
        "id": "BLb0AhTDWRUp",
        "outputId": "4cd57450-3e56-4759-9aa7-5a2d15497f50"
      },
      "outputs": [
        {
          "output_type": "stream",
          "name": "stdout",
          "text": [
            "Downloading indussample.zip to /content\n",
            " 88% 105M/120M [00:03<00:00, 31.4MB/s] \n",
            "100% 120M/120M [00:03<00:00, 37.8MB/s]\n"
          ]
        }
      ],
      "source": [
        "#!kaggle datasets download -d arsalanmubeen123/images-indus-hospital\n",
        "!kaggle datasets download -d rabiya1212/indussample"
      ]
    },
    {
      "cell_type": "code",
      "execution_count": null,
      "metadata": {
        "id": "HwBDS-R5Xva-"
      },
      "outputs": [],
      "source": [
        "#with ZipFile('images-indus-hospital.zip', 'r') as images_indus_hospital:\n",
        "#  images_indus_hospital.extractall()\n",
        "\n",
        "#os.rename('/content/images', '/content/images-indus-hospital')\n",
        "\n",
        "#! kaggle datasets download paultimothymooney/chest-xray-pneumonia\n",
        "#! unzip chest-xray-pneumonia.zip"
      ]
    },
    {
      "cell_type": "code",
      "execution_count": null,
      "metadata": {
        "id": "OS2tOXYi9vus"
      },
      "outputs": [],
      "source": [
        "with ZipFile('indussample.zip', 'r') as indussample:\n",
        "  indussample.extractall()\n"
      ]
    },
    {
      "cell_type": "markdown",
      "metadata": {
        "id": "1qSJ7Nik2cls"
      },
      "source": [
        "## creating a directory to store classified images\n"
      ]
    },
    {
      "cell_type": "code",
      "execution_count": null,
      "metadata": {
        "colab": {
          "base_uri": "https://localhost:8080/"
        },
        "id": "6a3hU-NX2clt",
        "outputId": "8d90a960-5389-455e-c76a-e87e7349b8bc"
      },
      "outputs": [
        {
          "output_type": "stream",
          "name": "stdout",
          "text": [
            "folder created successfully\n"
          ]
        }
      ],
      "source": [
        "TARGET = \"/content/Classified images\"\n",
        "\n",
        "if not os.path.exists(TARGET):\n",
        "    os.mkdir(TARGET)\n",
        "    print(\"folder created successfully\")"
      ]
    },
    {
      "cell_type": "markdown",
      "metadata": {
        "id": "IM10DC272clu"
      },
      "source": [
        "## Sampling from images available. we wont pick all images as it may disturb the class balance, hence we have used 50% normal images and 50% abnormal or anomoly images."
      ]
    },
    {
      "cell_type": "code",
      "execution_count": null,
      "metadata": {
        "id": "0lgtSC2p2clv"
      },
      "outputs": [],
      "source": [
        "import random\n",
        "target = \"target\"\n",
        "indus_image_file = \"/content/training/Normal\" #images-indus-hospital"
      ]
    },
    {
      "cell_type": "code",
      "execution_count": null,
      "metadata": {
        "colab": {
          "base_uri": "https://localhost:8080/"
        },
        "id": "i2ZgGmnO2clw",
        "outputId": "23ddf263-7da0-4dfb-f6f4-8a49cf05d1df"
      },
      "outputs": [
        {
          "output_type": "execute_result",
          "data": {
            "text/plain": [
              "147"
            ]
          },
          "metadata": {},
          "execution_count": 8
        }
      ],
      "source": [
        "image_names = os.listdir(indus_image_file)\n",
        "len(image_names)"
      ]
    },
    {
      "cell_type": "markdown",
      "metadata": {
        "id": "mYFgBJz_2clx"
      },
      "source": [
        "## Now we checked the total images we have in the normal dataset folder. We saw using the len(images) function that we have a total of 4999 images in our data set. \n",
        "\n",
        "## to make this problem more generalized, what we now do is that we will randomly sample out some images from these 4999 images. \n",
        "\n",
        "## For this we use the random.shuffle() function which will randomly pick some image names from our overall dataset."
      ]
    },
    {
      "cell_type": "code",
      "execution_count": null,
      "metadata": {
        "id": "ohUYdG3k2clx"
      },
      "outputs": [],
      "source": [
        "random.shuffle(image_names)"
      ]
    },
    {
      "cell_type": "markdown",
      "metadata": {
        "id": "HfgWO4Gw2cly"
      },
      "source": [
        "## Next we run a loop to make the random selection; so for instance if we have 4999 images, we will pick say the first 120 images out of the 4999"
      ]
    },
    {
      "cell_type": "code",
      "execution_count": null,
      "metadata": {
        "colab": {
          "base_uri": "https://localhost:8080/"
        },
        "id": "EKngfhMz2cly",
        "outputId": "41c0cb00-369c-4063-a475-8d3936f01342"
      },
      "outputs": [
        {
          "output_type": "stream",
          "name": "stdout",
          "text": [
            "copied 0 (1024, 1024, 3)\n",
            "copied 1 (1024, 1024, 3)\n",
            "copied 2 (1024, 1024, 3)\n",
            "copied 3 (1024, 1024, 3)\n",
            "copied 4 (1024, 1024, 3)\n",
            "copied 5 (1024, 1024, 3)\n",
            "copied 6 (1024, 1024, 3)\n",
            "copied 7 (1024, 1024, 3)\n",
            "copied 8 (1024, 1024, 3)\n",
            "copied 9 (1024, 1024, 3)\n",
            "copied 10 (1024, 1024, 3)\n",
            "copied 11 (1024, 1024, 3)\n",
            "copied 12 (1024, 1024, 3)\n",
            "copied 13 (1024, 1024, 3)\n",
            "copied 14 (1024, 1024, 3)\n",
            "copied 15 (1024, 1024, 3)\n",
            "copied 16 (1024, 1024, 3)\n",
            "copied 17 (1024, 1024, 3)\n",
            "copied 18 (1024, 1024, 3)\n",
            "copied 19 (1024, 1024, 3)\n",
            "copied 20 (1024, 1024, 3)\n",
            "copied 21 (1024, 1024, 3)\n",
            "copied 22 (1024, 1024, 3)\n",
            "copied 23 (1024, 1024, 3)\n",
            "copied 24 (1024, 1024, 3)\n",
            "copied 25 (1024, 1024, 3)\n",
            "copied 26 (1024, 1024, 3)\n",
            "copied 27 (1024, 1024, 3)\n",
            "copied 28 (1024, 1024, 3)\n",
            "copied 29 (1024, 1024, 3)\n",
            "copied 30 (1024, 1024, 3)\n",
            "copied 31 (1024, 1024, 3)\n",
            "copied 32 (1024, 1024, 3)\n",
            "copied 33 (1024, 1024, 3)\n",
            "copied 34 (1024, 1024, 3)\n",
            "copied 35 (1024, 1024, 3)\n",
            "copied 36 (1024, 1024, 3)\n",
            "copied 37 (1024, 1024, 3)\n",
            "copied 38 (1024, 1024, 3)\n",
            "copied 39 (1024, 1024, 3)\n",
            "copied 40 (1024, 1024, 3)\n",
            "copied 41 (1024, 1024, 3)\n",
            "copied 42 (1024, 1024, 3)\n",
            "copied 43 (1024, 1024, 3)\n",
            "copied 44 (1024, 1024, 3)\n",
            "copied 45 (1024, 1024, 3)\n",
            "copied 46 (1024, 1024, 3)\n",
            "copied 47 (1024, 1024, 3)\n",
            "copied 48 (1024, 1024, 3)\n",
            "copied 49 (1024, 1024, 3)\n",
            "copied 50 (1024, 1024, 3)\n",
            "copied 51 (1024, 1024, 3)\n",
            "copied 52 (1024, 1024, 3)\n",
            "copied 53 (1024, 1024, 3)\n",
            "copied 54 (1024, 1024, 3)\n",
            "copied 55 (1024, 1024, 3)\n",
            "copied 56 (1024, 1024, 3)\n",
            "copied 57 (1024, 1024, 3)\n",
            "copied 58 (1024, 1024, 3)\n",
            "copied 59 (1024, 1024, 3)\n",
            "copied 60 (1024, 1024, 3)\n",
            "copied 61 (1024, 1024, 3)\n",
            "copied 62 (1024, 1024, 3)\n",
            "copied 63 (1024, 1024, 3)\n",
            "copied 64 (1024, 1024, 3)\n",
            "copied 65 (1024, 1024, 3)\n",
            "copied 66 (1024, 1024, 3)\n",
            "copied 67 (1024, 1024, 3)\n",
            "copied 68 (1024, 1024, 3)\n",
            "copied 69 (1024, 1024, 3)\n",
            "copied 70 (1024, 1024, 3)\n",
            "copied 71 (1024, 1024, 3)\n",
            "copied 72 (1024, 1024, 3)\n",
            "copied 73 (1024, 1024, 3)\n",
            "copied 74 (1024, 1024, 3)\n",
            "copied 75 (1024, 1024, 3)\n",
            "copied 76 (1024, 1024, 3)\n",
            "copied 77 (1024, 1024, 3)\n",
            "copied 78 (1024, 1024, 3)\n",
            "copied 79 (1024, 1024, 3)\n",
            "copied 80 (1024, 1024, 3)\n",
            "copied 81 (1024, 1024, 3)\n",
            "copied 82 (1024, 1024, 3)\n",
            "copied 83 (1024, 1024, 3)\n",
            "copied 84 (1024, 1024, 3)\n",
            "copied 85 (1024, 1024, 3)\n",
            "copied 86 (1024, 1024, 3)\n",
            "copied 87 (1024, 1024, 3)\n",
            "copied 88 (1024, 1024, 3)\n",
            "copied 89 (1024, 1024, 3)\n",
            "copied 90 (1024, 1024, 3)\n",
            "copied 91 (1024, 1024, 3)\n",
            "copied 92 (1024, 1024, 3)\n",
            "copied 93 (1024, 1024, 3)\n",
            "copied 94 (1024, 1024, 3)\n",
            "copied 95 (1024, 1024, 3)\n",
            "copied 96 (1024, 1024, 3)\n",
            "copied 97 (1024, 1024, 3)\n",
            "copied 98 (1024, 1024, 3)\n",
            "copied 99 (1024, 1024, 3)\n",
            "copied 100 (1024, 1024, 3)\n",
            "copied 101 (1024, 1024, 3)\n",
            "copied 102 (1024, 1024, 3)\n",
            "copied 103 (1024, 1024, 3)\n",
            "copied 104 (1024, 1024, 3)\n",
            "copied 105 (1024, 1024, 3)\n",
            "copied 106 (1024, 1024, 3)\n",
            "copied 107 (1024, 1024, 3)\n",
            "copied 108 (1024, 1024, 3)\n",
            "copied 109 (1024, 1024, 3)\n",
            "copied 110 (1024, 1024, 3)\n",
            "copied 111 (1024, 1024, 3)\n",
            "copied 112 (1024, 1024, 3)\n",
            "copied 113 (1024, 1024, 3)\n",
            "copied 114 (1024, 1024, 3)\n",
            "copied 115 (1024, 1024, 3)\n",
            "copied 116 (1024, 1024, 3)\n",
            "copied 117 (1024, 1024, 3)\n",
            "copied 118 (1024, 1024, 3)\n",
            "copied 119 (1024, 1024, 3)\n",
            "copied 120 (1024, 1024, 3)\n",
            "copied 121 (1024, 1024, 3)\n",
            "copied 122 (1024, 1024, 3)\n",
            "copied 123 (1024, 1024, 3)\n",
            "copied 124 (1024, 1024, 3)\n",
            "copied 125 (1024, 1024, 3)\n",
            "copied 126 (1024, 1024, 3)\n",
            "copied 127 (1024, 1024, 3)\n",
            "copied 128 (1024, 1024, 3)\n",
            "copied 129 (1024, 1024, 3)\n",
            "copied 130 (1024, 1024, 3)\n",
            "copied 131 (1024, 1024, 3)\n",
            "copied 132 (1024, 1024, 3)\n",
            "copied 133 (1024, 1024, 3)\n",
            "copied 134 (1024, 1024, 3)\n",
            "copied 135 (1024, 1024, 3)\n",
            "copied 136 (1024, 1024, 3)\n",
            "copied 137 (1024, 1024, 3)\n",
            "copied 138 (1024, 1024, 3)\n",
            "copied 139 (1024, 1024, 3)\n",
            "copied 140 (1024, 1024, 3)\n",
            "copied 141 (1024, 1024, 3)\n",
            "copied 142 (1024, 1024, 3)\n",
            "copied 143 (1024, 1024, 3)\n",
            "copied 144 (1024, 1024, 3)\n",
            "copied 145 (1024, 1024, 3)\n",
            "copied 146 (1024, 1024, 3)\n"
          ]
        }
      ],
      "source": [
        "for i in range(len(image_names)): # 200\n",
        "    image_name = image_names[i]\n",
        "    image_path = os.path.join(indus_image_file,image_name)\n",
        "  \n",
        "    target_path = os.path.join(TARGET,image_name)\n",
        "    \n",
        "    im = cv2.imread(image_path)\n",
        "    #originalImage = cv2.imread(image_path)\n",
        "    #grayImage = cv2.cvtColor(originalImage, cv2.COLOR_BGR2GRAY)\n",
        "\n",
        "    shutil.copy2(image_path,target_path)\n",
        "    print(\"copied\",i,im.shape)"
      ]
    },
    {
      "cell_type": "code",
      "execution_count": null,
      "metadata": {
        "id": "Jjr9y8kJ2clz"
      },
      "outputs": [],
      "source": [
        "Train = \"/content/training\"\n",
        "Validation = \"/content/val\""
      ]
    },
    {
      "cell_type": "markdown",
      "metadata": {
        "id": "6l19CchR2clz"
      },
      "source": [
        "## Now we create our initial CNN model:\n",
        "\n",
        "## the model is build using keras and works as a sequential model such that there are multiple layers, with each layer having some number of filters. \n",
        "\n",
        "## we have use a convolutional layer with filter size 32 first. \n",
        "\n",
        "## using a smaller filter size here will help to look at the smaller areas of the overall image pixels and detect the patterns. \n",
        "\n",
        "## this is particularly neccessary in the begininning as we want to capture the anomoly patterns of the x-ray images to see if some issue exists on not. \n",
        "\n",
        "## this will allow it learn a hidden pattern; \n",
        "## later as we will go deeper in the network, the receptive field of the CNN layer will increases. This will allow the model to learn high level features later on in the model. "
      ]
    },
    {
      "cell_type": "code",
      "execution_count": null,
      "metadata": {
        "id": "1hfTIpuZ2cl0"
      },
      "outputs": [],
      "source": [
        "model = Sequential()\n",
        "model.add(Conv2D(32,kernel_size=(3,3),activation='relu', input_shape=(224, 224, 3)))\n",
        "model.add(Conv2D(64,(3,3),activation='relu',input_shape=(224, 224, 3)))\n",
        "model.add(MaxPooling2D(pool_size=(2,2)))\n",
        "model.add(Dropout(0.25))\n",
        "\n",
        "model.add(Conv2D(64,(3,3),activation='relu'))\n",
        "model.add(MaxPooling2D(pool_size=(2,2)))\n",
        "model.add(Dropout(0.25))\n",
        "\n",
        "model.add(Conv2D(128,(3,3),activation='relu'))\n",
        "model.add(MaxPooling2D(pool_size=(2,2)))\n",
        "model.add(Dropout(0.25))\n",
        "\n",
        "model.add(Flatten())\n",
        "model.add(Dense(64,activation='relu'))\n",
        "model.add(Dropout(0.5))\n",
        "\n",
        "##final layer\n",
        "model.add(Dense(1,activation='sigmoid'))\n",
        "\n",
        "model.compile(loss=keras.losses.binary_crossentropy,optimizer='adam',metrics=['accuracy'])\n"
      ]
    },
    {
      "cell_type": "markdown",
      "metadata": {
        "id": "uygz3fOO2cl0"
      },
      "source": [
        "## For this model, the kernal size is kept as 3x3 which is a standard size used generally for initializing CNNs and the activation function used in the layers is relu in this case. \n",
        "\n",
        "## in the second layer we use a filter size of 64 to get 64 feature selectors this time. \n",
        "\n",
        "## next we have added the pooling layers using the default size. "
      ]
    },
    {
      "cell_type": "markdown",
      "metadata": {
        "id": "-sx-LeRQ2cl0"
      },
      "source": [
        "## we have also added a droppout layer in our model to deal with any form of overfitting that may occur"
      ]
    },
    {
      "cell_type": "markdown",
      "metadata": {
        "id": "pYzsmLUz2cl1"
      },
      "source": [
        "## note that as we go deeper in the network we increase the number of filters to 128 as we want more feature maps generated for efficient learning \n"
      ]
    },
    {
      "cell_type": "markdown",
      "metadata": {
        "id": "97ESRBsw2cl1"
      },
      "source": [
        "## Final layer\n",
        "\n",
        "### for our CNN we have used 1 neuron in the final layer as we are performing binary classification hence we just need one neuron. furthermore we have used sigmoid activation in the final layer because we expect an output as a binary 1 or 0 and the sigmoid function maps the values between this range."
      ]
    },
    {
      "cell_type": "markdown",
      "metadata": {
        "id": "98rS7kgl2cl1"
      },
      "source": [
        "## Model Performance Metric: \n",
        "\n",
        "### to measure the performance of our designed model, we have used optimizer as adam (which is basically doing gradient descent) and loss as binary cross entropy loss along with performance metric as accuracy."
      ]
    },
    {
      "cell_type": "code",
      "execution_count": null,
      "metadata": {
        "colab": {
          "base_uri": "https://localhost:8080/"
        },
        "id": "y3MJbMLh2cl2",
        "outputId": "2a41df21-de87-4392-8bb9-9fea46189660"
      },
      "outputs": [
        {
          "output_type": "stream",
          "name": "stdout",
          "text": [
            "Model: \"sequential\"\n",
            "_________________________________________________________________\n",
            " Layer (type)                Output Shape              Param #   \n",
            "=================================================================\n",
            " conv2d (Conv2D)             (None, 222, 222, 32)      896       \n",
            "                                                                 \n",
            " conv2d_1 (Conv2D)           (None, 220, 220, 64)      18496     \n",
            "                                                                 \n",
            " max_pooling2d (MaxPooling2D  (None, 110, 110, 64)     0         \n",
            " )                                                               \n",
            "                                                                 \n",
            " dropout (Dropout)           (None, 110, 110, 64)      0         \n",
            "                                                                 \n",
            " conv2d_2 (Conv2D)           (None, 108, 108, 64)      36928     \n",
            "                                                                 \n",
            " max_pooling2d_1 (MaxPooling  (None, 54, 54, 64)       0         \n",
            " 2D)                                                             \n",
            "                                                                 \n",
            " dropout_1 (Dropout)         (None, 54, 54, 64)        0         \n",
            "                                                                 \n",
            " conv2d_3 (Conv2D)           (None, 52, 52, 128)       73856     \n",
            "                                                                 \n",
            " max_pooling2d_2 (MaxPooling  (None, 26, 26, 128)      0         \n",
            " 2D)                                                             \n",
            "                                                                 \n",
            " dropout_2 (Dropout)         (None, 26, 26, 128)       0         \n",
            "                                                                 \n",
            " flatten (Flatten)           (None, 86528)             0         \n",
            "                                                                 \n",
            " dense (Dense)               (None, 64)                5537856   \n",
            "                                                                 \n",
            " dropout_3 (Dropout)         (None, 64)                0         \n",
            "                                                                 \n",
            " dense_1 (Dense)             (None, 1)                 65        \n",
            "                                                                 \n",
            "=================================================================\n",
            "Total params: 5,668,097\n",
            "Trainable params: 5,668,097\n",
            "Non-trainable params: 0\n",
            "_________________________________________________________________\n"
          ]
        }
      ],
      "source": [
        "model.summary()"
      ]
    },
    {
      "cell_type": "markdown",
      "metadata": {
        "id": "7--8liIW2cl2"
      },
      "source": [
        "## Model Training along with Data Augmentation:"
      ]
    },
    {
      "cell_type": "code",
      "execution_count": null,
      "metadata": {
        "id": "S6rfWXBc2cl2"
      },
      "outputs": [],
      "source": [
        "train_gen = image.ImageDataGenerator(\n",
        "    rescale= 1./255,\n",
        "    shear_range= 0.2,\n",
        "    zoom_range =0.2,\n",
        "    horizontal_flip = True,\n",
        "\n",
        ")"
      ]
    },
    {
      "cell_type": "code",
      "source": [
        "test_dataset = image.ImageDataGenerator(rescale = 1./255)"
      ],
      "metadata": {
        "id": "3onWbH19zBZ9"
      },
      "execution_count": null,
      "outputs": []
    },
    {
      "cell_type": "code",
      "execution_count": null,
      "metadata": {
        "colab": {
          "base_uri": "https://localhost:8080/"
        },
        "id": "SmwGDCYZ2cl3",
        "outputId": "9fe99960-1717-401a-ec09-e43bf2b8d489"
      },
      "outputs": [
        {
          "output_type": "stream",
          "name": "stdout",
          "text": [
            "Found 300 images belonging to 2 classes.\n"
          ]
        }
      ],
      "source": [
        "train_generator = train_gen.flow_from_directory(\n",
        "      '/content/training',\n",
        "    target_size = (224, 224),\n",
        "    batch_size = 32,\n",
        "    class_mode = 'binary'\n",
        ")\n"
      ]
    },
    {
      "cell_type": "code",
      "execution_count": null,
      "metadata": {
        "colab": {
          "base_uri": "https://localhost:8080/"
        },
        "id": "ungUEhEK2cl3",
        "outputId": "50a84be1-536c-455d-e1fe-9a9e8c8deba4"
      },
      "outputs": [
        {
          "output_type": "execute_result",
          "data": {
            "text/plain": [
              "{'Abnormality': 0, 'Normal': 1}"
            ]
          },
          "metadata": {},
          "execution_count": 17
        }
      ],
      "source": [
        "train_generator.class_indices"
      ]
    },
    {
      "cell_type": "code",
      "execution_count": null,
      "metadata": {
        "colab": {
          "base_uri": "https://localhost:8080/"
        },
        "id": "wxmT7JQb2cl3",
        "outputId": "44eab676-15c0-4e10-bc32-1f9790454bdc"
      },
      "outputs": [
        {
          "output_type": "stream",
          "name": "stdout",
          "text": [
            "Found 16 images belonging to 2 classes.\n"
          ]
        }
      ],
      "source": [
        "validation_generator = test_dataset.flow_from_directory(\n",
        "      '/content/val',\n",
        "    target_size = (224,224),\n",
        "    batch_size = 32,\n",
        "    class_mode = 'binary'\n",
        "\n",
        ")"
      ]
    },
    {
      "cell_type": "code",
      "execution_count": null,
      "metadata": {
        "colab": {
          "base_uri": "https://localhost:8080/"
        },
        "id": "igJoP_eZ2cl4",
        "outputId": "88282cd5-9af1-45a2-9009-5d2669e1061d"
      },
      "outputs": [
        {
          "output_type": "stream",
          "name": "stdout",
          "text": [
            "Epoch 1/10\n",
            "8/8 [==============================] - ETA: 0s - batch: 3.5000 - size: 29.5000 - loss: 0.7656 - accuracy: 0.6653"
          ]
        },
        {
          "output_type": "stream",
          "name": "stderr",
          "text": [
            "/usr/local/lib/python3.7/dist-packages/keras/engine/training_v1.py:2057: UserWarning: `Model.state_updates` will be removed in a future version. This property should not be used in TensorFlow 2.0, as `updates` are applied automatically.\n",
            "  updates = self.state_updates\n"
          ]
        },
        {
          "output_type": "stream",
          "name": "stdout",
          "text": [
            "\b\b\b\b\b\b\b\b\b\b\b\b\b\b\b\b\b\b\b\b\b\b\b\b\b\b\b\b\b\b\b\b\b\b\b\b\b\b\b\b\b\b\b\b\b\b\b\b\b\b\b\b\b\b\b\b\b\b\b\b\b\b\b\b\b\b\b\b\b\b\b\b\b\b\b\b\b\b\b\b\b\b\b\b\b\b\b\b\b\b\b\b\b\b\b\b\b\b\b\b\b\b\b\b\b\b\b\b\b\b\b\b\r8/8 [==============================] - 19s 642ms/step - batch: 3.5000 - size: 29.5000 - loss: 0.7675 - accuracy: 0.6653 - val_loss: 0.7254 - val_accuracy: 0.5000\n",
            "Epoch 2/10\n",
            "8/8 [==============================] - 6s 819ms/step - batch: 3.5000 - size: 29.5000 - loss: 0.4941 - accuracy: 0.7585 - val_loss: 0.9349 - val_accuracy: 0.4375\n",
            "Epoch 3/10\n",
            "8/8 [==============================] - 8s 998ms/step - batch: 3.5000 - size: 32.0000 - loss: 0.3817 - accuracy: 0.8594 - val_loss: 0.9575 - val_accuracy: 0.4375\n",
            "Epoch 4/10\n",
            "8/8 [==============================] - 7s 939ms/step - batch: 3.5000 - size: 29.5000 - loss: 0.2585 - accuracy: 0.9110 - val_loss: 1.4942 - val_accuracy: 0.4375\n",
            "Epoch 5/10\n",
            "8/8 [==============================] - 7s 917ms/step - batch: 3.5000 - size: 29.5000 - loss: 0.2705 - accuracy: 0.9153 - val_loss: 1.2505 - val_accuracy: 0.3750\n",
            "Epoch 6/10\n",
            "8/8 [==============================] - 7s 925ms/step - batch: 3.5000 - size: 29.5000 - loss: 0.2639 - accuracy: 0.9153 - val_loss: 1.1430 - val_accuracy: 0.3125\n",
            "Epoch 7/10\n",
            "8/8 [==============================] - 8s 1s/step - batch: 3.5000 - size: 32.0000 - loss: 0.2660 - accuracy: 0.8789 - val_loss: 1.2738 - val_accuracy: 0.4375\n",
            "Epoch 8/10\n",
            "8/8 [==============================] - 9s 1s/step - batch: 3.5000 - size: 29.5000 - loss: 0.1880 - accuracy: 0.9322 - val_loss: 1.7049 - val_accuracy: 0.3750\n",
            "Epoch 9/10\n",
            "8/8 [==============================] - 7s 928ms/step - batch: 3.5000 - size: 29.5000 - loss: 0.2493 - accuracy: 0.9195 - val_loss: 1.4771 - val_accuracy: 0.4375\n",
            "Epoch 10/10\n",
            "8/8 [==============================] - 7s 914ms/step - batch: 3.5000 - size: 29.5000 - loss: 0.2488 - accuracy: 0.9322 - val_loss: 1.0724 - val_accuracy: 0.4375\n"
          ]
        }
      ],
      "source": [
        "hist = model.fit(\n",
        "    train_generator,\n",
        "    steps_per_epoch = 8,\n",
        "    epochs = 10,\n",
        "    validation_data = validation_generator,\n",
        "    validation_steps=2\n",
        "    \n",
        ")"
      ]
    },
    {
      "cell_type": "markdown",
      "metadata": {
        "id": "I7LAa3S8jWyg"
      },
      "source": [
        "# **LeNet** **Implementation**"
      ]
    },
    {
      "cell_type": "markdown",
      "metadata": {
        "id": "HRVUqv_3jmkg"
      },
      "source": [
        "LeNet-5 layers:\n",
        "Convolution #1. Input = 224x224x3. Output = 28x28x6 conv2d\n",
        "\n",
        "SubSampling #1. Input = 224x224x6. Output = 14x14x6. SubSampling is simply \n",
        "\n",
        "Average Pooling so we use avg_pool\n",
        "\n",
        "Convolution #2. Input = 14x14x6. Output = 10x10x16 conv2d\n",
        "\n",
        "SubSampling #2. Input = 10x10x16. Output = 5x5x16 avg_pool\n",
        "\n",
        "Fully Connected #1. Input = 5x5x16. Output = 120\n",
        "\n",
        "Fully Connected #2. Input = 120. Output = 84\n",
        "\n",
        "Output 10"
      ]
    },
    {
      "cell_type": "code",
      "execution_count": null,
      "metadata": {
        "id": "UbgWOF0CjVfM"
      },
      "outputs": [],
      "source": [
        "model2 = keras.Sequential()\n",
        "\n",
        "model2.add(layers.Conv2D(filters=6, kernel_size=(3, 3), activation='relu', input_shape=(224, 224, 3)))\n",
        "model2.add(layers.AveragePooling2D())\n",
        "\n",
        "model2.add(layers.Conv2D(filters=16, kernel_size=(3, 3), activation='relu',input_shape=(224, 224, 3)))\n",
        "model2.add(layers.AveragePooling2D())\n",
        "model2.add(layers.Flatten())\n",
        "\n",
        "model2.add(layers.Dense(units=120, activation='relu'))\n",
        "\n",
        "model2.add(layers.Dense(units=84, activation='relu'))\n",
        "\n",
        "model2.add(layers.Dense(units=1, activation = 'softmax'))\n"
      ]
    },
    {
      "cell_type": "code",
      "execution_count": null,
      "metadata": {
        "colab": {
          "base_uri": "https://localhost:8080/"
        },
        "id": "E6x7NVrdkcib",
        "outputId": "c16c50fa-5952-4df2-97ac-2d4a94c64d0a"
      },
      "outputs": [
        {
          "output_type": "stream",
          "name": "stdout",
          "text": [
            "Model: \"sequential_1\"\n",
            "_________________________________________________________________\n",
            " Layer (type)                Output Shape              Param #   \n",
            "=================================================================\n",
            " conv2d_4 (Conv2D)           (None, 222, 222, 6)       168       \n",
            "                                                                 \n",
            " average_pooling2d (AverageP  (None, 111, 111, 6)      0         \n",
            " ooling2D)                                                       \n",
            "                                                                 \n",
            " conv2d_5 (Conv2D)           (None, 109, 109, 16)      880       \n",
            "                                                                 \n",
            " average_pooling2d_1 (Averag  (None, 54, 54, 16)       0         \n",
            " ePooling2D)                                                     \n",
            "                                                                 \n",
            " flatten_1 (Flatten)         (None, 46656)             0         \n",
            "                                                                 \n",
            " dense_2 (Dense)             (None, 120)               5598840   \n",
            "                                                                 \n",
            " dense_3 (Dense)             (None, 84)                10164     \n",
            "                                                                 \n",
            " dense_4 (Dense)             (None, 1)                 85        \n",
            "                                                                 \n",
            "=================================================================\n",
            "Total params: 5,610,137\n",
            "Trainable params: 5,610,137\n",
            "Non-trainable params: 0\n",
            "_________________________________________________________________\n"
          ]
        }
      ],
      "source": [
        "model2.summary()"
      ]
    },
    {
      "cell_type": "code",
      "execution_count": null,
      "metadata": {
        "id": "KDs5XGjykkaM"
      },
      "outputs": [],
      "source": [
        "model2.compile(loss='binary_crossentropy', optimizer=tf.keras.optimizers.Adam(), metrics=['accuracy'])"
      ]
    },
    {
      "cell_type": "code",
      "execution_count": null,
      "metadata": {
        "id": "6RhryD-ilKWS",
        "colab": {
          "base_uri": "https://localhost:8080/"
        },
        "outputId": "88385c40-ccc6-4cc8-99fa-935581226f05"
      },
      "outputs": [
        {
          "output_type": "stream",
          "name": "stdout",
          "text": [
            "Epoch 1/15\n",
            "6/6 [==============================] - ETA: 0s - batch: 2.5000 - size: 32.0000 - loss: 3.5259 - accuracy: 0.5052"
          ]
        },
        {
          "output_type": "stream",
          "name": "stderr",
          "text": [
            "/usr/local/lib/python3.7/dist-packages/keras/engine/training_v1.py:2057: UserWarning: `Model.state_updates` will be removed in a future version. This property should not be used in TensorFlow 2.0, as `updates` are applied automatically.\n",
            "  updates = self.state_updates\n"
          ]
        },
        {
          "output_type": "stream",
          "name": "stdout",
          "text": [
            "\b\b\b\b\b\b\b\b\b\b\b\b\b\b\b\b\b\b\b\b\b\b\b\b\b\b\b\b\b\b\b\b\b\b\b\b\b\b\b\b\b\b\b\b\b\b\b\b\b\b\b\b\b\b\b\b\b\b\b\b\b\b\b\b\b\b\b\b\b\b\b\b\b\b\b\b\b\b\b\b\b\b\b\b\b\b\b\b\b\b\b\b\b\b\b\b\b\b\b\b\b\b\b\b\b\b\b\b\b\b\b\b\r6/6 [==============================] - 8s 1s/step - batch: 2.5000 - size: 32.0000 - loss: 3.5259 - accuracy: 0.5052 - val_loss: 2.6474 - val_accuracy: 0.5000\n",
            "Epoch 2/15\n",
            "6/6 [==============================] - 5s 887ms/step - batch: 2.5000 - size: 28.6667 - loss: 1.1316 - accuracy: 0.4535 - val_loss: 1.4950 - val_accuracy: 0.5000\n",
            "Epoch 3/15\n",
            "6/6 [==============================] - 5s 937ms/step - batch: 2.5000 - size: 32.0000 - loss: 0.6562 - accuracy: 0.4948 - val_loss: 0.9295 - val_accuracy: 0.5000\n",
            "Epoch 4/15\n",
            "6/6 [==============================] - 5s 836ms/step - batch: 2.5000 - size: 28.6667 - loss: 0.4455 - accuracy: 0.5000 - val_loss: 1.3020 - val_accuracy: 0.5000\n",
            "Epoch 5/15\n",
            "6/6 [==============================] - 5s 823ms/step - batch: 2.5000 - size: 28.6667 - loss: 0.4214 - accuracy: 0.4942 - val_loss: 1.0160 - val_accuracy: 0.5000\n",
            "Epoch 6/15\n",
            "6/6 [==============================] - 5s 926ms/step - batch: 2.5000 - size: 32.0000 - loss: 0.2402 - accuracy: 0.5208 - val_loss: 1.7426 - val_accuracy: 0.5000\n",
            "Epoch 7/15\n",
            "6/6 [==============================] - 4s 811ms/step - batch: 2.5000 - size: 25.3333 - loss: 0.2587 - accuracy: 0.4211 - val_loss: 1.2370 - val_accuracy: 0.5000\n",
            "Epoch 8/15\n",
            "6/6 [==============================] - 5s 932ms/step - batch: 2.5000 - size: 32.0000 - loss: 0.2556 - accuracy: 0.5000 - val_loss: 1.6280 - val_accuracy: 0.5000\n",
            "Epoch 9/15\n",
            "6/6 [==============================] - 5s 834ms/step - batch: 2.5000 - size: 28.6667 - loss: 0.1658 - accuracy: 0.4826 - val_loss: 1.6017 - val_accuracy: 0.5000\n",
            "Epoch 10/15\n",
            "6/6 [==============================] - 5s 931ms/step - batch: 2.5000 - size: 32.0000 - loss: 0.1944 - accuracy: 0.5104 - val_loss: 2.4290 - val_accuracy: 0.5000\n",
            "Epoch 11/15\n",
            "6/6 [==============================] - 5s 886ms/step - batch: 2.5000 - size: 28.6667 - loss: 0.1718 - accuracy: 0.4942 - val_loss: 2.0272 - val_accuracy: 0.5000\n",
            "Epoch 12/15\n",
            "6/6 [==============================] - 5s 944ms/step - batch: 2.5000 - size: 32.0000 - loss: 0.1461 - accuracy: 0.4740 - val_loss: 2.4815 - val_accuracy: 0.5000\n",
            "Epoch 13/15\n",
            "6/6 [==============================] - 4s 823ms/step - batch: 2.5000 - size: 28.6667 - loss: 0.1826 - accuracy: 0.5000 - val_loss: 2.2040 - val_accuracy: 0.5000\n",
            "Epoch 14/15\n",
            "6/6 [==============================] - 5s 946ms/step - batch: 2.5000 - size: 32.0000 - loss: 0.1181 - accuracy: 0.4896 - val_loss: 2.7958 - val_accuracy: 0.5000\n",
            "Epoch 15/15\n",
            "6/6 [==============================] - 4s 815ms/step - batch: 2.5000 - size: 28.6667 - loss: 0.1586 - accuracy: 0.4942 - val_loss: 2.4440 - val_accuracy: 0.5000\n"
          ]
        }
      ],
      "source": [
        "hist = model2.fit(\n",
        "    train_generator,\n",
        "    steps_per_epoch = 6,\n",
        "    epochs = 15,\n",
        "    validation_data = validation_generator,\n",
        "    validation_steps=2\n",
        "    \n",
        ")"
      ]
    },
    {
      "cell_type": "markdown",
      "metadata": {
        "id": "rznHrl6StVtW"
      },
      "source": [
        "#**AlexNet**:"
      ]
    },
    {
      "cell_type": "code",
      "execution_count": null,
      "metadata": {
        "colab": {
          "base_uri": "https://localhost:8080/"
        },
        "id": "X4Tztd0JoVGd",
        "outputId": "be994f0c-45bc-405b-81a0-a1967377f1e6"
      },
      "outputs": [
        {
          "output_type": "stream",
          "name": "stdout",
          "text": [
            "WARNING:tensorflow:From /usr/local/lib/python3.7/dist-packages/keras/layers/normalization/batch_normalization.py:532: _colocate_with (from tensorflow.python.framework.ops) is deprecated and will be removed in a future version.\n",
            "Instructions for updating:\n",
            "Colocations handled automatically by placer.\n",
            "Model: \"sequential_2\"\n",
            "_________________________________________________________________\n",
            " Layer (type)                Output Shape              Param #   \n",
            "=================================================================\n",
            " conv2d_6 (Conv2D)           (None, 56, 56, 96)        34944     \n",
            "                                                                 \n",
            " batch_normalization (BatchN  (None, 56, 56, 96)       384       \n",
            " ormalization)                                                   \n",
            "                                                                 \n",
            " activation (Activation)     (None, 56, 56, 96)        0         \n",
            "                                                                 \n",
            " max_pooling2d_3 (MaxPooling  (None, 28, 28, 96)       0         \n",
            " 2D)                                                             \n",
            "                                                                 \n",
            " conv2d_7 (Conv2D)           (None, 28, 28, 256)       614656    \n",
            "                                                                 \n",
            " batch_normalization_1 (Batc  (None, 28, 28, 256)      1024      \n",
            " hNormalization)                                                 \n",
            "                                                                 \n",
            " activation_1 (Activation)   (None, 28, 28, 256)       0         \n",
            "                                                                 \n",
            " max_pooling2d_4 (MaxPooling  (None, 14, 14, 256)      0         \n",
            " 2D)                                                             \n",
            "                                                                 \n",
            " conv2d_8 (Conv2D)           (None, 14, 14, 384)       885120    \n",
            "                                                                 \n",
            " batch_normalization_2 (Batc  (None, 14, 14, 384)      1536      \n",
            " hNormalization)                                                 \n",
            "                                                                 \n",
            " activation_2 (Activation)   (None, 14, 14, 384)       0         \n",
            "                                                                 \n",
            " conv2d_9 (Conv2D)           (None, 14, 14, 384)       1327488   \n",
            "                                                                 \n",
            " batch_normalization_3 (Batc  (None, 14, 14, 384)      1536      \n",
            " hNormalization)                                                 \n",
            "                                                                 \n",
            " activation_3 (Activation)   (None, 14, 14, 384)       0         \n",
            "                                                                 \n",
            " conv2d_10 (Conv2D)          (None, 14, 14, 256)       884992    \n",
            "                                                                 \n",
            " batch_normalization_4 (Batc  (None, 14, 14, 256)      1024      \n",
            " hNormalization)                                                 \n",
            "                                                                 \n",
            " activation_4 (Activation)   (None, 14, 14, 256)       0         \n",
            "                                                                 \n",
            " max_pooling2d_5 (MaxPooling  (None, 7, 7, 256)        0         \n",
            " 2D)                                                             \n",
            "                                                                 \n",
            " flatten_2 (Flatten)         (None, 12544)             0         \n",
            "                                                                 \n",
            " dense_5 (Dense)             (None, 4096)              51384320  \n",
            "                                                                 \n",
            " batch_normalization_5 (Batc  (None, 4096)             16384     \n",
            " hNormalization)                                                 \n",
            "                                                                 \n",
            " activation_5 (Activation)   (None, 4096)              0         \n",
            "                                                                 \n",
            " dropout_4 (Dropout)         (None, 4096)              0         \n",
            "                                                                 \n",
            " dense_6 (Dense)             (None, 4096)              16781312  \n",
            "                                                                 \n",
            " batch_normalization_6 (Batc  (None, 4096)             16384     \n",
            " hNormalization)                                                 \n",
            "                                                                 \n",
            " activation_6 (Activation)   (None, 4096)              0         \n",
            "                                                                 \n",
            " dropout_5 (Dropout)         (None, 4096)              0         \n",
            "                                                                 \n",
            " dense_7 (Dense)             (None, 1000)              4097000   \n",
            "                                                                 \n",
            " batch_normalization_7 (Batc  (None, 1000)             4000      \n",
            " hNormalization)                                                 \n",
            "                                                                 \n",
            " activation_7 (Activation)   (None, 1000)              0         \n",
            "                                                                 \n",
            " dropout_6 (Dropout)         (None, 1000)              0         \n",
            "                                                                 \n",
            " dense_8 (Dense)             (None, 1)                 1001      \n",
            "                                                                 \n",
            " batch_normalization_8 (Batc  (None, 1)                4         \n",
            " hNormalization)                                                 \n",
            "                                                                 \n",
            " activation_8 (Activation)   (None, 1)                 0         \n",
            "                                                                 \n",
            "=================================================================\n",
            "Total params: 76,053,109\n",
            "Trainable params: 76,031,971\n",
            "Non-trainable params: 21,138\n",
            "_________________________________________________________________\n"
          ]
        }
      ],
      "source": [
        "#Instantiation\n",
        "AlexNet = Sequential()\n",
        "\n",
        "#1st Convolutional Layer\n",
        "AlexNet.add(Conv2D(filters=96, input_shape=(224,224,3), kernel_size=(11,11), strides=(4,4), padding='same'))\n",
        "AlexNet.add(BatchNormalization())\n",
        "AlexNet.add(Activation('relu'))\n",
        "AlexNet.add(MaxPooling2D(pool_size=(2,2), strides=(2,2), padding='same'))\n",
        "\n",
        "#2nd Convolutional Layer\n",
        "AlexNet.add(Conv2D(filters=256, input_shape=(224,224,3), kernel_size=(5, 5), strides=(1,1), padding='same'))\n",
        "AlexNet.add(BatchNormalization())\n",
        "AlexNet.add(Activation('relu'))\n",
        "AlexNet.add(MaxPooling2D(pool_size=(2,2), strides=(2,2), padding='same'))\n",
        "\n",
        "#3rd Convolutional Layer\n",
        "AlexNet.add(Conv2D(filters=384,input_shape=(224,224,3), kernel_size=(3,3), strides=(1,1), padding='same'))\n",
        "AlexNet.add(BatchNormalization())\n",
        "AlexNet.add(Activation('relu'))\n",
        "\n",
        "#4th Convolutional Layer\n",
        "AlexNet.add(Conv2D(filters=384,input_shape=(224,224,3), kernel_size=(3,3), strides=(1,1), padding='same'))\n",
        "AlexNet.add(BatchNormalization())\n",
        "AlexNet.add(Activation('relu'))\n",
        "\n",
        "#5th Convolutional Layer\n",
        "AlexNet.add(Conv2D(filters=256, input_shape=(224,224,3), kernel_size=(3,3), strides=(1,1), padding='same'))\n",
        "AlexNet.add(BatchNormalization())\n",
        "AlexNet.add(Activation('relu'))\n",
        "AlexNet.add(MaxPooling2D(pool_size=(2,2), strides=(2,2), padding='same'))\n",
        "\n",
        "#Passing it to a Fully Connected layer\n",
        "AlexNet.add(Flatten())\n",
        "# 1st Fully Connected Layer\n",
        "AlexNet.add(Dense(4096, input_shape=(224,224,3,)))\n",
        "AlexNet.add(BatchNormalization())\n",
        "AlexNet.add(Activation('relu'))\n",
        "# Add Dropout to prevent overfitting\n",
        "AlexNet.add(Dropout(0.4))\n",
        "\n",
        "#2nd Fully Connected Layer\n",
        "AlexNet.add(Dense(4096))\n",
        "AlexNet.add(BatchNormalization())\n",
        "AlexNet.add(Activation('relu'))\n",
        "#Add Dropout\n",
        "AlexNet.add(Dropout(0.4))\n",
        "\n",
        "#3rd Fully Connected Layer\n",
        "AlexNet.add(Dense(1000))\n",
        "AlexNet.add(BatchNormalization())\n",
        "AlexNet.add(Activation('relu'))\n",
        "#Add Dropout\n",
        "AlexNet.add(Dropout(0.4))\n",
        "\n",
        "#Output Layer\n",
        "AlexNet.add(Dense(1))\n",
        "AlexNet.add(BatchNormalization())\n",
        "AlexNet.add(Activation('softmax'))\n",
        "\n",
        "#Model Summary\n",
        "AlexNet.summary()"
      ]
    },
    {
      "cell_type": "code",
      "execution_count": null,
      "metadata": {
        "id": "L9aXCcxluG9Y"
      },
      "outputs": [],
      "source": [
        "\n",
        "# Compiling the model\n",
        "AlexNet.compile(loss = 'binary_crossentropy', optimizer= 'adam', metrics=['accuracy'])"
      ]
    },
    {
      "cell_type": "code",
      "execution_count": null,
      "metadata": {
        "id": "OLFlO5Tix3UF",
        "colab": {
          "base_uri": "https://localhost:8080/"
        },
        "outputId": "5aa34384-0512-48eb-af9a-020a1e23c159"
      },
      "outputs": [
        {
          "output_type": "stream",
          "name": "stdout",
          "text": [
            "Epoch 1/15\n",
            "8/8 [==============================] - ETA: 0s - batch: 3.5000 - size: 29.5000 - loss: 0.4365 - accuracy: 0.4873"
          ]
        },
        {
          "output_type": "stream",
          "name": "stderr",
          "text": [
            "/usr/local/lib/python3.7/dist-packages/keras/engine/training_v1.py:2057: UserWarning: `Model.state_updates` will be removed in a future version. This property should not be used in TensorFlow 2.0, as `updates` are applied automatically.\n",
            "  updates = self.state_updates\n"
          ]
        },
        {
          "output_type": "stream",
          "name": "stdout",
          "text": [
            "\b\b\b\b\b\b\b\b\b\b\b\b\b\b\b\b\b\b\b\b\b\b\b\b\b\b\b\b\b\b\b\b\b\b\b\b\b\b\b\b\b\b\b\b\b\b\b\b\b\b\b\b\b\b\b\b\b\b\b\b\b\b\b\b\b\b\b\b\b\b\b\b\b\b\b\b\b\b\b\b\b\b\b\b\b\b\b\b\b\b\b\b\b\b\b\b\b\b\b\b\b\b\b\b\b\b\b\b\b\b\b\b\r8/8 [==============================] - 17s 786ms/step - batch: 3.5000 - size: 29.5000 - loss: 0.4370 - accuracy: 0.4873 - val_loss: 4.1956 - val_accuracy: 0.5000\n",
            "Epoch 2/15\n",
            "8/8 [==============================] - 8s 1s/step - batch: 3.5000 - size: 29.5000 - loss: 0.3596 - accuracy: 0.5127 - val_loss: 2.2471 - val_accuracy: 0.5000\n",
            "Epoch 3/15\n",
            "8/8 [==============================] - 7s 887ms/step - batch: 3.5000 - size: 29.5000 - loss: 0.3429 - accuracy: 0.4703 - val_loss: 3.3870 - val_accuracy: 0.5000\n",
            "Epoch 4/15\n",
            "8/8 [==============================] - 8s 1s/step - batch: 3.5000 - size: 32.0000 - loss: 0.3391 - accuracy: 0.4961 - val_loss: 0.7628 - val_accuracy: 0.5000\n",
            "Epoch 5/15\n",
            "8/8 [==============================] - 7s 900ms/step - batch: 3.5000 - size: 29.5000 - loss: 0.3359 - accuracy: 0.4831 - val_loss: 1.3002 - val_accuracy: 0.5000\n",
            "Epoch 6/15\n",
            "8/8 [==============================] - 7s 888ms/step - batch: 3.5000 - size: 29.5000 - loss: 0.3389 - accuracy: 0.4915 - val_loss: 0.8744 - val_accuracy: 0.5000\n",
            "Epoch 7/15\n",
            "8/8 [==============================] - 7s 918ms/step - batch: 3.5000 - size: 29.5000 - loss: 0.3371 - accuracy: 0.4915 - val_loss: 0.7859 - val_accuracy: 0.5000\n",
            "Epoch 8/15\n",
            "8/8 [==============================] - 7s 969ms/step - batch: 3.5000 - size: 32.0000 - loss: 0.3182 - accuracy: 0.4688 - val_loss: 1.1006 - val_accuracy: 0.5000\n",
            "Epoch 9/15\n",
            "8/8 [==============================] - 7s 905ms/step - batch: 3.5000 - size: 29.5000 - loss: 0.3408 - accuracy: 0.4831 - val_loss: 0.9380 - val_accuracy: 0.5000\n",
            "Epoch 10/15\n",
            "8/8 [==============================] - 7s 915ms/step - batch: 3.5000 - size: 29.5000 - loss: 0.3261 - accuracy: 0.5169 - val_loss: 2.0412 - val_accuracy: 0.5000\n",
            "Epoch 11/15\n",
            "8/8 [==============================] - 6s 869ms/step - batch: 3.5000 - size: 29.5000 - loss: 0.3088 - accuracy: 0.4831 - val_loss: 1.1341 - val_accuracy: 0.5000\n",
            "Epoch 12/15\n",
            "8/8 [==============================] - 7s 879ms/step - batch: 3.5000 - size: 29.5000 - loss: 0.3146 - accuracy: 0.5254 - val_loss: 1.0095 - val_accuracy: 0.5000\n",
            "Epoch 13/15\n",
            "8/8 [==============================] - 7s 978ms/step - batch: 3.5000 - size: 32.0000 - loss: 0.3303 - accuracy: 0.4727 - val_loss: 0.9676 - val_accuracy: 0.5000\n",
            "Epoch 14/15\n",
            "8/8 [==============================] - 6s 872ms/step - batch: 3.5000 - size: 29.5000 - loss: 0.3022 - accuracy: 0.4746 - val_loss: 0.8432 - val_accuracy: 0.5000\n",
            "Epoch 15/15\n",
            "8/8 [==============================] - 7s 863ms/step - batch: 3.5000 - size: 29.5000 - loss: 0.3035 - accuracy: 0.4958 - val_loss: 0.9451 - val_accuracy: 0.5000\n"
          ]
        }
      ],
      "source": [
        "hist = AlexNet.fit(\n",
        "    train_generator,\n",
        "    steps_per_epoch = 8,\n",
        "    epochs = 15,\n",
        "    validation_data = validation_generator,\n",
        "    validation_steps=2\n",
        "    \n",
        ")"
      ]
    },
    {
      "cell_type": "markdown",
      "metadata": {
        "id": "3ar1dA1fy5ub"
      },
      "source": [
        "# **VGG 16**. **Implementation**"
      ]
    },
    {
      "cell_type": "code",
      "execution_count": null,
      "metadata": {
        "colab": {
          "base_uri": "https://localhost:8080/"
        },
        "id": "FTNUUFpHy30s",
        "outputId": "fc3b8f24-7efa-4400-eee6-b4cb8918f7c1"
      },
      "outputs": [
        {
          "output_type": "stream",
          "name": "stdout",
          "text": [
            "Model: \"sequential_3\"\n",
            "_________________________________________________________________\n",
            " Layer (type)                Output Shape              Param #   \n",
            "=================================================================\n",
            " conv2d_11 (Conv2D)          (None, 224, 224, 64)      1792      \n",
            "                                                                 \n",
            " conv2d_12 (Conv2D)          (None, 224, 224, 64)      36928     \n",
            "                                                                 \n",
            " max_pooling2d_6 (MaxPooling  (None, 112, 112, 64)     0         \n",
            " 2D)                                                             \n",
            "                                                                 \n",
            " conv2d_13 (Conv2D)          (None, 112, 112, 128)     73856     \n",
            "                                                                 \n",
            " conv2d_14 (Conv2D)          (None, 112, 112, 128)     147584    \n",
            "                                                                 \n",
            " max_pooling2d_7 (MaxPooling  (None, 56, 56, 128)      0         \n",
            " 2D)                                                             \n",
            "                                                                 \n",
            " conv2d_15 (Conv2D)          (None, 56, 56, 256)       295168    \n",
            "                                                                 \n",
            " conv2d_16 (Conv2D)          (None, 56, 56, 256)       590080    \n",
            "                                                                 \n",
            " conv2d_17 (Conv2D)          (None, 56, 56, 256)       590080    \n",
            "                                                                 \n",
            " max_pooling2d_8 (MaxPooling  (None, 28, 28, 256)      0         \n",
            " 2D)                                                             \n",
            "                                                                 \n",
            " conv2d_18 (Conv2D)          (None, 28, 28, 512)       1180160   \n",
            "                                                                 \n",
            " conv2d_19 (Conv2D)          (None, 28, 28, 512)       2359808   \n",
            "                                                                 \n",
            " conv2d_20 (Conv2D)          (None, 28, 28, 512)       2359808   \n",
            "                                                                 \n",
            " max_pooling2d_9 (MaxPooling  (None, 14, 14, 512)      0         \n",
            " 2D)                                                             \n",
            "                                                                 \n",
            " conv2d_21 (Conv2D)          (None, 14, 14, 512)       2359808   \n",
            "                                                                 \n",
            " conv2d_22 (Conv2D)          (None, 14, 14, 512)       2359808   \n",
            "                                                                 \n",
            " conv2d_23 (Conv2D)          (None, 14, 14, 512)       2359808   \n",
            "                                                                 \n",
            " max_pooling2d_10 (MaxPoolin  (None, 7, 7, 512)        0         \n",
            " g2D)                                                            \n",
            "                                                                 \n",
            "=================================================================\n",
            "Total params: 14,714,688\n",
            "Trainable params: 14,714,688\n",
            "Non-trainable params: 0\n",
            "_________________________________________________________________\n"
          ]
        }
      ],
      "source": [
        "vgg16 = Sequential()\n",
        "vgg16.add(Conv2D(input_shape=(224,224,3),filters=64,kernel_size=(3,3),padding=\"same\", activation=\"relu\"))\n",
        "vgg16.add(Conv2D(filters=64,kernel_size=(3,3),padding=\"same\", activation=\"relu\"))\n",
        "vgg16.add(MaxPool2D(pool_size=(2,2),strides=(2,2)))\n",
        "vgg16.add(Conv2D(filters=128, kernel_size=(3,3), padding=\"same\", activation=\"relu\"))\n",
        "vgg16.add(Conv2D(filters=128, kernel_size=(3,3), padding=\"same\", activation=\"relu\"))\n",
        "vgg16.add(MaxPool2D(pool_size=(2,2),strides=(2,2)))\n",
        "vgg16.add(Conv2D(filters=256, kernel_size=(3,3), padding=\"same\", activation=\"relu\"))\n",
        "vgg16.add(Conv2D(filters=256, kernel_size=(3,3), padding=\"same\", activation=\"relu\"))\n",
        "vgg16.add(Conv2D(filters=256, kernel_size=(3,3), padding=\"same\", activation=\"relu\"))\n",
        "vgg16.add(MaxPool2D(pool_size=(2,2),strides=(2,2)))\n",
        "vgg16.add(Conv2D(filters=512, kernel_size=(3,3), padding=\"same\", activation=\"relu\"))\n",
        "vgg16.add(Conv2D(filters=512, kernel_size=(3,3), padding=\"same\", activation=\"relu\"))\n",
        "vgg16.add(Conv2D(filters=512, kernel_size=(3,3), padding=\"same\", activation=\"relu\"))\n",
        "vgg16.add(MaxPool2D(pool_size=(2,2),strides=(2,2)))\n",
        "vgg16.add(Conv2D(filters=512, kernel_size=(3,3), padding=\"same\", activation=\"relu\"))\n",
        "vgg16.add(Conv2D(filters=512, kernel_size=(3,3), padding=\"same\", activation=\"relu\"))\n",
        "vgg16.add(Conv2D(filters=512, kernel_size=(3,3), padding=\"same\", activation=\"relu\"))\n",
        "vgg16.add(MaxPool2D(pool_size=(2,2),strides=(2,2)))\n",
        "\n",
        "vgg16.summary()"
      ]
    },
    {
      "cell_type": "code",
      "execution_count": null,
      "metadata": {
        "colab": {
          "base_uri": "https://localhost:8080/"
        },
        "id": "pN1T9W-l1Exs",
        "outputId": "d3fc8c62-a2d9-4fec-b08f-b8d50d8e61d3"
      },
      "outputs": [
        {
          "output_type": "stream",
          "name": "stderr",
          "text": [
            "/usr/local/lib/python3.7/dist-packages/keras/optimizer_v2/adam.py:105: UserWarning: The `lr` argument is deprecated, use `learning_rate` instead.\n",
            "  super(Adam, self).__init__(name, **kwargs)\n"
          ]
        }
      ],
      "source": [
        "vgg16.add(Flatten())\n",
        "vgg16.add(Dense(units=4096,activation=\"relu\"))\n",
        "vgg16.add(Dense(units=4096,activation=\"relu\"))\n",
        "vgg16.add(Dense(units=1, activation=\"softmax\"))\n",
        "opt = Adam(lr=0.001)\n",
        "vgg16.compile(optimizer=opt, loss='binary_crossentropy', metrics=['accuracy']) #'binary_crossentropy'"
      ]
    },
    {
      "cell_type": "code",
      "execution_count": null,
      "metadata": {
        "id": "W_kBErH91hmk",
        "colab": {
          "base_uri": "https://localhost:8080/"
        },
        "outputId": "a119d7fc-0452-489a-80ca-2aa74d47bc2c"
      },
      "outputs": [
        {
          "output_type": "stream",
          "name": "stdout",
          "text": [
            "Epoch 1/10\n",
            "5/5 [==============================] - ETA: 0s - batch: 2.0000 - size: 32.0000 - loss: 0.7475 - accuracy: 0.5500"
          ]
        },
        {
          "output_type": "stream",
          "name": "stderr",
          "text": [
            "/usr/local/lib/python3.7/dist-packages/keras/engine/training_v1.py:2057: UserWarning: `Model.state_updates` will be removed in a future version. This property should not be used in TensorFlow 2.0, as `updates` are applied automatically.\n",
            "  updates = self.state_updates\n"
          ]
        },
        {
          "output_type": "stream",
          "name": "stdout",
          "text": [
            "\b\b\b\b\b\b\b\b\b\b\b\b\b\b\b\b\b\b\b\b\b\b\b\b\b\b\b\b\b\b\b\b\b\b\b\b\b\b\b\b\b\b\b\b\b\b\b\b\b\b\b\b\b\b\b\b\b\b\b\b\b\b\b\b\b\b\b\b\b\b\b\b\b\b\b\b\b\b\b\b\b\b\b\b\b\b\b\b\b\b\b\b\b\b\b\b\b\b\b\b\b\b\b\b\b\b\b\b\b\b\b\b\r5/5 [==============================] - 32s 2s/step - batch: 2.0000 - size: 32.0000 - loss: 0.7475 - accuracy: 0.5500 - val_loss: 0.6953 - val_accuracy: 0.5000\n",
            "Epoch 2/10\n",
            "5/5 [==============================] - 10s 2s/step - batch: 2.0000 - size: 28.0000 - loss: 0.7046 - accuracy: 0.4214 - val_loss: 0.6939 - val_accuracy: 0.5000\n",
            "Epoch 3/10\n",
            "5/5 [==============================] - 6s 1s/step - batch: 2.0000 - size: 32.0000 - loss: 0.6927 - accuracy: 0.5188 - val_loss: 0.6932 - val_accuracy: 0.5000\n",
            "Epoch 4/10\n",
            "5/5 [==============================] - 5s 1s/step - batch: 2.0000 - size: 28.0000 - loss: 0.6936 - accuracy: 0.4571 - val_loss: 0.6932 - val_accuracy: 0.5000\n",
            "Epoch 5/10\n",
            "5/5 [==============================] - 6s 1s/step - batch: 2.0000 - size: 32.0000 - loss: 0.6945 - accuracy: 0.5125 - val_loss: 0.6936 - val_accuracy: 0.5000\n",
            "Epoch 6/10\n",
            "5/5 [==============================] - 5s 1s/step - batch: 2.0000 - size: 28.0000 - loss: 0.6920 - accuracy: 0.4643 - val_loss: 0.6936 - val_accuracy: 0.5000\n",
            "Epoch 7/10\n",
            "5/5 [==============================] - 6s 1s/step - batch: 2.0000 - size: 32.0000 - loss: 0.6937 - accuracy: 0.5000 - val_loss: 0.6937 - val_accuracy: 0.5000\n",
            "Epoch 8/10\n",
            "5/5 [==============================] - 5s 1s/step - batch: 2.0000 - size: 28.0000 - loss: 0.6928 - accuracy: 0.4786 - val_loss: 0.6937 - val_accuracy: 0.5000\n",
            "Epoch 9/10\n",
            "5/5 [==============================] - 6s 1s/step - batch: 2.0000 - size: 32.0000 - loss: 0.6912 - accuracy: 0.4563 - val_loss: 0.6938 - val_accuracy: 0.5000\n",
            "Epoch 10/10\n",
            "5/5 [==============================] - 5s 1s/step - batch: 2.0000 - size: 28.0000 - loss: 0.6961 - accuracy: 0.5286 - val_loss: 0.6938 - val_accuracy: 0.5000\n"
          ]
        }
      ],
      "source": [
        "hist = vgg16.fit(\n",
        "    train_generator,\n",
        "    steps_per_epoch = 5,\n",
        "    epochs = 10,\n",
        "    validation_data = validation_generator,\n",
        "    validation_steps=2\n",
        "    \n",
        ")"
      ]
    },
    {
      "cell_type": "markdown",
      "metadata": {
        "id": "WiEj6Y8F22_L"
      },
      "source": [
        "# **Google Inception Network Implementation:**"
      ]
    },
    {
      "cell_type": "code",
      "execution_count": null,
      "metadata": {
        "id": "b2ZW7w-i2yj0"
      },
      "outputs": [],
      "source": [
        "def inception_module(x,\n",
        "                     filters_1x1,\n",
        "                     filters_3x3_reduce,\n",
        "                     filters_3x3,\n",
        "                     filters_5x5_reduce,\n",
        "                     filters_5x5,\n",
        "                     filters_pool_proj,\n",
        "                     name=None):\n",
        "    \n",
        "    conv_1x1 = Conv2D(filters_1x1, (1, 1), padding='same', activation='relu', kernel_initializer=kernel_init, bias_initializer=bias_init)(x)\n",
        "    \n",
        "    conv_3x3 = Conv2D(filters_3x3_reduce, (1, 1), padding='same', activation='relu', kernel_initializer=kernel_init, bias_initializer=bias_init)(x)\n",
        "    conv_3x3 = Conv2D(filters_3x3, (3, 3), padding='same', activation='relu', kernel_initializer=kernel_init, bias_initializer=bias_init)(conv_3x3)\n",
        "\n",
        "    conv_5x5 = Conv2D(filters_5x5_reduce, (1, 1), padding='same', activation='relu', kernel_initializer=kernel_init, bias_initializer=bias_init)(x)\n",
        "    conv_5x5 = Conv2D(filters_5x5, (5, 5), padding='same', activation='relu', kernel_initializer=kernel_init, bias_initializer=bias_init)(conv_5x5)\n",
        "\n",
        "    pool_proj = MaxPool2D((3, 3), strides=(1, 1), padding='same')(x)\n",
        "    pool_proj = Conv2D(filters_pool_proj, (1, 1), padding='same', activation='relu', kernel_initializer=kernel_init, bias_initializer=bias_init)(pool_proj)\n",
        "\n",
        "    output = concatenate([conv_1x1, conv_3x3, conv_5x5, pool_proj], axis=3, name=name)\n",
        "    \n",
        "    return output"
      ]
    },
    {
      "cell_type": "code",
      "execution_count": null,
      "metadata": {
        "id": "GS0JoXq44LSp"
      },
      "outputs": [],
      "source": [
        "kernel_init = keras.initializers.glorot_uniform()\n",
        "bias_init = keras.initializers.Constant(value=0.2)"
      ]
    },
    {
      "cell_type": "code",
      "execution_count": null,
      "metadata": {
        "colab": {
          "base_uri": "https://localhost:8080/"
        },
        "id": "DqngPTTm4sLG",
        "outputId": "a087af04-f78d-4064-989a-664d70c5c159"
      },
      "outputs": [
        {
          "output_type": "stream",
          "name": "stdout",
          "text": [
            "Model: \"model\"\n",
            "__________________________________________________________________________________________________\n",
            " Layer (type)                   Output Shape         Param #     Connected to                     \n",
            "==================================================================================================\n",
            " input_1 (InputLayer)           [(None, 224, 224, 3  0           []                               \n",
            "                                )]                                                                \n",
            "                                                                                                  \n",
            " conv2d_25 (Conv2D)             (None, 224, 224, 96  384         ['input_1[0][0]']                \n",
            "                                )                                                                 \n",
            "                                                                                                  \n",
            " conv2d_27 (Conv2D)             (None, 224, 224, 16  64          ['input_1[0][0]']                \n",
            "                                )                                                                 \n",
            "                                                                                                  \n",
            " max_pooling2d_11 (MaxPooling2D  (None, 224, 224, 3)  0          ['input_1[0][0]']                \n",
            " )                                                                                                \n",
            "                                                                                                  \n",
            " conv2d_24 (Conv2D)             (None, 224, 224, 64  256         ['input_1[0][0]']                \n",
            "                                )                                                                 \n",
            "                                                                                                  \n",
            " conv2d_26 (Conv2D)             (None, 224, 224, 12  110720      ['conv2d_25[0][0]']              \n",
            "                                8)                                                                \n",
            "                                                                                                  \n",
            " conv2d_28 (Conv2D)             (None, 224, 224, 32  12832       ['conv2d_27[0][0]']              \n",
            "                                )                                                                 \n",
            "                                                                                                  \n",
            " conv2d_29 (Conv2D)             (None, 224, 224, 32  128         ['max_pooling2d_11[0][0]']       \n",
            "                                )                                                                 \n",
            "                                                                                                  \n",
            " concatenate (Concatenate)      (None, 224, 224, 25  0           ['conv2d_24[0][0]',              \n",
            "                                6)                                'conv2d_26[0][0]',              \n",
            "                                                                  'conv2d_28[0][0]',              \n",
            "                                                                  'conv2d_29[0][0]']              \n",
            "                                                                                                  \n",
            " conv2d_31 (Conv2D)             (None, 224, 224, 12  32896       ['concatenate[0][0]']            \n",
            "                                8)                                                                \n",
            "                                                                                                  \n",
            " conv2d_33 (Conv2D)             (None, 224, 224, 32  8224        ['concatenate[0][0]']            \n",
            "                                )                                                                 \n",
            "                                                                                                  \n",
            " max_pooling2d_12 (MaxPooling2D  (None, 224, 224, 25  0          ['concatenate[0][0]']            \n",
            " )                              6)                                                                \n",
            "                                                                                                  \n",
            " conv2d_30 (Conv2D)             (None, 224, 224, 12  32896       ['concatenate[0][0]']            \n",
            "                                8)                                                                \n",
            "                                                                                                  \n",
            " conv2d_32 (Conv2D)             (None, 224, 224, 19  221376      ['conv2d_31[0][0]']              \n",
            "                                2)                                                                \n",
            "                                                                                                  \n",
            " conv2d_34 (Conv2D)             (None, 224, 224, 96  76896       ['conv2d_33[0][0]']              \n",
            "                                )                                                                 \n",
            "                                                                                                  \n",
            " conv2d_35 (Conv2D)             (None, 224, 224, 64  16448       ['max_pooling2d_12[0][0]']       \n",
            "                                )                                                                 \n",
            "                                                                                                  \n",
            " concatenate_1 (Concatenate)    (None, 224, 224, 48  0           ['conv2d_30[0][0]',              \n",
            "                                0)                                'conv2d_32[0][0]',              \n",
            "                                                                  'conv2d_34[0][0]',              \n",
            "                                                                  'conv2d_35[0][0]']              \n",
            "                                                                                                  \n",
            "==================================================================================================\n",
            "Total params: 513,120\n",
            "Trainable params: 513,120\n",
            "Non-trainable params: 0\n",
            "__________________________________________________________________________________________________\n"
          ]
        }
      ],
      "source": [
        "# function for creating a projected inception module\n",
        "from keras.layers import Input\n",
        "from keras.layers.merge import concatenate\n",
        "\n",
        "def inception_module(layer_in, f1, f2_in, f2_out, f3_in, f3_out, f4_out):\n",
        "\t# 1x1 conv\n",
        "\tconv1 = Conv2D(f1, (1,1), padding='same', activation='relu')(layer_in)\n",
        "\t# 3x3 conv\n",
        "\tconv3 = Conv2D(f2_in, (1,1), padding='same', activation='relu')(layer_in)\n",
        "\tconv3 = Conv2D(f2_out, (3,3), padding='same', activation='relu')(conv3)\n",
        "\t# 5x5 conv\n",
        "\tconv5 = Conv2D(f3_in, (1,1), padding='same', activation='relu')(layer_in)\n",
        "\tconv5 = Conv2D(f3_out, (5,5), padding='same', activation='relu')(conv5)\n",
        "\t# 3x3 max pooling\n",
        "\tpool = MaxPooling2D((3,3), strides=(1,1), padding='same')(layer_in)\n",
        "\tpool = Conv2D(f4_out, (1,1), padding='same', activation='relu')(pool)\n",
        " \n",
        "\t# concatenate filters, assumes filters/channels last\n",
        "\tlayer_out = concatenate([conv1, conv3, conv5, pool], axis=-1)\n",
        "\treturn layer_out\n",
        " \n",
        " \n",
        "# define model input\n",
        "visible = Input(shape=(224, 224, 3))\n",
        "# add inception block 1\n",
        "layer = inception_module(visible, 64, 96, 128, 16, 32, 32)\n",
        "# add inception block 1\n",
        "layer = inception_module(layer, 128, 128, 192, 32, 96, 64)\n",
        "# create model\n",
        "model = Model(inputs=visible, outputs=layer)\n",
        "\n",
        "# summarize model\n",
        "model.summary()\n",
        "\n"
      ]
    },
    {
      "cell_type": "code",
      "execution_count": null,
      "metadata": {
        "id": "h_E3oPbP7uRn"
      },
      "outputs": [],
      "source": [
        "from keras.models import Model\n",
        "from keras.layers import Conv2D, MaxPool2D,  \\\n",
        "    Dropout, Dense, Input, concatenate,      \\\n",
        "    GlobalAveragePooling2D, AveragePooling2D,\\\n",
        "    Flatten\n",
        "\n",
        "import cv2 \n",
        "import numpy as np \n",
        "from tensorflow.keras.datasets import cifar10 \n",
        "from keras import backend as K \n",
        "import math \n",
        "from tensorflow.keras.optimizers import SGD \n",
        "from tensorflow.keras.callbacks import LearningRateScheduler\n",
        "\n",
        "input_layer = Input(shape=(224, 224, 3))\n",
        "\n",
        "x = Conv2D(64, (7, 7), padding='same', strides=(2, 2), activation='relu', name='conv_1_7x7/2', kernel_initializer=kernel_init, bias_initializer=bias_init)(input_layer)\n",
        "x = MaxPool2D((3, 3), padding='same', strides=(2, 2), name='max_pool_1_3x3/2')(x)\n",
        "x = Conv2D(64, (1, 1), padding='same', strides=(1, 1), activation='relu', name='conv_2a_3x3/1')(x)\n",
        "x = Conv2D(192, (3, 3), padding='same', strides=(1, 1), activation='relu', name='conv_2b_3x3/1')(x)\n",
        "x = MaxPool2D((3, 3), padding='same', strides=(2, 2), name='max_pool_2_3x3/2')(x)\n",
        "\n",
        "x = inception_module(x,\n",
        "                     filters_1x1=64,\n",
        "                     filters_3x3_reduce=96,\n",
        "                     filters_3x3=128,\n",
        "                     filters_5x5_reduce=16,\n",
        "                     filters_5x5=32,\n",
        "                     filters_pool_proj=32,\n",
        "                     name='inception_3a')\n",
        "\n",
        "x = inception_module(x,\n",
        "                     filters_1x1=128,\n",
        "                     filters_3x3_reduce=128,\n",
        "                     filters_3x3=192,\n",
        "                     filters_5x5_reduce=32,\n",
        "                     filters_5x5=96,\n",
        "                     filters_pool_proj=64,\n",
        "                     name='inception_3b')\n",
        "\n",
        "x = MaxPool2D((3, 3), padding='same', strides=(2, 2), name='max_pool_3_3x3/2')(x)\n",
        "\n",
        "x = inception_module(x,\n",
        "                     filters_1x1=192,\n",
        "                     filters_3x3_reduce=96,\n",
        "                     filters_3x3=208,\n",
        "                     filters_5x5_reduce=16,\n",
        "                     filters_5x5=48,\n",
        "                     filters_pool_proj=64,\n",
        "                     name='inception_4a')\n",
        "\n",
        "\n",
        "x1 = AveragePooling2D((5, 5), strides=3)(x)\n",
        "x1 = Conv2D(128, (1, 1), padding='same', activation='relu')(x1)\n",
        "x1 = Flatten()(x1)\n",
        "x1 = Dense(1024, activation='relu')(x1)\n",
        "x1 = Dropout(0.7)(x1)\n",
        "x1 = Dense(10, activation='softmax', name='auxilliary_output_1')(x1)\n",
        "\n",
        "x = inception_module(x,\n",
        "                     filters_1x1=160,\n",
        "                     filters_3x3_reduce=112,\n",
        "                     filters_3x3=224,\n",
        "                     filters_5x5_reduce=24,\n",
        "                     filters_5x5=64,\n",
        "                     filters_pool_proj=64,\n",
        "                     name='inception_4b')\n",
        "\n",
        "x = inception_module(x,\n",
        "                     filters_1x1=128,\n",
        "                     filters_3x3_reduce=128,\n",
        "                     filters_3x3=256,\n",
        "                     filters_5x5_reduce=24,\n",
        "                     filters_5x5=64,\n",
        "                     filters_pool_proj=64,\n",
        "                     name='inception_4c')\n",
        "\n",
        "x = inception_module(x,\n",
        "                     filters_1x1=112,\n",
        "                     filters_3x3_reduce=144,\n",
        "                     filters_3x3=288,\n",
        "                     filters_5x5_reduce=32,\n",
        "                     filters_5x5=64,\n",
        "                     filters_pool_proj=64,\n",
        "                     name='inception_4d')\n",
        "\n",
        "\n",
        "x2 = AveragePooling2D((5, 5), strides=3)(x)\n",
        "x2 = Conv2D(128, (1, 1), padding='same', activation='relu')(x2)\n",
        "x2 = Flatten()(x2)\n",
        "x2 = Dense(1024, activation='relu')(x2)\n",
        "x2 = Dropout(0.7)(x2)\n",
        "x2 = Dense(10, activation='softmax', name='auxilliary_output_2')(x2)\n",
        "\n",
        "x = inception_module(x,\n",
        "                     filters_1x1=256,\n",
        "                     filters_3x3_reduce=160,\n",
        "                     filters_3x3=320,\n",
        "                     filters_5x5_reduce=32,\n",
        "                     filters_5x5=128,\n",
        "                     filters_pool_proj=128,\n",
        "                     name='inception_4e')\n",
        "\n",
        "x = MaxPool2D((3, 3), padding='same', strides=(2, 2), name='max_pool_4_3x3/2')(x)\n",
        "\n",
        "x = inception_module(x,\n",
        "                     filters_1x1=256,\n",
        "                     filters_3x3_reduce=160,\n",
        "                     filters_3x3=320,\n",
        "                     filters_5x5_reduce=32,\n",
        "                     filters_5x5=128,\n",
        "                     filters_pool_proj=128,\n",
        "                     name='inception_5a')\n",
        "\n",
        "x = inception_module(x,\n",
        "                     filters_1x1=384,\n",
        "                     filters_3x3_reduce=192,\n",
        "                     filters_3x3=384,\n",
        "                     filters_5x5_reduce=48,\n",
        "                     filters_5x5=128,\n",
        "                     filters_pool_proj=128,\n",
        "                     name='inception_5b')\n",
        "\n",
        "x = GlobalAveragePooling2D(name='avg_pool_5_3x3/1')(x)\n",
        "\n",
        "x = Dropout(0.4)(x)\n",
        "\n",
        "x = Dense(1, activation='softmax', name='output')\n"
      ]
    },
    {
      "cell_type": "code",
      "execution_count": null,
      "metadata": {
        "colab": {
          "base_uri": "https://localhost:8080/"
        },
        "id": "VIEaF-3U9hmb",
        "outputId": "68f49e47-ef92-4fce-e541-19ec6b0f4977"
      },
      "outputs": [
        {
          "output_type": "stream",
          "name": "stderr",
          "text": [
            "/usr/local/lib/python3.7/dist-packages/keras/optimizer_v2/gradient_descent.py:102: UserWarning: The `lr` argument is deprecated, use `learning_rate` instead.\n",
            "  super(SGD, self).__init__(name, **kwargs)\n"
          ]
        }
      ],
      "source": [
        "epochs = 25\n",
        "initial_lrate = 0.01\n",
        "\n",
        "def decay(epoch, steps=100):\n",
        "    initial_lrate = 0.01\n",
        "    drop = 0.96\n",
        "    epochs_drop = 8\n",
        "    lrate = initial_lrate * math.pow(drop, math.floor((1+epoch)/epochs_drop))\n",
        "    return lrate\n",
        "\n",
        "sgd = SGD(lr=initial_lrate, momentum=0.9, nesterov=False)\n",
        "\n",
        "lr_sc = LearningRateScheduler(decay, verbose=1)\n",
        "\n",
        "model.compile(loss=['categorical_crossentropy'], loss_weights=[1], optimizer=sgd, metrics=['accuracy'])"
      ]
    },
    {
      "cell_type": "code",
      "execution_count": null,
      "metadata": {
        "colab": {
          "base_uri": "https://localhost:8080/"
        },
        "id": "m34XVACc-YUH",
        "outputId": "2e2197d9-25fb-4ea2-b0d2-6492bd95cd80"
      },
      "outputs": [
        {
          "output_type": "stream",
          "name": "stdout",
          "text": [
            "Model: \"model\"\n",
            "__________________________________________________________________________________________________\n",
            " Layer (type)                   Output Shape         Param #     Connected to                     \n",
            "==================================================================================================\n",
            " input_1 (InputLayer)           [(None, 224, 224, 3  0           []                               \n",
            "                                )]                                                                \n",
            "                                                                                                  \n",
            " conv2d_25 (Conv2D)             (None, 224, 224, 96  384         ['input_1[0][0]']                \n",
            "                                )                                                                 \n",
            "                                                                                                  \n",
            " conv2d_27 (Conv2D)             (None, 224, 224, 16  64          ['input_1[0][0]']                \n",
            "                                )                                                                 \n",
            "                                                                                                  \n",
            " max_pooling2d_11 (MaxPooling2D  (None, 224, 224, 3)  0          ['input_1[0][0]']                \n",
            " )                                                                                                \n",
            "                                                                                                  \n",
            " conv2d_24 (Conv2D)             (None, 224, 224, 64  256         ['input_1[0][0]']                \n",
            "                                )                                                                 \n",
            "                                                                                                  \n",
            " conv2d_26 (Conv2D)             (None, 224, 224, 12  110720      ['conv2d_25[0][0]']              \n",
            "                                8)                                                                \n",
            "                                                                                                  \n",
            " conv2d_28 (Conv2D)             (None, 224, 224, 32  12832       ['conv2d_27[0][0]']              \n",
            "                                )                                                                 \n",
            "                                                                                                  \n",
            " conv2d_29 (Conv2D)             (None, 224, 224, 32  128         ['max_pooling2d_11[0][0]']       \n",
            "                                )                                                                 \n",
            "                                                                                                  \n",
            " concatenate (Concatenate)      (None, 224, 224, 25  0           ['conv2d_24[0][0]',              \n",
            "                                6)                                'conv2d_26[0][0]',              \n",
            "                                                                  'conv2d_28[0][0]',              \n",
            "                                                                  'conv2d_29[0][0]']              \n",
            "                                                                                                  \n",
            " conv2d_31 (Conv2D)             (None, 224, 224, 12  32896       ['concatenate[0][0]']            \n",
            "                                8)                                                                \n",
            "                                                                                                  \n",
            " conv2d_33 (Conv2D)             (None, 224, 224, 32  8224        ['concatenate[0][0]']            \n",
            "                                )                                                                 \n",
            "                                                                                                  \n",
            " max_pooling2d_12 (MaxPooling2D  (None, 224, 224, 25  0          ['concatenate[0][0]']            \n",
            " )                              6)                                                                \n",
            "                                                                                                  \n",
            " conv2d_30 (Conv2D)             (None, 224, 224, 12  32896       ['concatenate[0][0]']            \n",
            "                                8)                                                                \n",
            "                                                                                                  \n",
            " conv2d_32 (Conv2D)             (None, 224, 224, 19  221376      ['conv2d_31[0][0]']              \n",
            "                                2)                                                                \n",
            "                                                                                                  \n",
            " conv2d_34 (Conv2D)             (None, 224, 224, 96  76896       ['conv2d_33[0][0]']              \n",
            "                                )                                                                 \n",
            "                                                                                                  \n",
            " conv2d_35 (Conv2D)             (None, 224, 224, 64  16448       ['max_pooling2d_12[0][0]']       \n",
            "                                )                                                                 \n",
            "                                                                                                  \n",
            " concatenate_1 (Concatenate)    (None, 224, 224, 48  0           ['conv2d_30[0][0]',              \n",
            "                                0)                                'conv2d_32[0][0]',              \n",
            "                                                                  'conv2d_34[0][0]',              \n",
            "                                                                  'conv2d_35[0][0]']              \n",
            "                                                                                                  \n",
            "==================================================================================================\n",
            "Total params: 513,120\n",
            "Trainable params: 513,120\n",
            "Non-trainable params: 0\n",
            "__________________________________________________________________________________________________\n"
          ]
        }
      ],
      "source": [
        "model.summary()"
      ]
    },
    {
      "cell_type": "code",
      "source": [
        "hist = model.fit(\n",
        "    train_generator,\n",
        "    steps_per_epoch = 5,\n",
        "    epochs = 10,\n",
        "    validation_data = validation_generator,\n",
        "    validation_steps=2\n",
        "    \n",
        ")"
      ],
      "metadata": {
        "id": "sU38Ra9Hm-cb"
      },
      "execution_count": null,
      "outputs": []
    },
    {
      "cell_type": "markdown",
      "metadata": {
        "id": "Sv50N-q-2cl4"
      },
      "source": [
        "# Second Part: Denoising images using denoising auto-encoders."
      ]
    },
    {
      "cell_type": "code",
      "execution_count": null,
      "metadata": {
        "id": "KDHnn6Ym2cl4"
      },
      "outputs": [],
      "source": [
        "import numpy \n",
        "import matplotlib.pyplot as plt\n",
        "from keras.models import Sequential\n",
        "from keras.layers import Dense\n",
        "from keras.datasets import mnist\n",
        "import matplotlib.pyplot as plt\n",
        "from numpy import loadtxt\n",
        "import numpy as np\n",
        "from pylab import rcParams"
      ]
    },
    {
      "cell_type": "markdown",
      "metadata": {
        "id": "EIoUvpZyha_8"
      },
      "source": [
        "from tensorflow.keras.callbacks import EarlyStopping\n",
        "\n",
        "\"\"\"\n",
        "This callback will stop the training when there is no improvement in the validation accuracy across epochs\n",
        "\"\"\"\n",
        "early_callback = EarlyStopping(monitor='val_auc', \n",
        "                               verbose=1,\n",
        "                               patience=10,\n",
        "                               mode='max',\n",
        "                               restore_best_weights=True)"
      ]
    },
    {
      "cell_type": "code",
      "execution_count": null,
      "metadata": {
        "id": "EHPxgiLG2cl4"
      },
      "outputs": [],
      "source": [
        "(X_train, y_train), (X_test, y_test) = next(train_generator),next(validation_generator)"
      ]
    },
    {
      "cell_type": "code",
      "source": [
        "train_generator.image_shape"
      ],
      "metadata": {
        "colab": {
          "base_uri": "https://localhost:8080/"
        },
        "id": "xdSSVRYnXyr1",
        "outputId": "3be9b045-5f0d-4680-fdce-2159afe59d01"
      },
      "execution_count": null,
      "outputs": [
        {
          "output_type": "execute_result",
          "data": {
            "text/plain": [
              "(28, 28, 3)"
            ]
          },
          "metadata": {},
          "execution_count": 21
        }
      ]
    },
    {
      "cell_type": "code",
      "source": [
        "X_train = X_train.reshape((X_train.shape[0]*3, 28, 28))\n",
        "X_test = X_test.reshape((X_test.shape[0]*3, 28, 28))"
      ],
      "metadata": {
        "id": "Z_p3KWcXefCA"
      },
      "execution_count": null,
      "outputs": []
    },
    {
      "cell_type": "code",
      "execution_count": null,
      "metadata": {
        "id": "8bWi8jxRC3_e"
      },
      "outputs": [],
      "source": [
        "num_pixels = X_train.shape[1] * X_train.shape[2]\n",
        "X_train = X_train.reshape(X_train.shape[0], num_pixels).astype('float32')\n",
        "X_test = X_test.reshape(X_test.shape[0], num_pixels).astype('float32')\n",
        "X_train = X_train / 255\n",
        "X_test = X_test / 255"
      ]
    },
    {
      "cell_type": "code",
      "source": [
        "X_test.shape[0:2]"
      ],
      "metadata": {
        "colab": {
          "base_uri": "https://localhost:8080/"
        },
        "id": "6dM-04iLe8d8",
        "outputId": "b9b167ec-ccb0-45d2-d2f0-701067ca191a"
      },
      "execution_count": null,
      "outputs": [
        {
          "output_type": "execute_result",
          "data": {
            "text/plain": [
              "(48, 784)"
            ]
          },
          "metadata": {},
          "execution_count": 25
        }
      ]
    },
    {
      "cell_type": "code",
      "execution_count": null,
      "metadata": {
        "id": "psj7r3URkJto"
      },
      "outputs": [],
      "source": [
        "# creating the noise matrix\n",
        "n_rows = X_test.shape[0]\n",
        "n_cols = X_test.shape[1]\n",
        "mean = 0.5\n",
        "stddev = 0.3\n",
        "noise = np.random.normal(mean, stddev, (n_rows, n_cols))\n",
        "# creating the noisy test data by adding X_test with noise\n",
        "X_test_noisy = X_test + noise"
      ]
    },
    {
      "cell_type": "code",
      "execution_count": null,
      "metadata": {
        "id": "kMw0r6x0muj2",
        "colab": {
          "base_uri": "https://localhost:8080/"
        },
        "outputId": "ce77a18d-358c-451c-eb7b-66e0a0479e0e"
      },
      "outputs": [
        {
          "output_type": "stream",
          "name": "stdout",
          "text": [
            "WARNING:tensorflow:From /usr/local/lib/python3.7/dist-packages/tensorflow/python/training/adagrad.py:143: calling Constant.__init__ (from tensorflow.python.ops.init_ops) with dtype is deprecated and will be removed in a future version.\n",
            "Instructions for updating:\n",
            "Call initializer instance with the dtype argument instead of passing it to the constructor\n"
          ]
        }
      ],
      "source": [
        "# Deciding how many nodes each layer should have\n",
        "n_nodes_inpl = 784  #encoder\n",
        "n_nodes_hl1  = 32  #encoder\n",
        "n_nodes_hl2  = 32  #decoder\n",
        "n_nodes_outl = 784  #decoder\n",
        "# first hidden layer has 784*32 weights and 32 biases\n",
        "hidden_1_layer_vals = {\n",
        "'weights':tf.Variable(tf.random.normal([n_nodes_inpl,n_nodes_hl1])),\n",
        "'biases':tf.Variable(tf.random.normal([n_nodes_hl1]))  }\n",
        "# second hidden layer has 32*32 weights and 32 biases\n",
        "hidden_2_layer_vals = {\n",
        "'weights':tf.Variable(tf.random.normal([n_nodes_hl1, n_nodes_hl2])),\n",
        "'biases':tf.Variable(tf.random.normal([n_nodes_hl2]))  }\n",
        "# second hidden layer has 32*784 weights and 784 biases\n",
        "output_layer_vals = {\n",
        "'weights':tf.Variable(tf.random.normal([n_nodes_hl2,n_nodes_outl])),'biases':tf.Variable(tf.random.normal([n_nodes_outl])) }\n",
        "# image with shape 784 goes in\n",
        "input_layer = tf.compat.v1.placeholder('float', [None, 784])\n",
        "# multiply output of input_layer wth a weight matrix and add biases\n",
        "layer_1 = tf.nn.sigmoid(\n",
        "       tf.add(tf.matmul(input_layer,hidden_1_layer_vals['weights']),\n",
        "       hidden_1_layer_vals['biases']))\n",
        "# multiply output of layer_1 wth a weight matrix and add biases\n",
        "layer_2 = tf.nn.sigmoid(\n",
        "       tf.add(tf.matmul(layer_1,hidden_2_layer_vals['weights']),\n",
        "       hidden_2_layer_vals['biases']))\n",
        "# multiply output of layer_2 wth a weight matrix and add biases\n",
        "output_layer = tf.matmul(layer_2,output_layer_vals['weights']) +  output_layer_vals['biases']\n",
        "# output_true shall have the original image for error calculations\n",
        "output_true = tf.compat.v1.placeholder('float', [None, 784])\n",
        "# define our cost function\n",
        "meansq =    tf.reduce_mean(tf.square(output_layer - output_true))\n",
        "# define our optimizer\n",
        "learn_rate = 0.1   # how fast the model should learn\n",
        "optimizer = tf.compat.v1.train.AdagradOptimizer(learn_rate).minimize(meansq)"
      ]
    },
    {
      "cell_type": "code",
      "execution_count": null,
      "metadata": {
        "id": "mu65OdmO2cl8"
      },
      "outputs": [],
      "source": [
        "# initialising stuff and starting the session\n",
        "init = tf.compat.v1.global_variables_initializer()\n",
        "sess = tf.compat.v1.Session()\n",
        "sess.run(init)\n",
        "# defining batch size, number of epochs and learning rate\n",
        "batch_size = 100  # how many images to use together for training\n",
        "hm_epochs =1000    # how many times to go through the entire dataset\n",
        "tot_images = X_train.shape[0] # total number of images\n",
        "\n",
        "# running the model for a 10000 epochs taking 100 images in batches\n",
        "# total improvement is printed out after each epoch\n",
        "for epoch in range(hm_epochs):\n",
        "    epoch_loss = 0    # initializing error as 0\n",
        "    for i in range(int(tot_images/batch_size)):\n",
        "        epoch_x = X_train[ i*batch_size : (i+1)*batch_size ]\n",
        "        _, c = sess.run([optimizer, meansq],feed_dict={input_layer: epoch_x,  output_true: epoch_x})\n",
        "        epoch_loss += c\n",
        "        print('Epoch', epoch, '/', hm_epochs, 'loss:',epoch_loss)"
      ]
    },
    {
      "cell_type": "code",
      "source": [
        "# deciding how big we want our print out to be\n",
        "rcParams['figure.figsize'] = 20,20\n",
        "# looping through the first 10 test images and printing  them out\n",
        "for i in range(10):\n",
        "    plt.subplot(1, 10, i+1)\n",
        "    plt.imshow(X_test[i].reshape(28,28),  cmap='Greys')\n",
        "    plt.axis('off')\n",
        "plt.show()\n",
        "# printing out the noisy images\n",
        "for i in range(10):\n",
        "    plt.subplot(1, 10, i+1)\n",
        "    plt.imshow(X_test_noisy[i].reshape(28,28),  cmap='Greys')\n",
        "    plt.axis('off')\n",
        "plt.show()"
      ],
      "metadata": {
        "colab": {
          "base_uri": "https://localhost:8080/",
          "height": 232
        },
        "id": "wiZkbU_j55ad",
        "outputId": "b7846493-669c-4971-9ed3-55f63ddcd29b"
      },
      "execution_count": null,
      "outputs": [
        {
          "output_type": "display_data",
          "data": {
            "image/png": "[encoded data removed]",
            "text/plain": [
              "<Figure size 1440x1440 with 10 Axes>"
            ]
          },
          "metadata": {}
        },
        {
          "output_type": "display_data",
          "data": {
            "image/png": "[encoded data removed]",
            "text/plain": [
              "<Figure size 1440x1440 with 10 Axes>"
            ]
          },
          "metadata": {}
        }
      ]
    },
    {
      "cell_type": "code",
      "execution_count": null,
      "metadata": {
        "id": "RoWSKKDT2cl9"
      },
      "outputs": [],
      "source": [
        "# pick any image\n",
        "any_image = X_test_noisy[10]\n",
        "# run it though the autoencoder\n",
        "output_any_image = sess.run(output_layer,\n",
        "                   feed_dict={input_layer:[any_image]})"
      ]
    }
  ],
  "metadata": {
    "accelerator": "GPU",
    "colab": {
      "collapsed_sections": [
        "kbkbHJna2cll"
      ],
      "provenance": [],
      "include_colab_link": true
    },
    "kernelspec": {
      "display_name": "Python 3",
      "language": "python",
      "name": "python3"
    },
    "language_info": {
      "codemirror_mode": {
        "name": "ipython",
        "version": 3
      },
      "file_extension": ".py",
      "mimetype": "text/x-python",
      "name": "python",
      "nbconvert_exporter": "python",
      "pygments_lexer": "ipython3",
      "version": "3.7.3"
    }
  },
  "nbformat": 4,
  "nbformat_minor": 0
}