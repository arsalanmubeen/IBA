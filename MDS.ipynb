{
  "nbformat": 4,
  "nbformat_minor": 0,
  "metadata": {
    "colab": {
      "provenance": [],
      "include_colab_link": true
    },
    "kernelspec": {
      "name": "python3",
      "display_name": "Python 3"
    }
  },
  "cells": [
    {
      "cell_type": "markdown",
      "metadata": {
        "id": "view-in-github",
        "colab_type": "text"
      },
      "source": [
        "<a href=\"https://colab.research.google.com/github/arsalanmubeen/IBA/blob/main/MDS.ipynb\" target=\"_parent\"><img src=\"https://colab.research.google.com/assets/colab-badge.svg\" alt=\"Open In Colab\"/></a>"
      ]
    },
    {
      "cell_type": "markdown",
      "metadata": {
        "id": "VE1XPuAg3uaC"
      },
      "source": [
        "#Multi-Dimensional Scaling (MDS)\n",
        "\n",
        "We show how to perform classical MDS on an input $5 \\times 5$ distance matrix $D$.  "
      ]
    },
    {
      "cell_type": "code",
      "metadata": {
        "id": "6uguwZsJSKBf",
        "colab": {
          "base_uri": "https://localhost:8080/"
        },
        "outputId": "9532d829-ac63-4fe5-c862-39a3b31912aa"
      },
      "source": [
        "import numpy as np\n",
        "from scipy import linalg as LA\n",
        "D = np.array([[0,4,3,7,8],[4,0,1,6,7],[3,1,0,5,7],[7,6,5,0,1],[8,7,7,1,0]])\n",
        "D2 = np.square(D)\n",
        "print(D)\n",
        "print(D2)"
      ],
      "execution_count": null,
      "outputs": [
        {
          "output_type": "stream",
          "name": "stdout",
          "text": [
            "[[0 4 3 7 8]\n",
            " [4 0 1 6 7]\n",
            " [3 1 0 5 7]\n",
            " [7 6 5 0 1]\n",
            " [8 7 7 1 0]]\n",
            "[[ 0 16  9 49 64]\n",
            " [16  0  1 36 49]\n",
            " [ 9  1  0 25 49]\n",
            " [49 36 25  0  1]\n",
            " [64 49 49  1  0]]\n"
          ]
        }
      ]
    },
    {
      "cell_type": "markdown",
      "metadata": {
        "id": "UFcR96eY4B83"
      },
      "source": [
        "We need to use a centering matrix $C$."
      ]
    },
    {
      "cell_type": "code",
      "metadata": {
        "id": "LEw6SdguSpOk",
        "colab": {
          "base_uri": "https://localhost:8080/"
        },
        "outputId": "a5425d9d-a472-4c9b-c22a-91cdb5d736fc"
      },
      "source": [
        "C = np.eye(5) - 0.2*np.ones(5)\n",
        "print(C)"
      ],
      "execution_count": null,
      "outputs": [
        {
          "output_type": "stream",
          "name": "stdout",
          "text": [
            "[[ 0.8 -0.2 -0.2 -0.2 -0.2]\n",
            " [-0.2  0.8 -0.2 -0.2 -0.2]\n",
            " [-0.2 -0.2  0.8 -0.2 -0.2]\n",
            " [-0.2 -0.2 -0.2  0.8 -0.2]\n",
            " [-0.2 -0.2 -0.2 -0.2  0.8]]\n"
          ]
        }
      ]
    },
    {
      "cell_type": "markdown",
      "metadata": {
        "id": "5YaVJOQt4F9l"
      },
      "source": [
        "The preprocessing is to create a matrix $M$ that is $-1/2$ times the squared distance matrix $D2$ that has been ``double centered.\"  That is we multiply $D2$ by the centering matrix on both sides.  "
      ]
    },
    {
      "cell_type": "code",
      "metadata": {
        "id": "Rt7rUCqgTHt6",
        "colab": {
          "base_uri": "https://localhost:8080/"
        },
        "outputId": "7e7ee367-c457-4be5-fded-87efb9bf8ebf"
      },
      "source": [
        "M = -0.5* C @ D2 @ C\n",
        "print(M)"
      ],
      "execution_count": null,
      "outputs": [
        {
          "output_type": "stream",
          "name": "stdout",
          "text": [
            "[[ 15.64   4.04   5.74 -11.56 -13.86]\n",
            " [  4.04   8.44   6.14  -8.66  -9.96]\n",
            " [  5.74   6.14   4.84  -4.96 -11.76]\n",
            " [-11.56  -8.66  -4.96  10.24  14.94]\n",
            " [-13.86  -9.96 -11.76  14.94  20.64]]\n"
          ]
        }
      ]
    },
    {
      "cell_type": "markdown",
      "metadata": {
        "id": "G5fkkODg4Yaw"
      },
      "source": [
        "Then the basis for finding of an embedding of the points which may result in distance matrix $D$ is encoded in the eigenbasis of $M$.  "
      ]
    },
    {
      "cell_type": "code",
      "metadata": {
        "id": "nYYwuQwgTeu4",
        "colab": {
          "base_uri": "https://localhost:8080/"
        },
        "outputId": "a83d2db8-77df-4ef3-9a51-8f928061907e"
      },
      "source": [
        "l,V = LA.eig(M)\n",
        "print(l)\n",
        "print(V)"
      ],
      "execution_count": null,
      "outputs": [
        {
          "output_type": "stream",
          "name": "stdout",
          "text": [
            "[ 5.22353636e+01+0.j  8.15845236e+00+0.j -3.52724344e+00+0.j\n",
            "  7.76457094e-16+0.j  2.93342746e+00+0.j]\n",
            "[[-0.46191632 -0.74658493 -0.14641759  0.4472136   0.08835238]\n",
            " [-0.31642756  0.58531803 -0.31307441  0.4472136   0.5091766 ]\n",
            " [-0.2997397   0.27356107  0.60018007  0.4472136  -0.5245039 ]\n",
            " [ 0.45091998  0.0409948  -0.57553391  0.4472136  -0.51356724]\n",
            " [ 0.62716361 -0.15328898  0.43484584  0.4472136   0.44054216]]\n"
          ]
        }
      ]
    },
    {
      "cell_type": "markdown",
      "metadata": {
        "id": "Gy-gTXnU4iyY"
      },
      "source": [
        "These may have imaginary components if the distance matrix $D$ has noise in it.  We remove these for simplicity.  "
      ]
    },
    {
      "cell_type": "code",
      "metadata": {
        "id": "ALIB5wcXTxcd",
        "colab": {
          "base_uri": "https://localhost:8080/"
        },
        "outputId": "62a2ea6d-99fd-429b-84be-2b573133e477"
      },
      "source": [
        "s = np.real(np.power(l,0.5))\n",
        "print(s)"
      ],
      "execution_count": null,
      "outputs": [
        {
          "output_type": "stream",
          "name": "stdout",
          "text": [
            "[7.22740366e+00 2.85630047e+00 1.15000194e-16 2.78649797e-08\n",
            " 1.71272516e+00]\n"
          ]
        }
      ]
    },
    {
      "cell_type": "code",
      "metadata": {
        "id": "TM01UjVeUkO-",
        "colab": {
          "base_uri": "https://localhost:8080/"
        },
        "outputId": "3a852350-c630-4d4b-bba0-ebce00d9c280"
      },
      "source": [
        "V2 = V[:,[0,1]]\n",
        "s2 = np.diag(s[0:2])\n",
        "print(s2)"
      ],
      "execution_count": null,
      "outputs": [
        {
          "output_type": "stream",
          "name": "stdout",
          "text": [
            "[[7.22740366 0.        ]\n",
            " [0.         2.85630047]]\n"
          ]
        }
      ]
    },
    {
      "cell_type": "markdown",
      "metadata": {
        "id": "4rVk-JW040tV"
      },
      "source": [
        "The resulting embedding is found by the top $k=2$ eigenvectors scaled by the corresponding eigenvalues."
      ]
    },
    {
      "cell_type": "code",
      "metadata": {
        "id": "2dBrrCsQUtrz",
        "colab": {
          "base_uri": "https://localhost:8080/"
        },
        "outputId": "49049ed1-c761-48f6-d480-387dc1f78b06"
      },
      "source": [
        "Q = V2 @ s2\n",
        "print(Q)"
      ],
      "execution_count": null,
      "outputs": [
        {
          "output_type": "stream",
          "name": "stdout",
          "text": [
            "[[-3.33845572 -2.13247088]\n",
            " [-2.28694974  1.67184417]\n",
            " [-2.1663398   0.78137262]\n",
            " [ 3.25898073  0.11709348]\n",
            " [ 4.53276454 -0.43783938]]\n"
          ]
        }
      ]
    },
    {
      "cell_type": "markdown",
      "metadata": {
        "id": "ElQ8oEbS4_Xd"
      },
      "source": [
        "We plot the derived $5$ points in their $2$-dimensions.  Note that we can shift all points by the same offset vectors and the pairwise distances are the same.  The classical MDS method we have performed chooses the shift so the average vector of all derived points is exactly $0$.  "
      ]
    },
    {
      "cell_type": "code",
      "metadata": {
        "id": "-D2qbuzQV2br",
        "colab": {
          "base_uri": "https://localhost:8080/",
          "height": 265
        },
        "outputId": "4e89660c-900f-43fd-f8df-3818e68ffd0b"
      },
      "source": [
        "import matplotlib.pyplot as plt\n",
        "plt.plot(Q[:,0],Q[:,1],'ro')\n",
        "plt.show()"
      ],
      "execution_count": null,
      "outputs": [
        {
          "output_type": "display_data",
          "data": {
            "image/png": "[encoded data removed]",
            "text/plain": [
              "<Figure size 432x288 with 1 Axes>"
            ]
          },
          "metadata": {
            "needs_background": "light"
          }
        }
      ]
    },
    {
      "cell_type": "code",
      "metadata": {
        "id": "LNcSkU91WM9n"
      },
      "source": [],
      "execution_count": null,
      "outputs": []
    }
  ]
}