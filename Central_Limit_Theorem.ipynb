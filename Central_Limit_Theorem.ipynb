{
  "nbformat": 4,
  "nbformat_minor": 0,
  "metadata": {
    "kernelspec": {
      "display_name": "Python 3",
      "language": "python",
      "name": "python3"
    },
    "language_info": {
      "codemirror_mode": {
        "name": "ipython",
        "version": 3
      },
      "file_extension": ".py",
      "mimetype": "text/x-python",
      "name": "python",
      "nbconvert_exporter": "python",
      "pygments_lexer": "ipython3",
      "version": "3.8.5"
    },
    "colab": {
      "provenance": [],
      "include_colab_link": true
    }
  },
  "cells": [
    {
      "cell_type": "markdown",
      "metadata": {
        "id": "view-in-github",
        "colab_type": "text"
      },
      "source": [
        "<a href=\"https://colab.research.google.com/github/arsalanmubeen/IBA/blob/main/Central_Limit_Theorem.ipynb\" target=\"_parent\"><img src=\"https://colab.research.google.com/assets/colab-badge.svg\" alt=\"Open In Colab\"/></a>"
      ]
    },
    {
      "cell_type": "markdown",
      "metadata": {
        "id": "g12beSJ3EYsp"
      },
      "source": [
        "## Central Limit Theorem"
      ]
    },
    {
      "cell_type": "code",
      "metadata": {
        "id": "GakGeh4ZEYsq"
      },
      "source": [
        "import numpy as np  \n",
        "import matplotlib.pyplot as plt  \n",
        "%matplotlib inline "
      ],
      "execution_count": null,
      "outputs": []
    },
    {
      "cell_type": "code",
      "metadata": {
        "id": "sStBWaUpEYss",
        "outputId": "e3e152f2-e0c7-4b50-950a-7c148e6a3c8f",
        "colab": {
          "base_uri": "https://localhost:8080/",
          "height": 313
        }
      },
      "source": [
        "numIterations = np.asarray([1,2,5,10,50,100]); #number of i.i.d RVs  \n",
        "\n",
        "experiment = 'dice' #valid values: 'dice', 'coins'  \n",
        "\n",
        "maxNumForExperiment = {'dice':6,'coins':2} #max numbers represented on dice or coins nSamp=100000 \n",
        "\n",
        "nSamp=1000000\n",
        "\n",
        "k = maxNumForExperiment[experiment] \n",
        "\n",
        "fig, fig_axes = plt.subplots(ncols=3, nrows=2, constrained_layout=True) \n",
        "\n",
        "for i,N in enumerate(numIterations):  \n",
        "    y = np.random.randint(low=1,high=k+1,size=(N,nSamp)).sum(axis=0)  \n",
        "    row = i//3;col=i%3;  \n",
        "    bins=np.arange(start=min(y),stop=max(y)+2,step=1)  \n",
        "    fig_axes[row,col].hist(y,bins=bins,density=True)  \n",
        "    fig_axes[row,col].set_title('N={} {}'.format(N,experiment)) \n",
        "    \n",
        "plt.show() "
      ],
      "execution_count": null,
      "outputs": [
        {
          "output_type": "display_data",
          "data": {
            "image/png": "[encoded data removed]",
            "text/plain": [
              "<Figure size 432x288 with 6 Axes>"
            ]
          },
          "metadata": {
            "needs_background": "light"
          }
        }
      ]
    }
  ]
}