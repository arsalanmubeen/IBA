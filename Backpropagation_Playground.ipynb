{
  "nbformat": 4,
  "nbformat_minor": 0,
  "metadata": {
    "colab": {
      "provenance": [],
      "authorship_tag": "ABX9TyPFvy2blU9ukRLr7R5jMxHb",
      "include_colab_link": true
    },
    "kernelspec": {
      "name": "python3",
      "display_name": "Python 3"
    },
    "language_info": {
      "name": "python"
    }
  },
  "cells": [
    {
      "cell_type": "markdown",
      "metadata": {
        "id": "view-in-github",
        "colab_type": "text"
      },
      "source": [
        "<a href=\"https://colab.research.google.com/github/arsalanmubeen/IBA/blob/main/Backpropagation_Playground.ipynb\" target=\"_parent\"><img src=\"https://colab.research.google.com/assets/colab-badge.svg\" alt=\"Open In Colab\"/></a>"
      ]
    },
    {
      "cell_type": "code",
      "metadata": {
        "id": "x4vO6DlXjZMz"
      },
      "source": [
        "import numpy as np\n",
        "import pandas as pd\n",
        "\n",
        "from sklearn.model_selection import train_test_split\n",
        "from sklearn.preprocessing import MinMaxScaler\n",
        "\n",
        "import matplotlib.pyplot as plt\n",
        "import seaborn as sns"
      ],
      "execution_count": null,
      "outputs": []
    },
    {
      "cell_type": "code",
      "metadata": {
        "id": "-8AWUw4phBM2"
      },
      "source": [
        "def TrainingInstance(TraininginstanceSize):\n",
        " sizeX = TraininginstanceSize\n",
        " X1= np.random.normal(loc = 0.0, scale = 1.0, size = (sizeX , 4)) \n",
        " import random\n",
        " df =pd.DataFrame(data=X1,columns=[\"X1\", \"X2\" , \"X3\",\"X4\"])\n",
        "\n",
        " randomlist = []\n",
        " for i in range(0,sizeX):\n",
        "   n = random.randint(0,3)\n",
        "   randomlist.append(n)\n",
        " df[\"Y\"]  = randomlist\n",
        " return df"
      ],
      "execution_count": null,
      "outputs": []
    },
    {
      "cell_type": "markdown",
      "metadata": {
        "id": "ugD3jyPxq-Yy"
      },
      "source": [
        "# Train-Test-Split"
      ]
    },
    {
      "cell_type": "code",
      "metadata": {
        "id": "Cfc3n_thq5iv"
      },
      "source": [
        "def Train_Test_Split(df,Train_test_split_ratio):\n",
        " x = df.drop(\"Y\", axis=1).values # input matrix \n",
        " y = df.Y.values # Lable matrix \n",
        "\n",
        " sizeX = Train_test_split_ratio # test split size \n",
        "\n",
        " x_train, x_test, y_train, y_test = train_test_split(x, y, test_size=sizeX, random_state=0)\n",
        "\n",
        " y_train = y_train.reshape((-1,1))\n",
        " y_test = y_test.reshape((-1,1))\n",
        " return x_train, x_test, y_train, y_test"
      ],
      "execution_count": null,
      "outputs": []
    },
    {
      "cell_type": "markdown",
      "metadata": {
        "id": "cUPSor9srpIX"
      },
      "source": [
        "# Helper Functions"
      ]
    },
    {
      "cell_type": "code",
      "metadata": {
        "id": "EwVgkbQurM-2"
      },
      "source": [
        "#activation fuction \n",
        "def sigmoid(x):\n",
        "    return 1 / (1 + np.exp(-x))\n",
        "\n",
        "def tanh(x):\n",
        "    return (np.exp(x)-np.exp(-x))/(np.exp(x)+np.exp(-x))\n",
        "#lost fuction\n",
        "def mean_squared_error(predictions, labels):\n",
        "    N = labels.size \n",
        "    mse = ((predictions - labels)**2).sum() / (2*N)\n",
        "    return mse\n",
        "\n",
        "def accuracy(predictions, labels):\n",
        "    predicions_correct = predictions.round() == labels\n",
        "    accuracy = predicions_correct.mean()\n",
        "    return accuracy"
      ],
      "execution_count": null,
      "outputs": []
    },
    {
      "cell_type": "markdown",
      "metadata": {
        "id": "bQoOneQur5f7"
      },
      "source": [
        "\n",
        "# Weight Initialization"
      ]
    },
    {
      "cell_type": "code",
      "metadata": {
        "id": "dPn8hHXtr4cm"
      },
      "source": [
        "def Weight_Initialization(n_input, n_hidden, n_output):\n",
        " np.random.seed(10)\n",
        " # im craeting two waight matrix \n",
        " # pick the Random value from the normal distribution . SD = 0.5\n",
        " # Siza = Waight goes to the I/p layer to th Hidden layer\n",
        " weights_1 = np.random.normal(scale=0.5, size=(n_input, n_hidden))   \n",
        " weights_2 = np.random.normal(scale=0.5, size=(n_hidden, n_output))  \n",
        " return weights_1,weights_2"
      ],
      "execution_count": null,
      "outputs": []
    },
    {
      "cell_type": "markdown",
      "metadata": {
        "id": "EyvdlphEr8qR"
      },
      "source": [
        "# Training the Neural Network"
      ]
    },
    {
      "cell_type": "code",
      "metadata": {
        "id": "e20GteoUr_9_"
      },
      "source": [
        "def  Training_the_Neural_Network(y_train,x_train,weights_1,weights_2,epochs,activation_function,learning_rate):\n",
        " N = y_train.size\n",
        " monitoring = {\"mean_squared_error\": [], \"accuracy\": []}\n",
        " for epoch in range(epochs):\n",
        "\n",
        "    \n",
        "    # activation_function from two (sigmoid or tanh)\n",
        "    if (activation_function == 0):\n",
        "      # feedforward \n",
        "      hidden_layer = sigmoid(np.dot(x_train, weights_1))      \n",
        "      output_layer = sigmoid(np.dot(hidden_layer, weights_2))   \n",
        "    \n",
        "      # monitor training process\n",
        "      acc = accuracy(output_layer, y_train)\n",
        "      mse = mean_squared_error(output_layer, y_train)\n",
        "      monitoring[\"accuracy\"].append(acc)\n",
        "      monitoring[\"mean_squared_error\"].append(mse)\n",
        "  \n",
        "      # backpropagation\n",
        "      output_layer_delta = (output_layer - y_train) * output_layer * (1 - output_layer)                \n",
        "      hidden_layer_delta = np.dot(output_layer_delta, weights_2.T) * hidden_layer * (1 - hidden_layer)  \n",
        "\n",
        "      # weight updates\n",
        "      weights_2 -= learning_rate * np.dot(hidden_layer.T, output_layer_delta) / N   \n",
        "      weights_1 -= learning_rate * np.dot(x_train.T, hidden_layer_delta) / N        \n",
        "\n",
        "    else:\n",
        "      # feedforward\n",
        "      hidden_layer = tanh(np.dot(x_train, weights_1))        \n",
        "      output_layer = tanh(np.dot(hidden_layer, weights_2))   \n",
        "\n",
        "      # monitor training process\n",
        "      acc = accuracy(output_layer, y_train)\n",
        "      mse = mean_squared_error(output_layer, y_train)\n",
        "      monitoring[\"accuracy\"].append(acc)\n",
        "      monitoring[\"mean_squared_error\"].append(mse)\n",
        "  \n",
        "      # backpropagation\n",
        "      output_layer_delta = (output_layer - y_train) * output_layer * (1 - output_layer)                 \n",
        "      hidden_layer_delta = np.dot(output_layer_delta, weights_2.T) * hidden_layer * (1 - hidden_layer) \n",
        "\n",
        "      # weight updates\n",
        "      weights_2 -= learning_rate * np.dot(hidden_layer.T, output_layer_delta) / N  \n",
        "      weights_1 -= learning_rate * np.dot(x_train.T, hidden_layer_delta) / N        #\n",
        "    \n",
        "\n",
        " monitoring_df = pd.DataFrame(monitoring)\n",
        " return monitoring_df, weights_1, weights_2\n"
      ],
      "execution_count": null,
      "outputs": []
    },
    {
      "cell_type": "code",
      "metadata": {
        "id": "t_GPwTC5OQrK"
      },
      "source": [
        "def  PlotMSEandACC(monitoring_df):\n",
        " fig, axes = plt.subplots(1, 2, figsize=(15,5))\n",
        " monitoring_df.mean_squared_error.plot(ax=axes[0], title=\"Mean Squared Error\")\n",
        " monitoring_df.accuracy.plot(ax=axes[1], title=\"Accuracy\");"
      ],
      "execution_count": null,
      "outputs": []
    },
    {
      "cell_type": "code",
      "metadata": {
        "id": "tI7Uvd6xOTZO"
      },
      "source": [
        "def  Test_Data(weights_1,weights_2,x_test,y_test):\n",
        " hidden_layer_inputs = np.dot(x_test, weights_1)\n",
        " hidden_layer_outputs = sigmoid(hidden_layer_inputs)\n",
        "\n",
        " output_layer_inputs = np.dot(hidden_layer_outputs, weights_2)\n",
        " output_layer_outputs = sigmoid(output_layer_inputs)\n",
        "\n",
        " acc = accuracy(output_layer_outputs, y_test)\n",
        " print(\"Accuracy of Test Data: {} \\n\".format(acc))\n"
      ],
      "execution_count": null,
      "outputs": []
    },
    {
      "cell_type": "code",
      "metadata": {
        "id": "SvC89bqhI5bZ"
      },
      "source": [
        "def MainFun(TraininginstanceSize, Train_test_split_ratio , learning_rate ,neurons_in_the_input_layer,neurons_in_the_hidden_layer,neurons_in_the_output_layer,epochs,activation_function):\n",
        "   DF = TrainingInstance(TraininginstanceSize)\n",
        "   x_train, x_test, y_train, y_test = Train_Test_Split(DF,Train_test_split_ratio)\n",
        "   weights_1,weights_2 = Weight_Initialization(neurons_in_the_input_layer, neurons_in_the_hidden_layer, neurons_in_the_output_layer)\n",
        "   monitoring_df, weights_1, weights_2 = Training_the_Neural_Network(y_train,x_train,weights_1,weights_2,epochs,activation_function,learning_rate)\n",
        "   PlotMSEandACC(monitoring_df)\n",
        "   Test_Data(weights_1,weights_2,x_test,y_test)\n"
      ],
      "execution_count": null,
      "outputs": []
    },
    {
      "cell_type": "code",
      "metadata": {
        "colab": {
          "base_uri": "https://localhost:8080/",
          "height": 370
        },
        "id": "bFvDFSmiPnIx",
        "outputId": "e493e3d4-c394-4b74-8fcd-ff6f05ddee71"
      },
      "source": [
        "MainFun(TraininginstanceSize=5000,\n",
        "        Train_test_split_ratio = 0.2,\n",
        "        learning_rate= 1,\n",
        "        neurons_in_the_input_layer= 4,\n",
        "        neurons_in_the_hidden_layer= 3,\n",
        "        neurons_in_the_output_layer= 2,\n",
        "        epochs= 1000, # Traning iteration \n",
        "        activation_function = 0) # (sigmoid = 0 or tanh = 1)"
      ],
      "execution_count": null,
      "outputs": [
        {
          "output_type": "stream",
          "name": "stdout",
          "text": [
            "Accuracy of Test Data: 0.254 \n",
            "\n"
          ]
        },
        {
          "output_type": "display_data",
          "data": {
            "image/png": "[encoded data removed]",
            "text/plain": [
              "<Figure size 1080x360 with 2 Axes>"
            ]
          },
          "metadata": {
            "needs_background": "light"
          }
        }
      ]
    }
  ]
}