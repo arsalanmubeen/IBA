{
  "nbformat": 4,
  "nbformat_minor": 0,
  "metadata": {
    "colab": {
      "provenance": [],
      "collapsed_sections": []
    },
    "kernelspec": {
      "name": "python3",
      "display_name": "Python 3"
    },
    "language_info": {
      "name": "python"
    }
  },
  "cells": [
    {
      "cell_type": "code",
      "metadata": {
        "colab": {
          "base_uri": "https://localhost:8080/"
        },
        "id": "W0cbEqc1Du0j",
        "outputId": "d68f9961-9442-4f2c-f897-04ed03717dcd"
      },
      "source": [
        "pip install pyspark"
      ],
      "execution_count": null,
      "outputs": [
        {
          "output_type": "stream",
          "text": [
            "Requirement already satisfied: pyspark in /usr/local/lib/python3.7/dist-packages (3.1.2)\n",
            "Requirement already satisfied: py4j==0.10.9 in /usr/local/lib/python3.7/dist-packages (from pyspark) (0.10.9)\n"
          ],
          "name": "stdout"
        }
      ]
    },
    {
      "cell_type": "code",
      "metadata": {
        "id": "-BIxT8zOD63S"
      },
      "source": [
        "import pyspark"
      ],
      "execution_count": null,
      "outputs": []
    },
    {
      "cell_type": "code",
      "metadata": {
        "id": "UKSaozX6CCGD"
      },
      "source": [
        "from pyspark.sql import functions as sf\n",
        "from pyspark import SparkContext, SparkConf\n",
        "from pyspark.sql.types import IntegerType"
      ],
      "execution_count": null,
      "outputs": []
    },
    {
      "cell_type": "code",
      "metadata": {
        "id": "bUyk6D-JEegH"
      },
      "source": [
        "#setup configuration property \n",
        "#set the master URL \n",
        "#set an application name \n",
        "conf = SparkConf().setMaster(\"local\").setAppName(\"sparkproject\")\n",
        "#start spark cluster \n",
        "#if already started then get it else start it \n",
        "sc = SparkContext.getOrCreate(conf=conf)\n",
        "#initialize SQLContext from spark cluster \n",
        "sqlContext = SQLContext(sc)"
      ],
      "execution_count": null,
      "outputs": []
    },
    {
      "cell_type": "code",
      "metadata": {
        "id": "PgQOUQeoEkmD"
      },
      "source": [
        "#Filepath variable for your file location directory\n",
        "FilePath=\"/content/\"\n",
        "#FileName variable\n",
        "FileName=\"flights_small.csv\"\n",
        "#combine both above variables\n",
        "FullPath= FilePath + FileName"
      ],
      "execution_count": null,
      "outputs": []
    },
    {
      "cell_type": "code",
      "metadata": {
        "colab": {
          "base_uri": "https://localhost:8080/"
        },
        "id": "I64yewoqEusr",
        "outputId": "cab2e841-e8bd-4f81-ea6c-1eb9ab156cf6"
      },
      "source": [
        "#dataframe \n",
        "#set header property true for the actual header columns\n",
        "df=sqlContext.read.csv(FullPath, header=True)\n",
        "#display data from the dataframe\n",
        "df.show()"
      ],
      "execution_count": null,
      "outputs": [
        {
          "output_type": "stream",
          "text": [
            "+----+-----+---+--------+---------+--------+---------+-------+-------+------+------+----+--------+--------+----+------+\n",
            "|year|month|day|dep_time|dep_delay|arr_time|arr_delay|carrier|tailnum|flight|origin|dest|air_time|distance|hour|minute|\n",
            "+----+-----+---+--------+---------+--------+---------+-------+-------+------+------+----+--------+--------+----+------+\n",
            "|2014|   12|  8|     658|       -7|     935|       -5|     VX| N846VA|  1780|   SEA| LAX|     132|     954|   6|    58|\n",
            "|2014|    1| 22|    1040|        5|    1505|        5|     AS| N559AS|   851|   SEA| HNL|     360|    2677|  10|    40|\n",
            "|2014|    3|  9|    1443|       -2|    1652|        2|     VX| N847VA|   755|   SEA| SFO|     111|     679|  14|    43|\n",
            "|2014|    4|  9|    1705|       45|    1839|       34|     WN| N360SW|   344|   PDX| SJC|      83|     569|  17|     5|\n",
            "|2014|    3|  9|     754|       -1|    1015|        1|     AS| N612AS|   522|   SEA| BUR|     127|     937|   7|    54|\n",
            "|2014|    1| 15|    1037|        7|    1352|        2|     WN| N646SW|    48|   PDX| DEN|     121|     991|  10|    37|\n",
            "|2014|    7|  2|     847|       42|    1041|       51|     WN| N422WN|  1520|   PDX| OAK|      90|     543|   8|    47|\n",
            "|2014|    5| 12|    1655|       -5|    1842|      -18|     VX| N361VA|   755|   SEA| SFO|      98|     679|  16|    55|\n",
            "|2014|    4| 19|    1236|       -4|    1508|       -7|     AS| N309AS|   490|   SEA| SAN|     135|    1050|  12|    36|\n",
            "|2014|   11| 19|    1812|       -3|    2352|       -4|     AS| N564AS|    26|   SEA| ORD|     198|    1721|  18|    12|\n",
            "|2014|   11|  8|    1653|       -2|    1924|       -1|     AS| N323AS|   448|   SEA| LAX|     130|     954|  16|    53|\n",
            "|2014|    8|  3|    1120|        0|    1415|        2|     AS| N305AS|   656|   SEA| PHX|     154|    1107|  11|    20|\n",
            "|2014|   10| 30|     811|       21|    1038|       29|     AS| N433AS|   608|   SEA| LAS|     127|     867|   8|    11|\n",
            "|2014|   11| 12|    2346|       -4|     217|      -28|     AS| N765AS|   121|   SEA| ANC|     183|    1448|  23|    46|\n",
            "|2014|   10| 31|    1314|       89|    1544|      111|     AS| N713AS|   306|   SEA| SFO|     129|     679|  13|    14|\n",
            "|2014|    1| 29|    2009|        3|    2159|        9|     UA| N27205|  1458|   PDX| SFO|      90|     550|  20|     9|\n",
            "|2014|   12| 17|    2015|       50|    2150|       41|     AS| N626AS|   368|   SEA| SMF|      76|     605|  20|    15|\n",
            "|2014|    8| 11|    1017|       -3|    1613|       -7|     WN| N8634A|   827|   SEA| MDW|     216|    1733|  10|    17|\n",
            "|2014|    1| 13|    2156|       -9|     607|      -15|     AS| N597AS|    24|   SEA| BOS|     290|    2496|  21|    56|\n",
            "|2014|    6|  5|    1733|      -12|    1945|      -10|     OO| N215AG|  3488|   PDX| BUR|     111|     817|  17|    33|\n",
            "+----+-----+---+--------+---------+--------+---------+-------+-------+------+------+----+--------+--------+----+------+\n",
            "only showing top 20 rows\n",
            "\n"
          ],
          "name": "stdout"
        }
      ]
    },
    {
      "cell_type": "code",
      "metadata": {
        "colab": {
          "base_uri": "https://localhost:8080/"
        },
        "id": "U9ghO4RIE6JT",
        "outputId": "b0613a35-590d-4a10-d75b-67998cee30bc"
      },
      "source": [
        "flights_small = flights_small.withColumn('Full_Date', \n",
        "                    sf.concat(sf.col('day'),sf.lit('/'), sf.col('month'),sf.lit('/'), sf.col('year')))\n",
        "flights_small.show()"
      ],
      "execution_count": null,
      "outputs": [
        {
          "output_type": "stream",
          "text": [
            "+----+-----+---+--------+---------+--------+---------+-------+-------+------+------+----+--------+--------+----+------+----------+\n",
            "|year|month|day|dep_time|dep_delay|arr_time|arr_delay|carrier|tailnum|flight|origin|dest|air_time|distance|hour|minute| Full_Date|\n",
            "+----+-----+---+--------+---------+--------+---------+-------+-------+------+------+----+--------+--------+----+------+----------+\n",
            "|2014|   12|  8|     658|       -7|     935|       -5|     VX| N846VA|  1780|   SEA| LAX|     132|     954|   6|    58| 8/12/2014|\n",
            "|2014|    1| 22|    1040|        5|    1505|        5|     AS| N559AS|   851|   SEA| HNL|     360|    2677|  10|    40| 22/1/2014|\n",
            "|2014|    3|  9|    1443|       -2|    1652|        2|     VX| N847VA|   755|   SEA| SFO|     111|     679|  14|    43|  9/3/2014|\n",
            "|2014|    4|  9|    1705|       45|    1839|       34|     WN| N360SW|   344|   PDX| SJC|      83|     569|  17|     5|  9/4/2014|\n",
            "|2014|    3|  9|     754|       -1|    1015|        1|     AS| N612AS|   522|   SEA| BUR|     127|     937|   7|    54|  9/3/2014|\n",
            "|2014|    1| 15|    1037|        7|    1352|        2|     WN| N646SW|    48|   PDX| DEN|     121|     991|  10|    37| 15/1/2014|\n",
            "|2014|    7|  2|     847|       42|    1041|       51|     WN| N422WN|  1520|   PDX| OAK|      90|     543|   8|    47|  2/7/2014|\n",
            "|2014|    5| 12|    1655|       -5|    1842|      -18|     VX| N361VA|   755|   SEA| SFO|      98|     679|  16|    55| 12/5/2014|\n",
            "|2014|    4| 19|    1236|       -4|    1508|       -7|     AS| N309AS|   490|   SEA| SAN|     135|    1050|  12|    36| 19/4/2014|\n",
            "|2014|   11| 19|    1812|       -3|    2352|       -4|     AS| N564AS|    26|   SEA| ORD|     198|    1721|  18|    12|19/11/2014|\n",
            "|2014|   11|  8|    1653|       -2|    1924|       -1|     AS| N323AS|   448|   SEA| LAX|     130|     954|  16|    53| 8/11/2014|\n",
            "|2014|    8|  3|    1120|        0|    1415|        2|     AS| N305AS|   656|   SEA| PHX|     154|    1107|  11|    20|  3/8/2014|\n",
            "|2014|   10| 30|     811|       21|    1038|       29|     AS| N433AS|   608|   SEA| LAS|     127|     867|   8|    11|30/10/2014|\n",
            "|2014|   11| 12|    2346|       -4|     217|      -28|     AS| N765AS|   121|   SEA| ANC|     183|    1448|  23|    46|12/11/2014|\n",
            "|2014|   10| 31|    1314|       89|    1544|      111|     AS| N713AS|   306|   SEA| SFO|     129|     679|  13|    14|31/10/2014|\n",
            "|2014|    1| 29|    2009|        3|    2159|        9|     UA| N27205|  1458|   PDX| SFO|      90|     550|  20|     9| 29/1/2014|\n",
            "|2014|   12| 17|    2015|       50|    2150|       41|     AS| N626AS|   368|   SEA| SMF|      76|     605|  20|    15|17/12/2014|\n",
            "|2014|    8| 11|    1017|       -3|    1613|       -7|     WN| N8634A|   827|   SEA| MDW|     216|    1733|  10|    17| 11/8/2014|\n",
            "|2014|    1| 13|    2156|       -9|     607|      -15|     AS| N597AS|    24|   SEA| BOS|     290|    2496|  21|    56| 13/1/2014|\n",
            "|2014|    6|  5|    1733|      -12|    1945|      -10|     OO| N215AG|  3488|   PDX| BUR|     111|     817|  17|    33|  5/6/2014|\n",
            "+----+-----+---+--------+---------+--------+---------+-------+-------+------+------+----+--------+--------+----+------+----------+\n",
            "only showing top 20 rows\n",
            "\n"
          ],
          "name": "stdout"
        }
      ]
    },
    {
      "cell_type": "code",
      "metadata": {
        "id": "l-0I3f9HJz0Y"
      },
      "source": [
        "#Filepath variable for your file location directory\n",
        "FilePath2=\"/content/\"\n",
        "#FileName variable\n",
        "FileName2=\"homelessness.csv\"\n",
        "#combine both above variables\n",
        "FullPath2= FilePath2 + FileName2"
      ],
      "execution_count": null,
      "outputs": []
    },
    {
      "cell_type": "code",
      "metadata": {
        "colab": {
          "base_uri": "https://localhost:8080/"
        },
        "id": "iQlAgBwhJ9yj",
        "outputId": "66d5811b-c96c-4ed0-db85-cbb9514669a9"
      },
      "source": [
        "#dataframe \n",
        "#set header property true for the actual header columns\n",
        "homelessness=sqlContext.read.csv(FullPath2, header=True)\n",
        "#convert the Data type of two Column\n",
        "homelessness = homelessness.withColumn(\"individuals\", homelessness[\"individuals\"].cast(IntegerType()))\n",
        "homelessness = homelessness.withColumn(\"family_members\", homelessness[\"family_members\"].cast(IntegerType()))\n",
        "#display data from the dataframe\n",
        "homelessness.show()"
      ],
      "execution_count": null,
      "outputs": [
        {
          "output_type": "stream",
          "text": [
            "+---+------------------+--------------------+-----------+--------------+---------+\n",
            "|_c0|            region|               state|individuals|family_members|state_pop|\n",
            "+---+------------------+--------------------+-----------+--------------+---------+\n",
            "|  0|East South Central|             Alabama|       2570|           864|  4887681|\n",
            "|  1|           Pacific|              Alaska|       1434|           582|   735139|\n",
            "|  2|          Mountain|             Arizona|       7259|          2606|  7158024|\n",
            "|  3|West South Central|            Arkansas|       2280|           432|  3009733|\n",
            "|  4|           Pacific|          California|     109008|         20964| 39461588|\n",
            "|  5|          Mountain|            Colorado|       7607|          3250|  5691287|\n",
            "|  6|       New England|         Connecticut|       2280|          1696|  3571520|\n",
            "|  7|    South Atlantic|            Delaware|        708|           374|   965479|\n",
            "|  8|    South Atlantic|District of Columbia|       3770|          3134|   701547|\n",
            "|  9|    South Atlantic|             Florida|      21443|          9587| 21244317|\n",
            "| 10|    South Atlantic|             Georgia|       6943|          2556| 10511131|\n",
            "| 11|           Pacific|              Hawaii|       4131|          2399|  1420593|\n",
            "| 12|          Mountain|               Idaho|       1297|           715|  1750536|\n",
            "| 13|East North Central|            Illinois|       6752|          3891| 12723071|\n",
            "| 14|East North Central|             Indiana|       3776|          1482|  6695497|\n",
            "| 15|West North Central|                Iowa|       1711|          1038|  3148618|\n",
            "| 16|West North Central|              Kansas|       1443|           773|  2911359|\n",
            "| 17|East South Central|            Kentucky|       2735|           953|  4461153|\n",
            "| 18|West South Central|           Louisiana|       2540|           519|  4659690|\n",
            "| 19|       New England|               Maine|       1450|          1066|  1339057|\n",
            "+---+------------------+--------------------+-----------+--------------+---------+\n",
            "only showing top 20 rows\n",
            "\n"
          ],
          "name": "stdout"
        }
      ]
    },
    {
      "cell_type": "code",
      "metadata": {
        "colab": {
          "base_uri": "https://localhost:8080/"
        },
        "id": "h1sK6mYfKFd3",
        "outputId": "fc052ed2-229d-4bd3-e6dd-3dd9a4f403fe"
      },
      "source": [
        "#creating the low cardinality from AVG values of a column\n",
        "homelessness = homelessness.withColumn(\"LABLE_individuals\", \n",
        "                                       sf.when(homelessness.individuals \n",
        "                                               < str(homelessness.select(sf.avg(\"individuals\")).collect()[0][0]) \n",
        "                                               , \"LOW\").otherwise(\"HIGH\"))\n",
        "homelessness = homelessness.withColumn(\"LABLE_family_members\", \n",
        "                                       sf.when(homelessness.family_members \n",
        "                                               < str(homelessness.select(sf.avg(\"family_members\")).collect()[0][0]) \n",
        "                                               , \"LOW\").otherwise(\"HIGH\"))\n",
        "homelessness.show()"
      ],
      "execution_count": null,
      "outputs": [
        {
          "output_type": "stream",
          "text": [
            "+---+------------------+--------------------+-----------+--------------+---------+-----------------+--------------------+\n",
            "|_c0|            region|               state|individuals|family_members|state_pop|LABLE_individuals|LABLE_family_members|\n",
            "+---+------------------+--------------------+-----------+--------------+---------+-----------------+--------------------+\n",
            "|  0|East South Central|             Alabama|       2570|           864|  4887681|              LOW|                 LOW|\n",
            "|  1|           Pacific|              Alaska|       1434|           582|   735139|              LOW|                 LOW|\n",
            "|  2|          Mountain|             Arizona|       7259|          2606|  7158024|             HIGH|                 LOW|\n",
            "|  3|West South Central|            Arkansas|       2280|           432|  3009733|              LOW|                 LOW|\n",
            "|  4|           Pacific|          California|     109008|         20964| 39461588|             HIGH|                HIGH|\n",
            "|  5|          Mountain|            Colorado|       7607|          3250|  5691287|             HIGH|                 LOW|\n",
            "|  6|       New England|         Connecticut|       2280|          1696|  3571520|              LOW|                 LOW|\n",
            "|  7|    South Atlantic|            Delaware|        708|           374|   965479|              LOW|                 LOW|\n",
            "|  8|    South Atlantic|District of Columbia|       3770|          3134|   701547|              LOW|                 LOW|\n",
            "|  9|    South Atlantic|             Florida|      21443|          9587| 21244317|             HIGH|                HIGH|\n",
            "| 10|    South Atlantic|             Georgia|       6943|          2556| 10511131|              LOW|                 LOW|\n",
            "| 11|           Pacific|              Hawaii|       4131|          2399|  1420593|              LOW|                 LOW|\n",
            "| 12|          Mountain|               Idaho|       1297|           715|  1750536|              LOW|                 LOW|\n",
            "| 13|East North Central|            Illinois|       6752|          3891| 12723071|              LOW|                HIGH|\n",
            "| 14|East North Central|             Indiana|       3776|          1482|  6695497|              LOW|                 LOW|\n",
            "| 15|West North Central|                Iowa|       1711|          1038|  3148618|              LOW|                 LOW|\n",
            "| 16|West North Central|              Kansas|       1443|           773|  2911359|              LOW|                 LOW|\n",
            "| 17|East South Central|            Kentucky|       2735|           953|  4461153|              LOW|                 LOW|\n",
            "| 18|West South Central|           Louisiana|       2540|           519|  4659690|              LOW|                 LOW|\n",
            "| 19|       New England|               Maine|       1450|          1066|  1339057|              LOW|                 LOW|\n",
            "+---+------------------+--------------------+-----------+--------------+---------+-----------------+--------------------+\n",
            "only showing top 20 rows\n",
            "\n"
          ],
          "name": "stdout"
        }
      ]
    }
  ]
}