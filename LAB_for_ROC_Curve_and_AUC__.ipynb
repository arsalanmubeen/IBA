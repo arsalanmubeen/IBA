{
  "nbformat": 4,
  "nbformat_minor": 0,
  "metadata": {
    "colab": {
      "provenance": [],
      "collapsed_sections": [],
      "authorship_tag": "ABX9TyMFo3th4lKwFa1+3sU6iQIY",
      "include_colab_link": true
    },
    "kernelspec": {
      "name": "python3",
      "display_name": "Python 3"
    },
    "language_info": {
      "name": "python"
    }
  },
  "cells": [
    {
      "cell_type": "markdown",
      "metadata": {
        "id": "view-in-github",
        "colab_type": "text"
      },
      "source": [
        "<a href=\"https://colab.research.google.com/github/arsalanmubeen/IBA/blob/main/LAB_for_ROC_Curve_and_AUC__.ipynb\" target=\"_parent\"><img src=\"https://colab.research.google.com/assets/colab-badge.svg\" alt=\"Open In Colab\"/></a>"
      ]
    },
    {
      "cell_type": "markdown",
      "metadata": {
        "id": "bn1EIsrMcQ_D"
      },
      "source": [
        "# Receiver Operating Characteristic (ROC) curve\n",
        "The ROC curve summarizes the prediction performance of a classification model at all classification thresholds. Particularly, the ROC curve plots the False Positive Rate (FPR) on the X-axis and the True Positive Rate (TPR) on the Y-axis.\n",
        "\n",
        "True positive rate: This metric is calculated using the true positives and the false negatives according to the following formula.\n",
        "# TPR (Sensitinity) = TP / (TP + FN)\n",
        "\n",
        "False positive rate: This metric is calculated using the false positives and the true negatives according to the following formula.\n",
        "# FPR (1 - Specificity) = FP / (TN + FP)\n",
        "\n",
        "ROC curves make it easy to i dentify the best threshold fo making a decision\n",
        "\n",
        "# AUC\n",
        "\n",
        "And the AUC can help you decide which categorization method is batter. "
      ]
    },
    {
      "cell_type": "markdown",
      "metadata": {
        "id": "Q-6lPWT3GeMJ"
      },
      "source": [
        "# Confusion Matrix:\n",
        "When predicting a binary classification problem, it’s usual to label the positive case as 1 and the negative as 0. When the prediction is equal to the actual value, it is a true case; otherwise, it is a negative one. This matrix aims to reveal information about the proportion of the combinations of these scenarios, including true positives (TP), true negatives (TN), false positives (FP), and false negatives (FN)."
      ]
    },
    {
      "cell_type": "markdown",
      "metadata": {
        "id": "tRCqxxOEelvt"
      },
      "source": [
        "\n",
        "## Generate synthetic dataset\n",
        "I going to use the make classification function. Of scikit learn "
      ]
    },
    {
      "cell_type": "code",
      "metadata": {
        "id": "M6YStQedbfvj"
      },
      "source": [
        "from sklearn.datasets import make_classification"
      ],
      "execution_count": null,
      "outputs": []
    },
    {
      "cell_type": "markdown",
      "metadata": {
        "id": "DsJ22ggutP_a"
      },
      "source": [
        "i going to create the 2000 samples in the data sets and its going to create two classes and the feature wil be ten.\n",
        "\n"
      ]
    },
    {
      "cell_type": "code",
      "metadata": {
        "id": "hoviiCEQtKTi"
      },
      "source": [
        "X, Y = make_classification(n_samples=2000, n_classes=2, n_features=10, random_state=0)"
      ],
      "execution_count": null,
      "outputs": []
    },
    {
      "cell_type": "markdown",
      "metadata": {
        "id": "PBXqa5YAuh9O"
      },
      "source": [
        "# Add noisy features to make the problem more difficult\n",
        "\n",
        "And I going to make noisy features. In order to make tha datasets look more real in otherwise it will make perfect prediction and its look just too good to be true so let's make it a little bit more difficult for the ML model to perform"
      ]
    },
    {
      "cell_type": "code",
      "metadata": {
        "id": "uIzyI6klvB15"
      },
      "source": [
        "import numpy as np"
      ],
      "execution_count": null,
      "outputs": []
    },
    {
      "cell_type": "code",
      "metadata": {
        "id": "KB0DWVe3wBX_"
      },
      "source": [
        "random_state = np.random.RandomState(0)\n",
        "n_samples, n_features = X.shape\n",
        "X = np.c_[X, random_state.randn(n_samples, 200 * n_features)]"
      ],
      "execution_count": null,
      "outputs": []
    },
    {
      "cell_type": "markdown",
      "metadata": {
        "id": "ImEOet_3wEuS"
      },
      "source": [
        "# Data splitting\n",
        "\n",
        "Now let's perform the data splitting and now im going to perform the actual train test split using input argument of XY data matrices and the test size im  going to set it to be 20%"
      ]
    },
    {
      "cell_type": "code",
      "metadata": {
        "id": "C-C9_AyywICa"
      },
      "source": [
        "from sklearn.model_selection import train_test_split"
      ],
      "execution_count": null,
      "outputs": []
    },
    {
      "cell_type": "code",
      "metadata": {
        "id": "OjWhhCKgwIty"
      },
      "source": [
        "X_train, X_test, Y_train, Y_test = train_test_split(X, Y, test_size=.2,\n",
        "                                                    random_state=0)"
      ],
      "execution_count": null,
      "outputs": []
    },
    {
      "cell_type": "markdown",
      "metadata": {
        "id": "4LZAkEPY6wKO"
      },
      "source": [
        "# Build classification model\n",
        "\n",
        "Now im creating two classification models which we will compares\n",
        "* The first one will the random forest \n",
        "* And second one will be the gaussian naive bayes"
      ]
    },
    {
      "cell_type": "code",
      "metadata": {
        "id": "3qhwjTLb68XB"
      },
      "source": [
        "from sklearn.ensemble import RandomForestClassifier\n",
        "from sklearn.naive_bayes import GaussianNB"
      ],
      "execution_count": null,
      "outputs": []
    },
    {
      "cell_type": "markdown",
      "metadata": {
        "id": "LWNipAT_7Gkp"
      },
      "source": [
        "# Random Forest\n",
        "And we are going to assign tha random forest to the RF variable and then RF.fit to create the model and input argument will be the X train and Y train wich will the 80% training set and finally it will be the evaluated on test set"
      ]
    },
    {
      "cell_type": "code",
      "metadata": {
        "colab": {
          "base_uri": "https://localhost:8080/"
        },
        "id": "jjmlJuH37MS2",
        "outputId": "77001035-2457-404a-cc7f-e3b61d3069c6"
      },
      "source": [
        "rf = RandomForestClassifier(max_features=5, n_estimators=500)\n",
        "rf.fit(X_train, Y_train)"
      ],
      "execution_count": null,
      "outputs": [
        {
          "output_type": "execute_result",
          "data": {
            "text/plain": [
              "RandomForestClassifier(bootstrap=True, ccp_alpha=0.0, class_weight=None,\n",
              "                       criterion='gini', max_depth=None, max_features=5,\n",
              "                       max_leaf_nodes=None, max_samples=None,\n",
              "                       min_impurity_decrease=0.0, min_impurity_split=None,\n",
              "                       min_samples_leaf=1, min_samples_split=2,\n",
              "                       min_weight_fraction_leaf=0.0, n_estimators=500,\n",
              "                       n_jobs=None, oob_score=False, random_state=None,\n",
              "                       verbose=0, warm_start=False)"
            ]
          },
          "metadata": {},
          "execution_count": 14
        }
      ]
    },
    {
      "cell_type": "markdown",
      "metadata": {
        "id": "QmULcZrj7QRV"
      },
      "source": [
        "# Naive Bayes\n",
        "And we are going to assign tha Naive Bayes to the nb variable and then nb.fit to create the model and input argument will be the X train and Y train wich will the 80% training set and finally it will be the evaluated on test set"
      ]
    },
    {
      "cell_type": "code",
      "metadata": {
        "colab": {
          "base_uri": "https://localhost:8080/"
        },
        "id": "az48AUFy7STw",
        "outputId": "99ee0728-c5bb-435b-eef0-06a1307aa337"
      },
      "source": [
        "nb = GaussianNB()\n",
        "nb.fit(X_train, Y_train)"
      ],
      "execution_count": null,
      "outputs": [
        {
          "output_type": "execute_result",
          "data": {
            "text/plain": [
              "GaussianNB(priors=None, var_smoothing=1e-09)"
            ]
          },
          "metadata": {},
          "execution_count": 15
        }
      ]
    },
    {
      "cell_type": "markdown",
      "metadata": {
        "id": "YbhSlnGi7aI6"
      },
      "source": [
        "# Prediction probabilities"
      ]
    },
    {
      "cell_type": "markdown",
      "metadata": {
        "id": "bflAXPbdAizW"
      },
      "source": [
        "So here im creating the prediction probability data matrices and tha baseline im going to have a variable called r_probsand this one will contain zero or the worse case scenario.\n",
        "\n",
        "and rf_probs contain the probability of the predicted values by the random forest model and for nb_probs contain the naive base model.\n",
        "\n",
        "Im using tha predict proba fiction to get the probability from the production.\n",
        "\n",
        "Predict_proba: For most models, you can retrieve the probability of the prediction. Probabilities show if there is a difference in the confidence level of the model on the selected class. A higher predict_proba will represent higher confidence levels about the output.\n"
      ]
    },
    {
      "cell_type": "code",
      "metadata": {
        "id": "s27R1g-E7dpc"
      },
      "source": [
        "r_probs = [0 for _ in range(len(Y_test))]\n",
        "rf_probs = rf.predict_proba(X_test)\n",
        "nb_probs = nb.predict_proba(X_test)"
      ],
      "execution_count": null,
      "outputs": []
    },
    {
      "cell_type": "markdown",
      "metadata": {
        "id": "2qcGf-Yd7hHG"
      },
      "source": [
        "Probabilities for the positive outcome is kept."
      ]
    },
    {
      "cell_type": "code",
      "metadata": {
        "id": "dfYsBxHX7itV"
      },
      "source": [
        "rf_probs = rf_probs[:, 1]\n",
        "nb_probs = nb_probs[:, 1]"
      ],
      "execution_count": null,
      "outputs": []
    },
    {
      "cell_type": "markdown",
      "metadata": {
        "id": "ACLF2DrrHol_"
      },
      "source": [
        "# ROC Curve\n",
        "Step 1, choosing a threshold:the ROC curve’s whole idea is to check out different thresholds.By setting the thresholds into equally distant partitions, we can solve our first dilemma.The thresholds that and need to look at are equal to the number of partitions we set, plus one. We will iterate over every threshold defined in this step.\n",
        "\n",
        "\n",
        "Step 2, threshold comparison:In every iteration, we must compare the predicted probability against the current threshold. If the threshold is higher than the predicted probability, we label the sample as a 0, and with 1 on the contrary. \n",
        "\n",
        "Step 3, calculating TPR and FPR:The last part is to calculate the TPR and FPR at every iteration. The method is simple. It’s precisely the same we saw in the last section. The only difference is that we need to save the TPR and FPR in a list before going into the next iteration. The list of TPRs and FPRs pairs is the line in the ROC curve."
      ]
    },
    {
      "cell_type": "markdown",
      "metadata": {
        "id": "ird07npWIxLk"
      },
      "source": [
        "To start, we need a method to replicate step 3, which is accomplished by the following."
      ]
    },
    {
      "cell_type": "code",
      "metadata": {
        "id": "TJ-4dk9gHoV1"
      },
      "source": [
        "def true_false_positive(threshold_vector, y_test):\n",
        "    true_positive = np.equal(threshold_vector, 1) & np.equal(y_test, 1)\n",
        "    true_negative = np.equal(threshold_vector, 0) & np.equal(y_test, 0)\n",
        "    false_positive = np.equal(threshold_vector, 1) & np.equal(y_test, 0)\n",
        "    false_negative = np.equal(threshold_vector, 0) & np.equal(y_test, 1)\n",
        "\n",
        "    tpr = true_positive.sum() / (true_positive.sum() + false_negative.sum())\n",
        "    fpr = false_positive.sum() / (false_positive.sum() + true_negative.sum())\n",
        "\n",
        "    return tpr, fpr"
      ],
      "execution_count": null,
      "outputs": []
    },
    {
      "cell_type": "markdown",
      "metadata": {
        "id": "4HqjMjyNI6u4"
      },
      "source": [
        "The core of the algorithm is to iterate over the thresholds defined in step 1. We go through steps 2 & 3 to add the TPR and FPR pair to the list at every iteration."
      ]
    },
    {
      "cell_type": "code",
      "metadata": {
        "id": "nn8VZ7IKI7lB"
      },
      "source": [
        "def roc_from_scratch(probabilities, y_test, partitions=100):\n",
        "    roc = np.array([])\n",
        "    for i in range(partitions + 1):\n",
        "        \n",
        "        threshold_vector = np.greater_equal(probabilities, i / partitions).astype(int)\n",
        "        tpr, fpr = true_false_positive(threshold_vector, y_test)\n",
        "        roc = np.append(roc, [fpr, tpr])\n",
        "        \n",
        "    return roc.reshape(-1, 2)"
      ],
      "execution_count": null,
      "outputs": []
    },
    {
      "cell_type": "code",
      "metadata": {
        "colab": {
          "base_uri": "https://localhost:8080/",
          "height": 488
        },
        "id": "sFzFVZr_JABA",
        "outputId": "a60c67ab-6e1d-4ba1-8720-44182e789f91"
      },
      "source": [
        "import matplotlib.pyplot as plt \n",
        "import seaborn as sns\n",
        "sns.set()\n",
        "plt.figure(figsize=(15,7))\n",
        "# use Random Forest in ROC\n",
        "ROC = roc_from_scratch(rf_probs,Y_test,partitions=100)\n",
        "plt.scatter(ROC[:,0],ROC[:,1],color='#0F9D58',s=100)\n",
        "plt.title('ROC Curve',fontsize=20)\n",
        "plt.xlabel('False Positive Rate',fontsize=16)\n",
        "plt.ylabel('True Positive Rate',fontsize=16)"
      ],
      "execution_count": null,
      "outputs": [
        {
          "output_type": "execute_result",
          "data": {
            "text/plain": [
              "Text(0, 0.5, 'True Positive Rate')"
            ]
          },
          "metadata": {},
          "execution_count": 34
        },
        {
          "output_type": "display_data",
          "data": {
            "image/png": "[encoded data removed]",
            "text/plain": [
              "<Figure size 1080x504 with 1 Axes>"
            ]
          },
          "metadata": {}
        }
      ]
    },
    {
      "cell_type": "markdown",
      "metadata": {
        "id": "R3eqtmLDJiIb"
      },
      "source": [
        "we obtained our first ROC graph. But you can see how increasing the number of partitions gives us a better approximation of the curve."
      ]
    },
    {
      "cell_type": "markdown",
      "metadata": {
        "id": "gKVDY1C97vob"
      },
      "source": [
        "# Computing AUC and ROC curve values"
      ]
    },
    {
      "cell_type": "code",
      "metadata": {
        "id": "MkUh-9f87owq"
      },
      "source": [
        "from sklearn.metrics import roc_curve, roc_auc_score"
      ],
      "execution_count": null,
      "outputs": []
    },
    {
      "cell_type": "markdown",
      "metadata": {
        "id": "OFEOUon274-u"
      },
      "source": [
        "# Calculate AUC\n",
        "ROC is the receiver operating characteristic AUC is the area under the ROC curve"
      ]
    },
    {
      "cell_type": "code",
      "metadata": {
        "id": "2a0UkTm_73gP"
      },
      "source": [
        "r_auc = roc_auc_score(Y_test, r_probs)\n",
        "rf_auc = roc_auc_score(Y_test, rf_probs)\n",
        "nb_auc = roc_auc_score(Y_test, nb_probs)"
      ],
      "execution_count": null,
      "outputs": []
    },
    {
      "cell_type": "markdown",
      "metadata": {
        "id": "DdSBMNOe8B-o"
      },
      "source": [
        "# Print AUC scores"
      ]
    },
    {
      "cell_type": "code",
      "metadata": {
        "colab": {
          "base_uri": "https://localhost:8080/"
        },
        "id": "JU02K6n88BoD",
        "outputId": "021d7f4f-9ce6-48f8-9c1a-c441fcbfc24a"
      },
      "source": [
        "# Random (chance) Prediction mean All pridiction are wrong\n",
        "print('Random (chance) Prediction: AUC = %.3f' % (r_auc))\n",
        "#the performance of the Random Forest\n",
        "print('Random Forest: AUC = %.3f' % (rf_auc))\n",
        "#the performance of the Naive Bayes\n",
        "print('Naive Bayes: AUC = %.3f' % (nb_auc))"
      ],
      "execution_count": null,
      "outputs": [
        {
          "output_type": "stream",
          "name": "stdout",
          "text": [
            "Random (chance) Prediction: AUC = 0.500\n",
            "Random Forest: AUC = 0.861\n",
            "Naive Bayes: AUC = 0.993\n"
          ]
        }
      ]
    },
    {
      "cell_type": "markdown",
      "metadata": {
        "id": "sW4jmSDj8HwS"
      },
      "source": [
        "# Calculate ROC curve"
      ]
    },
    {
      "cell_type": "markdown",
      "metadata": {
        "id": "FB_w3yOODXc9"
      },
      "source": [
        "compute the FPR and TPR to create the ROC curve"
      ]
    },
    {
      "cell_type": "code",
      "metadata": {
        "id": "qUQRTwxw8MG6"
      },
      "source": [
        "r_fpr, r_tpr, _ = roc_curve(Y_test, r_probs)\n",
        "rf_fpr, rf_tpr, _ = roc_curve(Y_test, rf_probs)\n",
        "nb_fpr, nb_tpr, _ = roc_curve(Y_test, nb_probs)"
      ],
      "execution_count": null,
      "outputs": []
    },
    {
      "cell_type": "markdown",
      "metadata": {
        "id": "PrbUiTYG8QaV"
      },
      "source": [
        "# Plot the ROC curve"
      ]
    },
    {
      "cell_type": "code",
      "metadata": {
        "colab": {
          "base_uri": "https://localhost:8080/",
          "height": 301
        },
        "id": "jKVUsLLO8XsA",
        "outputId": "d35e50f1-72fa-4fc4-8a41-63dca000ead5"
      },
      "source": [
        "plt.plot(r_fpr, r_tpr, linestyle='--', label='Random prediction (AUC = %0.3f)' % r_auc)\n",
        "plt.plot(rf_fpr, rf_tpr, marker='.', label='Random Forest (AUC = %0.3f)' % rf_auc)\n",
        "plt.plot(nb_fpr, nb_tpr, marker='.', label='Naive Bayes (AUC = %0.3f)' % nb_auc)\n",
        "\n",
        "# Title\n",
        "plt.title('ROC Plot')\n",
        "# Axis labels\n",
        "plt.xlabel('False Positive Rate')\n",
        "plt.ylabel('True Positive Rate')\n",
        "# Show legend\n",
        "plt.legend() # \n",
        "# Show plot\n",
        "plt.show()"
      ],
      "execution_count": null,
      "outputs": [
        {
          "output_type": "display_data",
          "data": {
            "image/png": "[encoded data removed]",
            "text/plain": [
              "<Figure size 432x288 with 1 Axes>"
            ]
          },
          "metadata": {}
        }
      ]
    },
    {
      "cell_type": "markdown",
      "metadata": {
        "id": "V3etmxEhDiuG"
      },
      "source": [
        "SO the NutShell the AUC  is commonly use in the ML to Compair the Performance of the different learning models and ROC in use to the best threshold for making a decision.\n",
        "\n",
        "So here we can see the naive bayes provided the best performance as it occupies the curve at the far left and topso the AUC will essentially be one (almost one 0.993)\n",
        "\n",
        "By random forest ht AUC is about 0.861.\n"
      ]
    }
  ]
}