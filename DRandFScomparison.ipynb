{
  "nbformat": 4,
  "nbformat_minor": 0,
  "metadata": {
    "colab": {
      "provenance": [],
      "collapsed_sections": [
        "gRFWSVcuk-bQ",
        "gV54YWMFkwKn",
        "Ih--j2YmxBk1",
        "2Pi5ewY8xKHG",
        "yFJn0LKrxRHT",
        "y3xP_J46xUkf",
        "2RUrbTT-xZHM",
        "lsndvgO6x9az",
        "peUHxZcAELak",
        "52PYE-Y-IBRq",
        "pdXDEsbKJK7v",
        "OZxcBw81Jf2j",
        "ZWL-coQoTkjo",
        "PWXFt_kETkjq",
        "8dCXhFkuTkjs",
        "MGgxsjc0Tkjt",
        "-345zmR3UgHC",
        "ZdEMUpZ3XClh",
        "MOix-YhXX1qO",
        "7Kt7UpdlX1qP",
        "LqzK3cG0X1qQ",
        "0DqsHjjMX1qQ",
        "mobVXrxTX1qR",
        "EhBuGBw3xXhv",
        "yNmpetujfKLh",
        "Nz6ZEPQSfKLi",
        "wExTT-_xfKLi",
        "6-mvgLHYfKLj",
        "xx8loYoIfKLk",
        "6ghJRPs8vxLx",
        "YFySkhc0xc3O",
        "Agal22tKxc3O",
        "gPDnAmj7xc3P",
        "eDDL20fbxc3P",
        "INsxa_0vxc3U",
        "bZ492kRsxc3U",
        "3xWUKfMw0gni",
        "P-LoK27m5CHS",
        "I53y6iD25RmC",
        "iUmyeohS5RmF",
        "DsXbAKbh5RmG",
        "TS-9vepD5RmH",
        "A_fxMwk75RmI",
        "d-FAAzVvJ3mX",
        "zgFae_D5QrI_",
        "vqMFcWMvQrJA",
        "kJujx1CoQrJC",
        "MnI82l36QrJD",
        "gZD4X1VgQrJE",
        "jTRPRA98QrJF"
      ],
      "authorship_tag": "ABX9TyNOzcZlrX2/QMNEOFWhdxVz",
      "include_colab_link": true
    },
    "kernelspec": {
      "name": "python3",
      "display_name": "Python 3"
    },
    "language_info": {
      "name": "python"
    }
  },
  "cells": [
    {
      "cell_type": "markdown",
      "metadata": {
        "id": "view-in-github",
        "colab_type": "text"
      },
      "source": [
        "<a href=\"https://colab.research.google.com/github/arsalanmubeen/IBA/blob/main/DRandFScomparison.ipynb\" target=\"_parent\"><img src=\"https://colab.research.google.com/assets/colab-badge.svg\" alt=\"Open In Colab\"/></a>"
      ]
    },
    {
      "cell_type": "markdown",
      "metadata": {
        "id": "gRFWSVcuk-bQ"
      },
      "source": [
        "## libraries Session"
      ]
    },
    {
      "cell_type": "code",
      "metadata": {
        "id": "HfncSgcVg0r8"
      },
      "source": [
        "from sklearn.discriminant_analysis import LinearDiscriminantAnalysis\n",
        "from sklearn.decomposition import PCA\n",
        "from sklearn.manifold import TSNE\n",
        "from sklearn.ensemble import RandomForestClassifier ,VotingRegressor ,RandomForestRegressor\n",
        "from sklearn.feature_selection import RFE\n",
        "from sklearn.svm import SVR\n",
        "import xgboost as xgb \n",
        "from xgboost import XGBClassifier\n",
        "from sklearn import svm\n",
        "from sklearn.tree import DecisionTreeClassifier\n",
        "\n",
        "import pandas as pd\n",
        "import numpy as np \n",
        "from numpy import loadtxt\n",
        "\n",
        "import matplotlib.pyplot as plt\n",
        "import seaborn as sns\n",
        "%matplotlib inline\n",
        "\n",
        "from sklearn.model_selection import train_test_split\n",
        "from sklearn.metrics import confusion_matrix,accuracy_score,classification_report\n",
        "from sklearn.linear_model import Lasso, LogisticRegression,LinearRegression\n",
        "from sklearn.feature_selection import SelectFromModel\n",
        "from sklearn.preprocessing import StandardScaler\n",
        "from mlxtend.preprocessing import standardize\n",
        "\n",
        "from sklearn.metrics import r2_score\n",
        "from sklearn.metrics import mean_squared_error"
      ],
      "execution_count": null,
      "outputs": []
    },
    {
      "cell_type": "markdown",
      "metadata": {
        "id": "gV54YWMFkwKn"
      },
      "source": [
        "## Datasets Session"
      ]
    },
    {
      "cell_type": "code",
      "metadata": {
        "id": "HIgRuTXZmPCt"
      },
      "source": [
        "Dataset2Classification = pd.read_excel('/content/default of credit card clients.xls', header=1)"
      ],
      "execution_count": null,
      "outputs": []
    },
    {
      "cell_type": "code",
      "metadata": {
        "colab": {
          "base_uri": "https://localhost:8080/"
        },
        "id": "hhlkNXODsOLa",
        "outputId": "c15f35d1-aa2f-4869-df7b-27df51fd15cf"
      },
      "source": [
        "Dataset2Classification.head(4)"
      ],
      "execution_count": null,
      "outputs": [
        {
          "output_type": "execute_result",
          "data": {
            "text/html": [
              "<div>\n",
              "<style scoped>\n",
              "    .dataframe tbody tr th:only-of-type {\n",
              "        vertical-align: middle;\n",
              "    }\n",
              "\n",
              "    .dataframe tbody tr th {\n",
              "        vertical-align: top;\n",
              "    }\n",
              "\n",
              "    .dataframe thead th {\n",
              "        text-align: right;\n",
              "    }\n",
              "</style>\n",
              "<table border=\"1\" class=\"dataframe\">\n",
              "  <thead>\n",
              "    <tr style=\"text-align: right;\">\n",
              "      <th></th>\n",
              "      <th>ID</th>\n",
              "      <th>LIMIT_BAL</th>\n",
              "      <th>SEX</th>\n",
              "      <th>EDUCATION</th>\n",
              "      <th>MARRIAGE</th>\n",
              "      <th>AGE</th>\n",
              "      <th>PAY_0</th>\n",
              "      <th>PAY_2</th>\n",
              "      <th>PAY_3</th>\n",
              "      <th>PAY_4</th>\n",
              "      <th>PAY_5</th>\n",
              "      <th>PAY_6</th>\n",
              "      <th>BILL_AMT1</th>\n",
              "      <th>BILL_AMT2</th>\n",
              "      <th>BILL_AMT3</th>\n",
              "      <th>BILL_AMT4</th>\n",
              "      <th>BILL_AMT5</th>\n",
              "      <th>BILL_AMT6</th>\n",
              "      <th>PAY_AMT1</th>\n",
              "      <th>PAY_AMT2</th>\n",
              "      <th>PAY_AMT3</th>\n",
              "      <th>PAY_AMT4</th>\n",
              "      <th>PAY_AMT5</th>\n",
              "      <th>PAY_AMT6</th>\n",
              "      <th>default payment next month</th>\n",
              "    </tr>\n",
              "  </thead>\n",
              "  <tbody>\n",
              "    <tr>\n",
              "      <th>0</th>\n",
              "      <td>1</td>\n",
              "      <td>20000</td>\n",
              "      <td>2</td>\n",
              "      <td>2</td>\n",
              "      <td>1</td>\n",
              "      <td>24</td>\n",
              "      <td>2</td>\n",
              "      <td>2</td>\n",
              "      <td>-1</td>\n",
              "      <td>-1</td>\n",
              "      <td>-2</td>\n",
              "      <td>-2</td>\n",
              "      <td>3913</td>\n",
              "      <td>3102</td>\n",
              "      <td>689</td>\n",
              "      <td>0</td>\n",
              "      <td>0</td>\n",
              "      <td>0</td>\n",
              "      <td>0</td>\n",
              "      <td>689</td>\n",
              "      <td>0</td>\n",
              "      <td>0</td>\n",
              "      <td>0</td>\n",
              "      <td>0</td>\n",
              "      <td>1</td>\n",
              "    </tr>\n",
              "    <tr>\n",
              "      <th>1</th>\n",
              "      <td>2</td>\n",
              "      <td>120000</td>\n",
              "      <td>2</td>\n",
              "      <td>2</td>\n",
              "      <td>2</td>\n",
              "      <td>26</td>\n",
              "      <td>-1</td>\n",
              "      <td>2</td>\n",
              "      <td>0</td>\n",
              "      <td>0</td>\n",
              "      <td>0</td>\n",
              "      <td>2</td>\n",
              "      <td>2682</td>\n",
              "      <td>1725</td>\n",
              "      <td>2682</td>\n",
              "      <td>3272</td>\n",
              "      <td>3455</td>\n",
              "      <td>3261</td>\n",
              "      <td>0</td>\n",
              "      <td>1000</td>\n",
              "      <td>1000</td>\n",
              "      <td>1000</td>\n",
              "      <td>0</td>\n",
              "      <td>2000</td>\n",
              "      <td>1</td>\n",
              "    </tr>\n",
              "    <tr>\n",
              "      <th>2</th>\n",
              "      <td>3</td>\n",
              "      <td>90000</td>\n",
              "      <td>2</td>\n",
              "      <td>2</td>\n",
              "      <td>2</td>\n",
              "      <td>34</td>\n",
              "      <td>0</td>\n",
              "      <td>0</td>\n",
              "      <td>0</td>\n",
              "      <td>0</td>\n",
              "      <td>0</td>\n",
              "      <td>0</td>\n",
              "      <td>29239</td>\n",
              "      <td>14027</td>\n",
              "      <td>13559</td>\n",
              "      <td>14331</td>\n",
              "      <td>14948</td>\n",
              "      <td>15549</td>\n",
              "      <td>1518</td>\n",
              "      <td>1500</td>\n",
              "      <td>1000</td>\n",
              "      <td>1000</td>\n",
              "      <td>1000</td>\n",
              "      <td>5000</td>\n",
              "      <td>0</td>\n",
              "    </tr>\n",
              "    <tr>\n",
              "      <th>3</th>\n",
              "      <td>4</td>\n",
              "      <td>50000</td>\n",
              "      <td>2</td>\n",
              "      <td>2</td>\n",
              "      <td>1</td>\n",
              "      <td>37</td>\n",
              "      <td>0</td>\n",
              "      <td>0</td>\n",
              "      <td>0</td>\n",
              "      <td>0</td>\n",
              "      <td>0</td>\n",
              "      <td>0</td>\n",
              "      <td>46990</td>\n",
              "      <td>48233</td>\n",
              "      <td>49291</td>\n",
              "      <td>28314</td>\n",
              "      <td>28959</td>\n",
              "      <td>29547</td>\n",
              "      <td>2000</td>\n",
              "      <td>2019</td>\n",
              "      <td>1200</td>\n",
              "      <td>1100</td>\n",
              "      <td>1069</td>\n",
              "      <td>1000</td>\n",
              "      <td>0</td>\n",
              "    </tr>\n",
              "  </tbody>\n",
              "</table>\n",
              "</div>"
            ],
            "text/plain": [
              "   ID  LIMIT_BAL  SEX  ...  PAY_AMT5  PAY_AMT6  default payment next month\n",
              "0   1      20000    2  ...         0         0                           1\n",
              "1   2     120000    2  ...         0      2000                           1\n",
              "2   3      90000    2  ...      1000      5000                           0\n",
              "3   4      50000    2  ...      1069      1000                           0\n",
              "\n",
              "[4 rows x 25 columns]"
            ]
          },
          "metadata": {},
          "execution_count": 7
        }
      ]
    },
    {
      "cell_type": "code",
      "metadata": {
        "id": "4jmEVUczupj8"
      },
      "source": [
        "Dataset5Regression = pd.read_csv('/content/train.csv')"
      ],
      "execution_count": null,
      "outputs": []
    },
    {
      "cell_type": "code",
      "metadata": {
        "colab": {
          "base_uri": "https://localhost:8080/",
          "height": 220
        },
        "id": "zUxooRT7u0s6",
        "outputId": "bc6353f4-a0c2-41ef-c231-0bd707ddfa1f"
      },
      "source": [
        "Dataset5Regression.head(4)"
      ],
      "execution_count": null,
      "outputs": [
        {
          "output_type": "execute_result",
          "data": {
            "text/html": [
              "<div>\n",
              "<style scoped>\n",
              "    .dataframe tbody tr th:only-of-type {\n",
              "        vertical-align: middle;\n",
              "    }\n",
              "\n",
              "    .dataframe tbody tr th {\n",
              "        vertical-align: top;\n",
              "    }\n",
              "\n",
              "    .dataframe thead th {\n",
              "        text-align: right;\n",
              "    }\n",
              "</style>\n",
              "<table border=\"1\" class=\"dataframe\">\n",
              "  <thead>\n",
              "    <tr style=\"text-align: right;\">\n",
              "      <th></th>\n",
              "      <th>number_of_elements</th>\n",
              "      <th>mean_atomic_mass</th>\n",
              "      <th>wtd_mean_atomic_mass</th>\n",
              "      <th>gmean_atomic_mass</th>\n",
              "      <th>wtd_gmean_atomic_mass</th>\n",
              "      <th>entropy_atomic_mass</th>\n",
              "      <th>wtd_entropy_atomic_mass</th>\n",
              "      <th>range_atomic_mass</th>\n",
              "      <th>wtd_range_atomic_mass</th>\n",
              "      <th>std_atomic_mass</th>\n",
              "      <th>wtd_std_atomic_mass</th>\n",
              "      <th>mean_fie</th>\n",
              "      <th>wtd_mean_fie</th>\n",
              "      <th>gmean_fie</th>\n",
              "      <th>wtd_gmean_fie</th>\n",
              "      <th>entropy_fie</th>\n",
              "      <th>wtd_entropy_fie</th>\n",
              "      <th>range_fie</th>\n",
              "      <th>wtd_range_fie</th>\n",
              "      <th>std_fie</th>\n",
              "      <th>wtd_std_fie</th>\n",
              "      <th>mean_atomic_radius</th>\n",
              "      <th>wtd_mean_atomic_radius</th>\n",
              "      <th>gmean_atomic_radius</th>\n",
              "      <th>wtd_gmean_atomic_radius</th>\n",
              "      <th>entropy_atomic_radius</th>\n",
              "      <th>wtd_entropy_atomic_radius</th>\n",
              "      <th>range_atomic_radius</th>\n",
              "      <th>wtd_range_atomic_radius</th>\n",
              "      <th>std_atomic_radius</th>\n",
              "      <th>wtd_std_atomic_radius</th>\n",
              "      <th>mean_Density</th>\n",
              "      <th>wtd_mean_Density</th>\n",
              "      <th>gmean_Density</th>\n",
              "      <th>wtd_gmean_Density</th>\n",
              "      <th>entropy_Density</th>\n",
              "      <th>wtd_entropy_Density</th>\n",
              "      <th>range_Density</th>\n",
              "      <th>wtd_range_Density</th>\n",
              "      <th>std_Density</th>\n",
              "      <th>...</th>\n",
              "      <th>wtd_mean_ElectronAffinity</th>\n",
              "      <th>gmean_ElectronAffinity</th>\n",
              "      <th>wtd_gmean_ElectronAffinity</th>\n",
              "      <th>entropy_ElectronAffinity</th>\n",
              "      <th>wtd_entropy_ElectronAffinity</th>\n",
              "      <th>range_ElectronAffinity</th>\n",
              "      <th>wtd_range_ElectronAffinity</th>\n",
              "      <th>std_ElectronAffinity</th>\n",
              "      <th>wtd_std_ElectronAffinity</th>\n",
              "      <th>mean_FusionHeat</th>\n",
              "      <th>wtd_mean_FusionHeat</th>\n",
              "      <th>gmean_FusionHeat</th>\n",
              "      <th>wtd_gmean_FusionHeat</th>\n",
              "      <th>entropy_FusionHeat</th>\n",
              "      <th>wtd_entropy_FusionHeat</th>\n",
              "      <th>range_FusionHeat</th>\n",
              "      <th>wtd_range_FusionHeat</th>\n",
              "      <th>std_FusionHeat</th>\n",
              "      <th>wtd_std_FusionHeat</th>\n",
              "      <th>mean_ThermalConductivity</th>\n",
              "      <th>wtd_mean_ThermalConductivity</th>\n",
              "      <th>gmean_ThermalConductivity</th>\n",
              "      <th>wtd_gmean_ThermalConductivity</th>\n",
              "      <th>entropy_ThermalConductivity</th>\n",
              "      <th>wtd_entropy_ThermalConductivity</th>\n",
              "      <th>range_ThermalConductivity</th>\n",
              "      <th>wtd_range_ThermalConductivity</th>\n",
              "      <th>std_ThermalConductivity</th>\n",
              "      <th>wtd_std_ThermalConductivity</th>\n",
              "      <th>mean_Valence</th>\n",
              "      <th>wtd_mean_Valence</th>\n",
              "      <th>gmean_Valence</th>\n",
              "      <th>wtd_gmean_Valence</th>\n",
              "      <th>entropy_Valence</th>\n",
              "      <th>wtd_entropy_Valence</th>\n",
              "      <th>range_Valence</th>\n",
              "      <th>wtd_range_Valence</th>\n",
              "      <th>std_Valence</th>\n",
              "      <th>wtd_std_Valence</th>\n",
              "      <th>critical_temp</th>\n",
              "    </tr>\n",
              "  </thead>\n",
              "  <tbody>\n",
              "    <tr>\n",
              "      <th>0</th>\n",
              "      <td>4</td>\n",
              "      <td>88.944468</td>\n",
              "      <td>57.862692</td>\n",
              "      <td>66.361592</td>\n",
              "      <td>36.116612</td>\n",
              "      <td>1.181795</td>\n",
              "      <td>1.062396</td>\n",
              "      <td>122.90607</td>\n",
              "      <td>31.794921</td>\n",
              "      <td>51.968828</td>\n",
              "      <td>53.622535</td>\n",
              "      <td>775.425</td>\n",
              "      <td>1010.268571</td>\n",
              "      <td>718.152900</td>\n",
              "      <td>938.016780</td>\n",
              "      <td>1.305967</td>\n",
              "      <td>0.791488</td>\n",
              "      <td>810.6</td>\n",
              "      <td>735.985714</td>\n",
              "      <td>323.811808</td>\n",
              "      <td>355.562967</td>\n",
              "      <td>160.25</td>\n",
              "      <td>105.514286</td>\n",
              "      <td>136.126003</td>\n",
              "      <td>84.528423</td>\n",
              "      <td>1.259244</td>\n",
              "      <td>1.207040</td>\n",
              "      <td>205</td>\n",
              "      <td>42.914286</td>\n",
              "      <td>75.237540</td>\n",
              "      <td>69.235569</td>\n",
              "      <td>4654.35725</td>\n",
              "      <td>2961.502286</td>\n",
              "      <td>724.953211</td>\n",
              "      <td>53.543811</td>\n",
              "      <td>1.033129</td>\n",
              "      <td>0.814598</td>\n",
              "      <td>8958.571</td>\n",
              "      <td>1579.583429</td>\n",
              "      <td>3306.162897</td>\n",
              "      <td>...</td>\n",
              "      <td>111.727143</td>\n",
              "      <td>60.123179</td>\n",
              "      <td>99.414682</td>\n",
              "      <td>1.159687</td>\n",
              "      <td>0.787382</td>\n",
              "      <td>127.05</td>\n",
              "      <td>80.987143</td>\n",
              "      <td>51.433712</td>\n",
              "      <td>42.558396</td>\n",
              "      <td>6.9055</td>\n",
              "      <td>3.846857</td>\n",
              "      <td>3.479475</td>\n",
              "      <td>1.040986</td>\n",
              "      <td>1.088575</td>\n",
              "      <td>0.994998</td>\n",
              "      <td>12.878</td>\n",
              "      <td>1.744571</td>\n",
              "      <td>4.599064</td>\n",
              "      <td>4.666920</td>\n",
              "      <td>107.756645</td>\n",
              "      <td>61.015189</td>\n",
              "      <td>7.062488</td>\n",
              "      <td>0.621979</td>\n",
              "      <td>0.308148</td>\n",
              "      <td>0.262848</td>\n",
              "      <td>399.97342</td>\n",
              "      <td>57.127669</td>\n",
              "      <td>168.854244</td>\n",
              "      <td>138.517163</td>\n",
              "      <td>2.25</td>\n",
              "      <td>2.257143</td>\n",
              "      <td>2.213364</td>\n",
              "      <td>2.219783</td>\n",
              "      <td>1.368922</td>\n",
              "      <td>1.066221</td>\n",
              "      <td>1</td>\n",
              "      <td>1.085714</td>\n",
              "      <td>0.433013</td>\n",
              "      <td>0.437059</td>\n",
              "      <td>29.0</td>\n",
              "    </tr>\n",
              "    <tr>\n",
              "      <th>1</th>\n",
              "      <td>5</td>\n",
              "      <td>92.729214</td>\n",
              "      <td>58.518416</td>\n",
              "      <td>73.132787</td>\n",
              "      <td>36.396602</td>\n",
              "      <td>1.449309</td>\n",
              "      <td>1.057755</td>\n",
              "      <td>122.90607</td>\n",
              "      <td>36.161939</td>\n",
              "      <td>47.094633</td>\n",
              "      <td>53.979870</td>\n",
              "      <td>766.440</td>\n",
              "      <td>1010.612857</td>\n",
              "      <td>720.605511</td>\n",
              "      <td>938.745413</td>\n",
              "      <td>1.544145</td>\n",
              "      <td>0.807078</td>\n",
              "      <td>810.6</td>\n",
              "      <td>743.164286</td>\n",
              "      <td>290.183029</td>\n",
              "      <td>354.963511</td>\n",
              "      <td>161.20</td>\n",
              "      <td>104.971429</td>\n",
              "      <td>141.465215</td>\n",
              "      <td>84.370167</td>\n",
              "      <td>1.508328</td>\n",
              "      <td>1.204115</td>\n",
              "      <td>205</td>\n",
              "      <td>50.571429</td>\n",
              "      <td>67.321319</td>\n",
              "      <td>68.008817</td>\n",
              "      <td>5821.48580</td>\n",
              "      <td>3021.016571</td>\n",
              "      <td>1237.095080</td>\n",
              "      <td>54.095718</td>\n",
              "      <td>1.314442</td>\n",
              "      <td>0.914802</td>\n",
              "      <td>10488.571</td>\n",
              "      <td>1667.383429</td>\n",
              "      <td>3767.403176</td>\n",
              "      <td>...</td>\n",
              "      <td>112.316429</td>\n",
              "      <td>69.833315</td>\n",
              "      <td>101.166398</td>\n",
              "      <td>1.427997</td>\n",
              "      <td>0.838666</td>\n",
              "      <td>127.05</td>\n",
              "      <td>81.207857</td>\n",
              "      <td>49.438167</td>\n",
              "      <td>41.667621</td>\n",
              "      <td>7.7844</td>\n",
              "      <td>3.796857</td>\n",
              "      <td>4.403790</td>\n",
              "      <td>1.035251</td>\n",
              "      <td>1.374977</td>\n",
              "      <td>1.073094</td>\n",
              "      <td>12.878</td>\n",
              "      <td>1.595714</td>\n",
              "      <td>4.473363</td>\n",
              "      <td>4.603000</td>\n",
              "      <td>172.205316</td>\n",
              "      <td>61.372331</td>\n",
              "      <td>16.064228</td>\n",
              "      <td>0.619735</td>\n",
              "      <td>0.847404</td>\n",
              "      <td>0.567706</td>\n",
              "      <td>429.97342</td>\n",
              "      <td>51.413383</td>\n",
              "      <td>198.554600</td>\n",
              "      <td>139.630922</td>\n",
              "      <td>2.00</td>\n",
              "      <td>2.257143</td>\n",
              "      <td>1.888175</td>\n",
              "      <td>2.210679</td>\n",
              "      <td>1.557113</td>\n",
              "      <td>1.047221</td>\n",
              "      <td>2</td>\n",
              "      <td>1.128571</td>\n",
              "      <td>0.632456</td>\n",
              "      <td>0.468606</td>\n",
              "      <td>26.0</td>\n",
              "    </tr>\n",
              "    <tr>\n",
              "      <th>2</th>\n",
              "      <td>4</td>\n",
              "      <td>88.944468</td>\n",
              "      <td>57.885242</td>\n",
              "      <td>66.361592</td>\n",
              "      <td>36.122509</td>\n",
              "      <td>1.181795</td>\n",
              "      <td>0.975980</td>\n",
              "      <td>122.90607</td>\n",
              "      <td>35.741099</td>\n",
              "      <td>51.968828</td>\n",
              "      <td>53.656268</td>\n",
              "      <td>775.425</td>\n",
              "      <td>1010.820000</td>\n",
              "      <td>718.152900</td>\n",
              "      <td>939.009036</td>\n",
              "      <td>1.305967</td>\n",
              "      <td>0.773620</td>\n",
              "      <td>810.6</td>\n",
              "      <td>743.164286</td>\n",
              "      <td>323.811808</td>\n",
              "      <td>354.804183</td>\n",
              "      <td>160.25</td>\n",
              "      <td>104.685714</td>\n",
              "      <td>136.126003</td>\n",
              "      <td>84.214573</td>\n",
              "      <td>1.259244</td>\n",
              "      <td>1.132547</td>\n",
              "      <td>205</td>\n",
              "      <td>49.314286</td>\n",
              "      <td>75.237540</td>\n",
              "      <td>67.797712</td>\n",
              "      <td>4654.35725</td>\n",
              "      <td>2999.159429</td>\n",
              "      <td>724.953211</td>\n",
              "      <td>53.974022</td>\n",
              "      <td>1.033129</td>\n",
              "      <td>0.760305</td>\n",
              "      <td>8958.571</td>\n",
              "      <td>1667.383429</td>\n",
              "      <td>3306.162897</td>\n",
              "      <td>...</td>\n",
              "      <td>112.213571</td>\n",
              "      <td>60.123179</td>\n",
              "      <td>101.082152</td>\n",
              "      <td>1.159687</td>\n",
              "      <td>0.786007</td>\n",
              "      <td>127.05</td>\n",
              "      <td>81.207857</td>\n",
              "      <td>51.433712</td>\n",
              "      <td>41.639878</td>\n",
              "      <td>6.9055</td>\n",
              "      <td>3.822571</td>\n",
              "      <td>3.479475</td>\n",
              "      <td>1.037439</td>\n",
              "      <td>1.088575</td>\n",
              "      <td>0.927479</td>\n",
              "      <td>12.878</td>\n",
              "      <td>1.757143</td>\n",
              "      <td>4.599064</td>\n",
              "      <td>4.649635</td>\n",
              "      <td>107.756645</td>\n",
              "      <td>60.943760</td>\n",
              "      <td>7.062488</td>\n",
              "      <td>0.619095</td>\n",
              "      <td>0.308148</td>\n",
              "      <td>0.250477</td>\n",
              "      <td>399.97342</td>\n",
              "      <td>57.127669</td>\n",
              "      <td>168.854244</td>\n",
              "      <td>138.540613</td>\n",
              "      <td>2.25</td>\n",
              "      <td>2.271429</td>\n",
              "      <td>2.213364</td>\n",
              "      <td>2.232679</td>\n",
              "      <td>1.368922</td>\n",
              "      <td>1.029175</td>\n",
              "      <td>1</td>\n",
              "      <td>1.114286</td>\n",
              "      <td>0.433013</td>\n",
              "      <td>0.444697</td>\n",
              "      <td>19.0</td>\n",
              "    </tr>\n",
              "    <tr>\n",
              "      <th>3</th>\n",
              "      <td>4</td>\n",
              "      <td>88.944468</td>\n",
              "      <td>57.873967</td>\n",
              "      <td>66.361592</td>\n",
              "      <td>36.119560</td>\n",
              "      <td>1.181795</td>\n",
              "      <td>1.022291</td>\n",
              "      <td>122.90607</td>\n",
              "      <td>33.768010</td>\n",
              "      <td>51.968828</td>\n",
              "      <td>53.639405</td>\n",
              "      <td>775.425</td>\n",
              "      <td>1010.544286</td>\n",
              "      <td>718.152900</td>\n",
              "      <td>938.512777</td>\n",
              "      <td>1.305967</td>\n",
              "      <td>0.783207</td>\n",
              "      <td>810.6</td>\n",
              "      <td>739.575000</td>\n",
              "      <td>323.811808</td>\n",
              "      <td>355.183884</td>\n",
              "      <td>160.25</td>\n",
              "      <td>105.100000</td>\n",
              "      <td>136.126003</td>\n",
              "      <td>84.371352</td>\n",
              "      <td>1.259244</td>\n",
              "      <td>1.173033</td>\n",
              "      <td>205</td>\n",
              "      <td>46.114286</td>\n",
              "      <td>75.237540</td>\n",
              "      <td>68.521665</td>\n",
              "      <td>4654.35725</td>\n",
              "      <td>2980.330857</td>\n",
              "      <td>724.953211</td>\n",
              "      <td>53.758486</td>\n",
              "      <td>1.033129</td>\n",
              "      <td>0.788889</td>\n",
              "      <td>8958.571</td>\n",
              "      <td>1623.483429</td>\n",
              "      <td>3306.162897</td>\n",
              "      <td>...</td>\n",
              "      <td>111.970357</td>\n",
              "      <td>60.123179</td>\n",
              "      <td>100.244950</td>\n",
              "      <td>1.159687</td>\n",
              "      <td>0.786900</td>\n",
              "      <td>127.05</td>\n",
              "      <td>81.097500</td>\n",
              "      <td>51.433712</td>\n",
              "      <td>42.102344</td>\n",
              "      <td>6.9055</td>\n",
              "      <td>3.834714</td>\n",
              "      <td>3.479475</td>\n",
              "      <td>1.039211</td>\n",
              "      <td>1.088575</td>\n",
              "      <td>0.964031</td>\n",
              "      <td>12.878</td>\n",
              "      <td>1.744571</td>\n",
              "      <td>4.599064</td>\n",
              "      <td>4.658301</td>\n",
              "      <td>107.756645</td>\n",
              "      <td>60.979474</td>\n",
              "      <td>7.062488</td>\n",
              "      <td>0.620535</td>\n",
              "      <td>0.308148</td>\n",
              "      <td>0.257045</td>\n",
              "      <td>399.97342</td>\n",
              "      <td>57.127669</td>\n",
              "      <td>168.854244</td>\n",
              "      <td>138.528893</td>\n",
              "      <td>2.25</td>\n",
              "      <td>2.264286</td>\n",
              "      <td>2.213364</td>\n",
              "      <td>2.226222</td>\n",
              "      <td>1.368922</td>\n",
              "      <td>1.048834</td>\n",
              "      <td>1</td>\n",
              "      <td>1.100000</td>\n",
              "      <td>0.433013</td>\n",
              "      <td>0.440952</td>\n",
              "      <td>22.0</td>\n",
              "    </tr>\n",
              "  </tbody>\n",
              "</table>\n",
              "<p>4 rows × 82 columns</p>\n",
              "</div>"
            ],
            "text/plain": [
              "   number_of_elements  mean_atomic_mass  ...  wtd_std_Valence  critical_temp\n",
              "0                   4         88.944468  ...         0.437059           29.0\n",
              "1                   5         92.729214  ...         0.468606           26.0\n",
              "2                   4         88.944468  ...         0.444697           19.0\n",
              "3                   4         88.944468  ...         0.440952           22.0\n",
              "\n",
              "[4 rows x 82 columns]"
            ]
          },
          "metadata": {},
          "execution_count": 9
        }
      ]
    },
    {
      "cell_type": "markdown",
      "metadata": {
        "id": "Ih--j2YmxBk1"
      },
      "source": [
        "# ***LinearDiscriminantAnalysis***"
      ]
    },
    {
      "cell_type": "code",
      "metadata": {
        "id": "TNuxKa944iQW"
      },
      "source": [
        "X=Dataset2Classification.drop(['ID','default payment next month'],axis=1)\n",
        "y=Dataset2Classification['default payment next month']"
      ],
      "execution_count": null,
      "outputs": []
    },
    {
      "cell_type": "code",
      "metadata": {
        "id": "r9ZjZm-sXjuw"
      },
      "source": [
        "X_train, X_test, y_train, y_test = train_test_split(X, y, test_size=0.2, random_state=0)"
      ],
      "execution_count": null,
      "outputs": []
    },
    {
      "cell_type": "code",
      "metadata": {
        "id": "QFGzaXq8Xvm3"
      },
      "source": [
        "sc = StandardScaler()\n",
        "X_train = sc.fit_transform(X_train)\n",
        "X_test = sc.transform(X_test)"
      ],
      "execution_count": null,
      "outputs": []
    },
    {
      "cell_type": "code",
      "metadata": {
        "id": "64IBGwMxXz4q",
        "colab": {
          "base_uri": "https://localhost:8080/"
        },
        "outputId": "201d7951-a3bc-4b8e-a9fe-d7f00daae986"
      },
      "source": [
        "lda = LinearDiscriminantAnalysis(n_components=15)\n",
        "X_train = lda.fit_transform(X_train, y_train)\n",
        "X_test = lda.transform(X_test)"
      ],
      "execution_count": null,
      "outputs": [
        {
          "output_type": "stream",
          "name": "stderr",
          "text": [
            "/usr/local/lib/python3.7/dist-packages/sklearn/discriminant_analysis.py:463: ChangedBehaviorWarning: n_components cannot be larger than min(n_features, n_classes - 1). Using min(n_features, n_classes - 1) = min(1, 2 - 1) = 1 components.\n",
            "  ChangedBehaviorWarning)\n",
            "/usr/local/lib/python3.7/dist-packages/sklearn/discriminant_analysis.py:469: FutureWarning: In version 0.23, setting n_components > min(n_features, n_classes - 1) will raise a ValueError. You should set n_components to None (default), or a value smaller or equal to min(n_features, n_classes - 1).\n",
            "  warnings.warn(future_msg, FutureWarning)\n"
          ]
        }
      ]
    },
    {
      "cell_type": "markdown",
      "metadata": {
        "id": "Z0a4R4QuHj2Z"
      },
      "source": [
        "# For Classification"
      ]
    },
    {
      "cell_type": "markdown",
      "metadata": {
        "id": "2Pi5ewY8xKHG"
      },
      "source": [
        "# RandomForestClassifier"
      ]
    },
    {
      "cell_type": "code",
      "metadata": {
        "id": "O6cyM7WrYO1Y"
      },
      "source": [
        "classifier = RandomForestClassifier(max_depth=2, random_state=0)\n",
        "classifier.fit(X_train, y_train)\n",
        "y_pred = classifier.predict(X_test)"
      ],
      "execution_count": null,
      "outputs": []
    },
    {
      "cell_type": "code",
      "metadata": {
        "colab": {
          "base_uri": "https://localhost:8080/",
          "height": 588
        },
        "id": "Jpp_UdL6YcBq",
        "outputId": "c30a245d-1081-4fd1-c762-042af796efdf"
      },
      "source": [
        "cm = confusion_matrix(y_test, y_pred)\n",
        "print(cm)\n",
        "print(\"\\n\")\n",
        "print('Accuracy' + str(accuracy_score(y_test, y_pred)))\n",
        "print(\"\\n\")\n",
        "print(classification_report(y_pred, y_test))\n",
        "print(\"\\n\")\n",
        "sns.heatmap(cm/100, annot=True)"
      ],
      "execution_count": null,
      "outputs": [
        {
          "output_type": "stream",
          "name": "stdout",
          "text": [
            "[[4495  208]\n",
            " [ 850  447]]\n",
            "\n",
            "\n",
            "Accuracy0.8236666666666667\n",
            "\n",
            "\n",
            "              precision    recall  f1-score   support\n",
            "\n",
            "           0       0.96      0.84      0.89      5345\n",
            "           1       0.34      0.68      0.46       655\n",
            "\n",
            "    accuracy                           0.82      6000\n",
            "   macro avg       0.65      0.76      0.68      6000\n",
            "weighted avg       0.89      0.82      0.85      6000\n",
            "\n",
            "\n",
            "\n"
          ]
        },
        {
          "output_type": "execute_result",
          "data": {
            "text/plain": [
              "<matplotlib.axes._subplots.AxesSubplot at 0x7f6c6f0838d0>"
            ]
          },
          "metadata": {},
          "execution_count": 118
        },
        {
          "output_type": "display_data",
          "data": {
            "image/png": "[encoded data removed]",
            "text/plain": [
              "<Figure size 432x288 with 2 Axes>"
            ]
          },
          "metadata": {
            "needs_background": "light"
          }
        }
      ]
    },
    {
      "cell_type": "markdown",
      "metadata": {
        "id": "yFJn0LKrxRHT"
      },
      "source": [
        "# XGBClassifier"
      ]
    },
    {
      "cell_type": "code",
      "metadata": {
        "id": "h3LcLM_JD8wC"
      },
      "source": [
        "data_dmatrix = xgb.DMatrix(data=X,label=y)"
      ],
      "execution_count": null,
      "outputs": []
    },
    {
      "cell_type": "code",
      "metadata": {
        "id": "_1oHceR7Ed_l"
      },
      "source": [
        "xg_Class = xgb.XGBClassifier(objective ='binary:logistic', colsample_bytree = 0.3, learning_rate = 0.1,\n",
        "                max_depth = 5, alpha = 10, n_estimators = 10)"
      ],
      "execution_count": null,
      "outputs": []
    },
    {
      "cell_type": "code",
      "metadata": {
        "id": "5IqLfKXdFEEc"
      },
      "source": [
        "xg_Class.fit(X_train,y_train)\n",
        "\n",
        "preds = xg_Class.predict(X_test)"
      ],
      "execution_count": null,
      "outputs": []
    },
    {
      "cell_type": "code",
      "metadata": {
        "colab": {
          "base_uri": "https://localhost:8080/",
          "height": 588
        },
        "id": "4p04qgYzFLD6",
        "outputId": "82bc1791-ca2c-4f9f-e7f2-1ad883db543f"
      },
      "source": [
        "cm = confusion_matrix(y_test, preds)\n",
        "print(cm)\n",
        "print(\"\\n\")\n",
        "print('Accuracy' + str(accuracy_score(y_test, preds)))\n",
        "print(\"\\n\")\n",
        "print(classification_report(preds, y_test))\n",
        "print(\"\\n\")\n",
        "sns.heatmap(cm/100, annot=True)"
      ],
      "execution_count": null,
      "outputs": [
        {
          "output_type": "stream",
          "name": "stdout",
          "text": [
            "[[4486  217]\n",
            " [ 849  448]]\n",
            "\n",
            "\n",
            "Accuracy0.8223333333333334\n",
            "\n",
            "\n",
            "              precision    recall  f1-score   support\n",
            "\n",
            "           0       0.95      0.84      0.89      5335\n",
            "           1       0.35      0.67      0.46       665\n",
            "\n",
            "    accuracy                           0.82      6000\n",
            "   macro avg       0.65      0.76      0.68      6000\n",
            "weighted avg       0.89      0.82      0.85      6000\n",
            "\n",
            "\n",
            "\n"
          ]
        },
        {
          "output_type": "execute_result",
          "data": {
            "text/plain": [
              "<matplotlib.axes._subplots.AxesSubplot at 0x7f6c6ecddc10>"
            ]
          },
          "metadata": {},
          "execution_count": 122
        },
        {
          "output_type": "display_data",
          "data": {
            "image/png": "[encoded data removed]",
            "text/plain": [
              "<Figure size 432x288 with 2 Axes>"
            ]
          },
          "metadata": {
            "needs_background": "light"
          }
        }
      ]
    },
    {
      "cell_type": "markdown",
      "metadata": {
        "id": "y3xP_J46xUkf"
      },
      "source": [
        "# SVC"
      ]
    },
    {
      "cell_type": "code",
      "metadata": {
        "id": "L5wkDaE0VFLm"
      },
      "source": [
        "clf = svm.SVC(kernel='linear') # Linear Kernel\n",
        "\n",
        "#Train the model using the training sets\n",
        "clf.fit(X_train, y_train)\n",
        "\n",
        "#Predict the response for test dataset\n",
        "y_pred = clf.predict(X_test)"
      ],
      "execution_count": null,
      "outputs": []
    },
    {
      "cell_type": "code",
      "metadata": {
        "colab": {
          "base_uri": "https://localhost:8080/",
          "height": 642
        },
        "id": "cIQsdWjhVJiF",
        "outputId": "d9b09733-f907-4654-ca5f-d8b919b36fe8"
      },
      "source": [
        "cm = confusion_matrix(y_test, y_pred)\n",
        "print(cm)\n",
        "print(\"\\n\")\n",
        "print('Accuracy' + str(accuracy_score(y_test, y_pred)))\n",
        "print(\"\\n\")\n",
        "print(classification_report(y_pred, y_test))\n",
        "print(\"\\n\")\n",
        "sns.heatmap(cm/100, annot=True)"
      ],
      "execution_count": null,
      "outputs": [
        {
          "output_type": "stream",
          "name": "stdout",
          "text": [
            "[[4703    0]\n",
            " [1297    0]]\n",
            "\n",
            "\n",
            "Accuracy0.7838333333333334\n",
            "\n",
            "\n",
            "              precision    recall  f1-score   support\n",
            "\n",
            "           0       1.00      0.78      0.88      6000\n",
            "           1       0.00      0.00      0.00         0\n",
            "\n",
            "    accuracy                           0.78      6000\n",
            "   macro avg       0.50      0.39      0.44      6000\n",
            "weighted avg       1.00      0.78      0.88      6000\n",
            "\n",
            "\n",
            "\n"
          ]
        },
        {
          "output_type": "stream",
          "name": "stderr",
          "text": [
            "/usr/local/lib/python3.7/dist-packages/sklearn/metrics/_classification.py:1272: UndefinedMetricWarning: Recall and F-score are ill-defined and being set to 0.0 in labels with no true samples. Use `zero_division` parameter to control this behavior.\n",
            "  _warn_prf(average, modifier, msg_start, len(result))\n"
          ]
        },
        {
          "output_type": "execute_result",
          "data": {
            "text/plain": [
              "<matplotlib.axes._subplots.AxesSubplot at 0x7f6c6ec16750>"
            ]
          },
          "metadata": {},
          "execution_count": 124
        },
        {
          "output_type": "display_data",
          "data": {
            "image/png": "[encoded data removed]",
            "text/plain": [
              "<Figure size 432x288 with 2 Axes>"
            ]
          },
          "metadata": {
            "needs_background": "light"
          }
        }
      ]
    },
    {
      "cell_type": "markdown",
      "metadata": {
        "id": "2RUrbTT-xZHM"
      },
      "source": [
        "# LogisticRegression"
      ]
    },
    {
      "cell_type": "code",
      "metadata": {
        "id": "rQbJ9HQEaArb"
      },
      "source": [
        "clf = LogisticRegression(C=0.001, penalty='l2');\n",
        "clf.fit(X_train, y_train);\n",
        "y_pred = clf.predict(X_test)"
      ],
      "execution_count": null,
      "outputs": []
    },
    {
      "cell_type": "code",
      "metadata": {
        "colab": {
          "base_uri": "https://localhost:8080/",
          "height": 588
        },
        "id": "Et71A1Nwao_G",
        "outputId": "1e3c1713-44ee-4f7c-b12b-1064f1845f5d"
      },
      "source": [
        "cm = confusion_matrix(y_test, y_pred)\n",
        "print(cm)\n",
        "print(\"\\n\")\n",
        "print('Accuracy' + str(accuracy_score(y_test, y_pred)))\n",
        "print(\"\\n\")\n",
        "print(classification_report(y_pred, y_test))\n",
        "print(\"\\n\")\n",
        "sns.heatmap(cm/100, annot=True)"
      ],
      "execution_count": null,
      "outputs": [
        {
          "output_type": "stream",
          "name": "stdout",
          "text": [
            "[[4645   58]\n",
            " [1104  193]]\n",
            "\n",
            "\n",
            "Accuracy0.8063333333333333\n",
            "\n",
            "\n",
            "              precision    recall  f1-score   support\n",
            "\n",
            "           0       0.99      0.81      0.89      5749\n",
            "           1       0.15      0.77      0.25       251\n",
            "\n",
            "    accuracy                           0.81      6000\n",
            "   macro avg       0.57      0.79      0.57      6000\n",
            "weighted avg       0.95      0.81      0.86      6000\n",
            "\n",
            "\n",
            "\n"
          ]
        },
        {
          "output_type": "execute_result",
          "data": {
            "text/plain": [
              "<matplotlib.axes._subplots.AxesSubplot at 0x7f6c6eb996d0>"
            ]
          },
          "metadata": {},
          "execution_count": 126
        },
        {
          "output_type": "display_data",
          "data": {
            "image/png": "[encoded data removed]",
            "text/plain": [
              "<Figure size 432x288 with 2 Axes>"
            ]
          },
          "metadata": {
            "needs_background": "light"
          }
        }
      ]
    },
    {
      "cell_type": "markdown",
      "metadata": {
        "id": "rj5NehxxHvEz"
      },
      "source": [
        "# For Regression"
      ]
    },
    {
      "cell_type": "markdown",
      "metadata": {
        "id": "lsndvgO6x9az"
      },
      "source": [
        "# Multiple Linear Regression"
      ]
    },
    {
      "cell_type": "code",
      "metadata": {
        "id": "4x_khTq85XLf"
      },
      "source": [
        "# importing module\n",
        "from sklearn.linear_model import LinearRegression\n",
        "# creating an object of LinearRegression class\n",
        "LR = LinearRegression()\n",
        "# fitting the training data\n",
        "LR.fit(X_train,y_train)\n",
        "\n",
        "y_prediction =  LR.predict(X_test)"
      ],
      "execution_count": null,
      "outputs": []
    },
    {
      "cell_type": "code",
      "metadata": {
        "colab": {
          "base_uri": "https://localhost:8080/"
        },
        "id": "7aF1YlGcDl4Y",
        "outputId": "76f786c3-b3c2-44a6-9f9d-74eff89059a0"
      },
      "source": [
        "# predicting the accuracy score\n",
        "score=r2_score(y_test,y_prediction)\n",
        "print('r2 socre is ',score)\n",
        "print('mean_sqrd_error is=',mean_squared_error(y_test,y_prediction))\n",
        "print('root_mean_squared error of is==',np.sqrt(mean_squared_error(y_test,y_prediction)))"
      ],
      "execution_count": null,
      "outputs": [
        {
          "output_type": "stream",
          "name": "stdout",
          "text": [
            "r2 socre is  0.12703275765645583\n",
            "mean_sqrd_error is= 0.1479143813372769\n",
            "root_mean_squared error of is== 0.3845963875769986\n"
          ]
        }
      ]
    },
    {
      "cell_type": "markdown",
      "metadata": {
        "id": "peUHxZcAELak"
      },
      "source": [
        "# VotingRegressor"
      ]
    },
    {
      "cell_type": "code",
      "metadata": {
        "id": "Kp-j_JAcERIA"
      },
      "source": [
        "r1 = LinearRegression()\n",
        "r2 = RandomForestRegressor(n_estimators=10, random_state=1)\n",
        "er = VotingRegressor([('lr', r1), ('rf', r2)])\n",
        "y_prediction = er.fit(X_train, y_train).predict(X_test)"
      ],
      "execution_count": null,
      "outputs": []
    },
    {
      "cell_type": "code",
      "metadata": {
        "colab": {
          "base_uri": "https://localhost:8080/"
        },
        "id": "1tVJJgXQETV_",
        "outputId": "0f59585b-295a-4a57-dcc9-dd7d3363fa16"
      },
      "source": [
        "score=r2_score(y_test,y_prediction)\n",
        "print('r2 socre is ',score)\n",
        "print('mean_sqrd_error is=',mean_squared_error(y_test,y_prediction))\n",
        "print('root_mean_squared error of is==',np.sqrt(mean_squared_error(y_test,y_prediction)))"
      ],
      "execution_count": null,
      "outputs": [
        {
          "output_type": "stream",
          "name": "stdout",
          "text": [
            "r2 socre is  0.06336519382779304\n",
            "mean_sqrd_error is= 0.15870212669377698\n",
            "root_mean_squared error of is== 0.39837435496499646\n"
          ]
        }
      ]
    },
    {
      "cell_type": "markdown",
      "metadata": {
        "id": "52PYE-Y-IBRq"
      },
      "source": [
        "# ***PCA***"
      ]
    },
    {
      "cell_type": "code",
      "metadata": {
        "id": "L-RbODvvIPI_"
      },
      "source": [
        "X=Dataset2Classification.drop(['ID','default payment next month'],axis=1)\n",
        "y=Dataset2Classification['default payment next month']"
      ],
      "execution_count": null,
      "outputs": []
    },
    {
      "cell_type": "code",
      "metadata": {
        "id": "N4jzL41gIQ6K"
      },
      "source": [
        "X_train, X_test, y_train, y_test = train_test_split(X, y, test_size=0.2, random_state=0)"
      ],
      "execution_count": null,
      "outputs": []
    },
    {
      "cell_type": "code",
      "metadata": {
        "id": "ZO1wti1zISrn"
      },
      "source": [
        "sc = StandardScaler()\n",
        "X_train = sc.fit_transform(X_train)\n",
        "X_test = sc.transform(X_test)"
      ],
      "execution_count": null,
      "outputs": []
    },
    {
      "cell_type": "code",
      "metadata": {
        "id": "xiJxwMzgIUUZ"
      },
      "source": [
        "PCA_ = PCA(n_components=15, svd_solver='full')\n",
        "X_train = PCA_.fit_transform(X_train,y_train)\n",
        "X_test = PCA_.transform(X_test)"
      ],
      "execution_count": null,
      "outputs": []
    },
    {
      "cell_type": "markdown",
      "metadata": {
        "id": "yzlRI7S7JGP9"
      },
      "source": [
        "# For Classification"
      ]
    },
    {
      "cell_type": "markdown",
      "metadata": {
        "id": "pdXDEsbKJK7v"
      },
      "source": [
        "# RandomForestClassifier"
      ]
    },
    {
      "cell_type": "code",
      "metadata": {
        "id": "QNBOxYMAJJ-X"
      },
      "source": [
        "classifier = RandomForestClassifier(max_depth=2, random_state=0)\n",
        "classifier.fit(X_train, y_train)\n",
        "y_pred = classifier.predict(X_test)"
      ],
      "execution_count": null,
      "outputs": []
    },
    {
      "cell_type": "code",
      "metadata": {
        "colab": {
          "base_uri": "https://localhost:8080/",
          "height": 642
        },
        "id": "AwQn6bymJFwQ",
        "outputId": "21d8ae82-eb8a-428c-c982-10e7ae54712e"
      },
      "source": [
        "cm = confusion_matrix(y_test, y_pred)\n",
        "print(cm)\n",
        "print(\"\\n\")\n",
        "print('Accuracy' + str(accuracy_score(y_test, y_pred)))\n",
        "print(\"\\n\")\n",
        "print(classification_report(y_pred, y_test))\n",
        "print(\"\\n\")\n",
        "sns.heatmap(cm/100, annot=True)"
      ],
      "execution_count": null,
      "outputs": [
        {
          "output_type": "stream",
          "name": "stdout",
          "text": [
            "[[4703    0]\n",
            " [1297    0]]\n",
            "\n",
            "\n",
            "Accuracy0.7838333333333334\n",
            "\n",
            "\n",
            "              precision    recall  f1-score   support\n",
            "\n",
            "           0       1.00      0.78      0.88      6000\n",
            "           1       0.00      0.00      0.00         0\n",
            "\n",
            "    accuracy                           0.78      6000\n",
            "   macro avg       0.50      0.39      0.44      6000\n",
            "weighted avg       1.00      0.78      0.88      6000\n",
            "\n",
            "\n",
            "\n"
          ]
        },
        {
          "output_type": "stream",
          "name": "stderr",
          "text": [
            "/usr/local/lib/python3.7/dist-packages/sklearn/metrics/_classification.py:1272: UndefinedMetricWarning: Recall and F-score are ill-defined and being set to 0.0 in labels with no true samples. Use `zero_division` parameter to control this behavior.\n",
            "  _warn_prf(average, modifier, msg_start, len(result))\n"
          ]
        },
        {
          "output_type": "execute_result",
          "data": {
            "text/plain": [
              "<matplotlib.axes._subplots.AxesSubplot at 0x7f6c6e553550>"
            ]
          },
          "metadata": {},
          "execution_count": 174
        },
        {
          "output_type": "display_data",
          "data": {
            "image/png": "[encoded data removed]",
            "text/plain": [
              "<Figure size 432x288 with 2 Axes>"
            ]
          },
          "metadata": {
            "needs_background": "light"
          }
        }
      ]
    },
    {
      "cell_type": "markdown",
      "metadata": {
        "id": "OZxcBw81Jf2j"
      },
      "source": [
        "# XGBClassifier"
      ]
    },
    {
      "cell_type": "code",
      "metadata": {
        "id": "9DEwt2RTJjYK"
      },
      "source": [
        "data_dmatrix = xgb.DMatrix(data=X,label=y)"
      ],
      "execution_count": null,
      "outputs": []
    },
    {
      "cell_type": "code",
      "metadata": {
        "id": "eepWbaERJnrz"
      },
      "source": [
        "xg_Class = xgb.XGBClassifier(objective ='binary:logistic', colsample_bytree = 0.3, learning_rate = 0.1,\n",
        "                max_depth = 5, alpha = 10, n_estimators = 10)"
      ],
      "execution_count": null,
      "outputs": []
    },
    {
      "cell_type": "code",
      "metadata": {
        "id": "IT7hflTfJnrz"
      },
      "source": [
        "xg_Class.fit(X_train,y_train)\n",
        "\n",
        "preds = xg_Class.predict(X_test)"
      ],
      "execution_count": null,
      "outputs": []
    },
    {
      "cell_type": "code",
      "metadata": {
        "colab": {
          "base_uri": "https://localhost:8080/",
          "height": 588
        },
        "id": "UNpZvrWxJnr0",
        "outputId": "85444b87-7bfd-4d07-e882-edd748769305"
      },
      "source": [
        "cm = confusion_matrix(y_test, preds)\n",
        "print(cm)\n",
        "print(\"\\n\")\n",
        "print('Accuracy' + str(accuracy_score(y_test, preds)))\n",
        "print(\"\\n\")\n",
        "print(classification_report(preds, y_test))\n",
        "print(\"\\n\")\n",
        "sns.heatmap(cm/100, annot=True)"
      ],
      "execution_count": null,
      "outputs": [
        {
          "output_type": "stream",
          "name": "stdout",
          "text": [
            "[[4625   78]\n",
            " [1073  224]]\n",
            "\n",
            "\n",
            "Accuracy0.8081666666666667\n",
            "\n",
            "\n",
            "              precision    recall  f1-score   support\n",
            "\n",
            "           0       0.98      0.81      0.89      5698\n",
            "           1       0.17      0.74      0.28       302\n",
            "\n",
            "    accuracy                           0.81      6000\n",
            "   macro avg       0.58      0.78      0.58      6000\n",
            "weighted avg       0.94      0.81      0.86      6000\n",
            "\n",
            "\n",
            "\n"
          ]
        },
        {
          "output_type": "execute_result",
          "data": {
            "text/plain": [
              "<matplotlib.axes._subplots.AxesSubplot at 0x7f6c6e47d110>"
            ]
          },
          "metadata": {},
          "execution_count": 178
        },
        {
          "output_type": "display_data",
          "data": {
            "image/png": "[encoded data removed]",
            "text/plain": [
              "<Figure size 432x288 with 2 Axes>"
            ]
          },
          "metadata": {
            "needs_background": "light"
          }
        }
      ]
    },
    {
      "cell_type": "markdown",
      "metadata": {
        "id": "ZWL-coQoTkjo"
      },
      "source": [
        "# SVC"
      ]
    },
    {
      "cell_type": "code",
      "metadata": {
        "id": "8sTFTuntTkjo"
      },
      "source": [
        "clf = svm.SVC(kernel='linear') # Linear Kernel\n",
        "\n",
        "#Train the model using the training sets\n",
        "clf.fit(X_train, y_train)\n",
        "\n",
        "#Predict the response for test dataset\n",
        "y_pred = clf.predict(X_test)"
      ],
      "execution_count": null,
      "outputs": []
    },
    {
      "cell_type": "code",
      "metadata": {
        "colab": {
          "base_uri": "https://localhost:8080/",
          "height": 588
        },
        "id": "0KadRruHTkjp",
        "outputId": "cabe27c8-d623-46e9-b64c-84c7c3368492"
      },
      "source": [
        "cm = confusion_matrix(y_test, y_pred)\n",
        "print(cm)\n",
        "print(\"\\n\")\n",
        "print('Accuracy' + str(accuracy_score(y_test, y_pred)))\n",
        "print(\"\\n\")\n",
        "print(classification_report(y_pred, y_test))\n",
        "print(\"\\n\")\n",
        "sns.heatmap(cm/100, annot=True)"
      ],
      "execution_count": null,
      "outputs": [
        {
          "output_type": "stream",
          "name": "stdout",
          "text": [
            "[[4599  104]\n",
            " [ 995  302]]\n",
            "\n",
            "\n",
            "Accuracy0.8168333333333333\n",
            "\n",
            "\n",
            "              precision    recall  f1-score   support\n",
            "\n",
            "           0       0.98      0.82      0.89      5594\n",
            "           1       0.23      0.74      0.35       406\n",
            "\n",
            "    accuracy                           0.82      6000\n",
            "   macro avg       0.61      0.78      0.62      6000\n",
            "weighted avg       0.93      0.82      0.86      6000\n",
            "\n",
            "\n",
            "\n"
          ]
        },
        {
          "output_type": "execute_result",
          "data": {
            "text/plain": [
              "<matplotlib.axes._subplots.AxesSubplot at 0x7f6c6e3e8f10>"
            ]
          },
          "metadata": {},
          "execution_count": 180
        },
        {
          "output_type": "display_data",
          "data": {
            "image/png": "[encoded data removed]",
            "text/plain": [
              "<Figure size 432x288 with 2 Axes>"
            ]
          },
          "metadata": {
            "needs_background": "light"
          }
        }
      ]
    },
    {
      "cell_type": "markdown",
      "metadata": {
        "id": "PWXFt_kETkjq"
      },
      "source": [
        "# LogisticRegression"
      ]
    },
    {
      "cell_type": "code",
      "metadata": {
        "id": "kuaYyKtBTkjq"
      },
      "source": [
        "clf = LogisticRegression(C=0.001, penalty='l2');\n",
        "clf.fit(X_train, y_train);\n",
        "y_pred = clf.predict(X_test)"
      ],
      "execution_count": null,
      "outputs": []
    },
    {
      "cell_type": "code",
      "metadata": {
        "colab": {
          "base_uri": "https://localhost:8080/",
          "height": 588
        },
        "id": "rUQE4shHTkjr",
        "outputId": "e85423f2-9b90-4ca3-ffed-cc04a3cc5352"
      },
      "source": [
        "cm = confusion_matrix(y_test, y_pred)\n",
        "print(cm)\n",
        "print(\"\\n\")\n",
        "print('Accuracy' + str(accuracy_score(y_test, y_pred)))\n",
        "print(\"\\n\")\n",
        "print(classification_report(y_pred, y_test))\n",
        "print(\"\\n\")\n",
        "sns.heatmap(cm/100, annot=True)"
      ],
      "execution_count": null,
      "outputs": [
        {
          "output_type": "stream",
          "name": "stdout",
          "text": [
            "[[4629   74]\n",
            " [1074  223]]\n",
            "\n",
            "\n",
            "Accuracy0.8086666666666666\n",
            "\n",
            "\n",
            "              precision    recall  f1-score   support\n",
            "\n",
            "           0       0.98      0.81      0.89      5703\n",
            "           1       0.17      0.75      0.28       297\n",
            "\n",
            "    accuracy                           0.81      6000\n",
            "   macro avg       0.58      0.78      0.58      6000\n",
            "weighted avg       0.94      0.81      0.86      6000\n",
            "\n",
            "\n",
            "\n"
          ]
        },
        {
          "output_type": "execute_result",
          "data": {
            "text/plain": [
              "<matplotlib.axes._subplots.AxesSubplot at 0x7f6c6e3380d0>"
            ]
          },
          "metadata": {},
          "execution_count": 182
        },
        {
          "output_type": "display_data",
          "data": {
            "image/png": "[encoded data removed]",
            "text/plain": [
              "<Figure size 432x288 with 2 Axes>"
            ]
          },
          "metadata": {
            "needs_background": "light"
          }
        }
      ]
    },
    {
      "cell_type": "markdown",
      "metadata": {
        "id": "X0VUThb1Tkjr"
      },
      "source": [
        "# For Regression"
      ]
    },
    {
      "cell_type": "markdown",
      "metadata": {
        "id": "8dCXhFkuTkjs"
      },
      "source": [
        "# Multiple Linear Regression"
      ]
    },
    {
      "cell_type": "code",
      "metadata": {
        "id": "r2ZOu_8ITkjs"
      },
      "source": [
        "# importing module\n",
        "from sklearn.linear_model import LinearRegression\n",
        "# creating an object of LinearRegression class\n",
        "LR = LinearRegression()\n",
        "# fitting the training data\n",
        "LR.fit(X_train,y_train)\n",
        "\n",
        "y_prediction =  LR.predict(X_test)"
      ],
      "execution_count": null,
      "outputs": []
    },
    {
      "cell_type": "code",
      "metadata": {
        "colab": {
          "base_uri": "https://localhost:8080/"
        },
        "id": "zx5YJd3tTkjs",
        "outputId": "910c6cf8-fb11-4271-a94a-24e68059bd31"
      },
      "source": [
        "# predicting the accuracy score\n",
        "score=r2_score(y_test,y_prediction)\n",
        "print('r2 socre is ',score)\n",
        "print('mean_sqrd_error is=',mean_squared_error(y_test,y_prediction))\n",
        "print('root_mean_squared error of is==',np.sqrt(mean_squared_error(y_test,y_prediction)))"
      ],
      "execution_count": null,
      "outputs": [
        {
          "output_type": "stream",
          "name": "stdout",
          "text": [
            "r2 socre is  0.12670729056308816\n",
            "mean_sqrd_error is= 0.14796952803858024\n",
            "root_mean_squared error of is== 0.38466807514866663\n"
          ]
        }
      ]
    },
    {
      "cell_type": "markdown",
      "metadata": {
        "id": "MGgxsjc0Tkjt"
      },
      "source": [
        "# VotingRegressor"
      ]
    },
    {
      "cell_type": "code",
      "metadata": {
        "id": "3rT2wymHTkjt"
      },
      "source": [
        "r1 = LinearRegression()\n",
        "r2 = RandomForestRegressor(n_estimators=10, random_state=1)\n",
        "er = VotingRegressor([('lr', r1), ('rf', r2)])\n",
        "y_prediction = er.fit(X_train, y_train).predict(X_test)"
      ],
      "execution_count": null,
      "outputs": []
    },
    {
      "cell_type": "code",
      "metadata": {
        "colab": {
          "base_uri": "https://localhost:8080/"
        },
        "id": "qjK_Cm4ITkju",
        "outputId": "e8900fbf-129f-4ce5-ef31-e1c82ed53f0c"
      },
      "source": [
        "score=r2_score(y_test,y_prediction)\n",
        "print('r2 socre is ',score)\n",
        "print('mean_sqrd_error is=',mean_squared_error(y_test,y_prediction))\n",
        "print('root_mean_squared error of is==',np.sqrt(mean_squared_error(y_test,y_prediction)))"
      ],
      "execution_count": null,
      "outputs": [
        {
          "output_type": "stream",
          "name": "stdout",
          "text": [
            "r2 socre is  0.1674893315867586\n",
            "mean_sqrd_error is= 0.1410594745164187\n",
            "root_mean_squared error of is== 0.3755788525947896\n"
          ]
        }
      ]
    },
    {
      "cell_type": "markdown",
      "metadata": {
        "id": "-345zmR3UgHC"
      },
      "source": [
        "# ***TSNE***"
      ]
    },
    {
      "cell_type": "code",
      "metadata": {
        "id": "Ug2YKKh9UiIo"
      },
      "source": [
        "X=Dataset2Classification.drop(['ID','default payment next month'],axis=1)\n",
        "y=Dataset2Classification['default payment next month']"
      ],
      "execution_count": null,
      "outputs": []
    },
    {
      "cell_type": "code",
      "metadata": {
        "id": "qfwXchdGUnyk"
      },
      "source": [
        "X_train, X_test, y_train, y_test = train_test_split(X, y, test_size=0.2, random_state=0)"
      ],
      "execution_count": null,
      "outputs": []
    },
    {
      "cell_type": "code",
      "metadata": {
        "id": "o9Q2Rw8xUpc8"
      },
      "source": [
        "sc = StandardScaler()\n",
        "X_train = sc.fit_transform(X_train)\n",
        "X_test = sc.transform(X_test)"
      ],
      "execution_count": null,
      "outputs": []
    },
    {
      "cell_type": "code",
      "metadata": {
        "id": "YVKGKNLPUtIr"
      },
      "source": [
        "TSNE_ = TSNE (n_components=1, verbose=0, perplexity=40, n_iter=300)\n",
        "X_train = TSNE_.fit_transform(X_train,y_train)\n",
        "X_test = TSNE_.fit_transform(X_test)"
      ],
      "execution_count": null,
      "outputs": []
    },
    {
      "cell_type": "markdown",
      "metadata": {
        "id": "MtZ9tqlFXClZ"
      },
      "source": [
        "# For Classification"
      ]
    },
    {
      "cell_type": "markdown",
      "metadata": {
        "id": "ZdEMUpZ3XClh"
      },
      "source": [
        "# RandomForestClassifier"
      ]
    },
    {
      "cell_type": "code",
      "metadata": {
        "id": "PB9SL28sXCli"
      },
      "source": [
        "classifier = RandomForestClassifier(max_depth=2, random_state=0)\n",
        "classifier.fit(X_train, y_train)\n",
        "y_pred = classifier.predict(X_test)"
      ],
      "execution_count": null,
      "outputs": []
    },
    {
      "cell_type": "code",
      "metadata": {
        "colab": {
          "base_uri": "https://localhost:8080/",
          "height": 588
        },
        "id": "OSRcD348XCli",
        "outputId": "d5f63b26-94a6-4660-cc25-9a31bf342ead"
      },
      "source": [
        "cm = confusion_matrix(y_test, y_pred)\n",
        "print(cm)\n",
        "print(\"\\n\")\n",
        "print('Accuracy' + str(accuracy_score(y_test, y_pred)))\n",
        "print(\"\\n\")\n",
        "print(classification_report(y_pred, y_test))\n",
        "print(\"\\n\")\n",
        "sns.heatmap(cm/100, annot=True)"
      ],
      "execution_count": null,
      "outputs": [
        {
          "output_type": "stream",
          "name": "stdout",
          "text": [
            "[[3682 1021]\n",
            " [ 783  514]]\n",
            "\n",
            "\n",
            "Accuracy0.6993333333333334\n",
            "\n",
            "\n",
            "              precision    recall  f1-score   support\n",
            "\n",
            "           0       0.78      0.82      0.80      4465\n",
            "           1       0.40      0.33      0.36      1535\n",
            "\n",
            "    accuracy                           0.70      6000\n",
            "   macro avg       0.59      0.58      0.58      6000\n",
            "weighted avg       0.68      0.70      0.69      6000\n",
            "\n",
            "\n",
            "\n"
          ]
        },
        {
          "output_type": "execute_result",
          "data": {
            "text/plain": [
              "<matplotlib.axes._subplots.AxesSubplot at 0x7f6c6f155b10>"
            ]
          },
          "metadata": {},
          "execution_count": 237
        },
        {
          "output_type": "display_data",
          "data": {
            "image/png": "[encoded data removed]",
            "text/plain": [
              "<Figure size 432x288 with 2 Axes>"
            ]
          },
          "metadata": {
            "needs_background": "light"
          }
        }
      ]
    },
    {
      "cell_type": "markdown",
      "metadata": {
        "id": "MOix-YhXX1qO"
      },
      "source": [
        "# XGBClassifier"
      ]
    },
    {
      "cell_type": "code",
      "metadata": {
        "id": "cwmSoHn6X1qO"
      },
      "source": [
        "data_dmatrix = xgb.DMatrix(data=X,label=y)"
      ],
      "execution_count": null,
      "outputs": []
    },
    {
      "cell_type": "code",
      "metadata": {
        "id": "6NXHpSQmX1qO"
      },
      "source": [
        "xg_Class = xgb.XGBClassifier(objective ='binary:logistic', colsample_bytree = 0.3, learning_rate = 0.1,\n",
        "                max_depth = 5, alpha = 10, n_estimators = 10)"
      ],
      "execution_count": null,
      "outputs": []
    },
    {
      "cell_type": "code",
      "metadata": {
        "id": "Xl1s5IGDX1qP"
      },
      "source": [
        "xg_Class.fit(X_train,y_train)\n",
        "\n",
        "preds = xg_Class.predict(X_test)"
      ],
      "execution_count": null,
      "outputs": []
    },
    {
      "cell_type": "code",
      "metadata": {
        "colab": {
          "base_uri": "https://localhost:8080/",
          "height": 588
        },
        "id": "Qci08RzBX1qP",
        "outputId": "2724857c-abb6-4eb4-8847-23802269f4ce"
      },
      "source": [
        "cm = confusion_matrix(y_test, preds)\n",
        "print(cm)\n",
        "print(\"\\n\")\n",
        "print('Accuracy' + str(accuracy_score(y_test, preds)))\n",
        "print(\"\\n\")\n",
        "print(classification_report(preds, y_test))\n",
        "print(\"\\n\")\n",
        "sns.heatmap(cm/100, annot=True)"
      ],
      "execution_count": null,
      "outputs": [
        {
          "output_type": "stream",
          "name": "stdout",
          "text": [
            "[[3692 1011]\n",
            " [ 786  511]]\n",
            "\n",
            "\n",
            "Accuracy0.7005\n",
            "\n",
            "\n",
            "              precision    recall  f1-score   support\n",
            "\n",
            "           0       0.79      0.82      0.80      4478\n",
            "           1       0.39      0.34      0.36      1522\n",
            "\n",
            "    accuracy                           0.70      6000\n",
            "   macro avg       0.59      0.58      0.58      6000\n",
            "weighted avg       0.69      0.70      0.69      6000\n",
            "\n",
            "\n",
            "\n"
          ]
        },
        {
          "output_type": "execute_result",
          "data": {
            "text/plain": [
              "<matplotlib.axes._subplots.AxesSubplot at 0x7f6c6dde3dd0>"
            ]
          },
          "metadata": {},
          "execution_count": 241
        },
        {
          "output_type": "display_data",
          "data": {
            "image/png": "[encoded data removed]",
            "text/plain": [
              "<Figure size 432x288 with 2 Axes>"
            ]
          },
          "metadata": {
            "needs_background": "light"
          }
        }
      ]
    },
    {
      "cell_type": "markdown",
      "metadata": {
        "id": "7Kt7UpdlX1qP"
      },
      "source": [
        "# SVC"
      ]
    },
    {
      "cell_type": "code",
      "metadata": {
        "id": "6Yqe4CgrX1qP"
      },
      "source": [
        "clf = svm.SVC(kernel='linear') # Linear Kernel\n",
        "\n",
        "#Train the model using the training sets\n",
        "clf.fit(X_train, y_train)\n",
        "\n",
        "#Predict the response for test dataset\n",
        "y_pred = clf.predict(X_test)"
      ],
      "execution_count": null,
      "outputs": []
    },
    {
      "cell_type": "code",
      "metadata": {
        "colab": {
          "base_uri": "https://localhost:8080/",
          "height": 642
        },
        "id": "jtChAl_SX1qP",
        "outputId": "f6d19d9e-aafc-4a48-d518-0ea4fe38c0c8"
      },
      "source": [
        "cm = confusion_matrix(y_test, y_pred)\n",
        "print(cm)\n",
        "print(\"\\n\")\n",
        "print('Accuracy' + str(accuracy_score(y_test, y_pred)))\n",
        "print(\"\\n\")\n",
        "print(classification_report(y_pred, y_test))\n",
        "print(\"\\n\")\n",
        "sns.heatmap(cm/100, annot=True)"
      ],
      "execution_count": null,
      "outputs": [
        {
          "output_type": "stream",
          "name": "stdout",
          "text": [
            "[[4703    0]\n",
            " [1297    0]]\n",
            "\n",
            "\n",
            "Accuracy0.7838333333333334\n",
            "\n",
            "\n",
            "              precision    recall  f1-score   support\n",
            "\n",
            "           0       1.00      0.78      0.88      6000\n",
            "           1       0.00      0.00      0.00         0\n",
            "\n",
            "    accuracy                           0.78      6000\n",
            "   macro avg       0.50      0.39      0.44      6000\n",
            "weighted avg       1.00      0.78      0.88      6000\n",
            "\n",
            "\n",
            "\n"
          ]
        },
        {
          "output_type": "stream",
          "name": "stderr",
          "text": [
            "/usr/local/lib/python3.7/dist-packages/sklearn/metrics/_classification.py:1272: UndefinedMetricWarning: Recall and F-score are ill-defined and being set to 0.0 in labels with no true samples. Use `zero_division` parameter to control this behavior.\n",
            "  _warn_prf(average, modifier, msg_start, len(result))\n"
          ]
        },
        {
          "output_type": "execute_result",
          "data": {
            "text/plain": [
              "<matplotlib.axes._subplots.AxesSubplot at 0x7f6c6dc68c10>"
            ]
          },
          "metadata": {},
          "execution_count": 243
        },
        {
          "output_type": "display_data",
          "data": {
            "image/png": "[encoded data removed]",
            "text/plain": [
              "<Figure size 432x288 with 2 Axes>"
            ]
          },
          "metadata": {
            "needs_background": "light"
          }
        }
      ]
    },
    {
      "cell_type": "markdown",
      "metadata": {
        "id": "LqzK3cG0X1qQ"
      },
      "source": [
        "# LogisticRegression"
      ]
    },
    {
      "cell_type": "code",
      "metadata": {
        "id": "WyyZB4RZX1qQ"
      },
      "source": [
        "clf = LogisticRegression(C=0.001, penalty='l2');\n",
        "clf.fit(X_train, y_train);\n",
        "y_pred = clf.predict(X_test)"
      ],
      "execution_count": null,
      "outputs": []
    },
    {
      "cell_type": "code",
      "metadata": {
        "colab": {
          "base_uri": "https://localhost:8080/",
          "height": 590
        },
        "id": "pibP-qgNX1qQ",
        "outputId": "f62d9a3a-6563-4610-bb6c-42da95e1a4f8"
      },
      "source": [
        "cm = confusion_matrix(y_test, y_pred)\n",
        "print(cm)\n",
        "print(\"\\n\")\n",
        "print('Accuracy' + str(accuracy_score(y_test, y_pred)))\n",
        "print(\"\\n\")\n",
        "print(classification_report(y_pred, y_test))\n",
        "print(\"\\n\")\n",
        "sns.heatmap(cm/100, annot=True)"
      ],
      "execution_count": null,
      "outputs": [
        {
          "output_type": "stream",
          "name": "stdout",
          "text": [
            "[[4542  161]\n",
            " [1042  255]]\n",
            "\n",
            "\n",
            "Accuracy0.7995\n",
            "\n",
            "\n",
            "              precision    recall  f1-score   support\n",
            "\n",
            "           0       0.97      0.81      0.88      5584\n",
            "           1       0.20      0.61      0.30       416\n",
            "\n",
            "    accuracy                           0.80      6000\n",
            "   macro avg       0.58      0.71      0.59      6000\n",
            "weighted avg       0.91      0.80      0.84      6000\n",
            "\n",
            "\n",
            "\n"
          ]
        },
        {
          "output_type": "execute_result",
          "data": {
            "text/plain": [
              "<matplotlib.axes._subplots.AxesSubplot at 0x7f6c6dc04210>"
            ]
          },
          "metadata": {},
          "execution_count": 245
        },
        {
          "output_type": "display_data",
          "data": {
            "image/png": "[encoded data removed]",
            "text/plain": [
              "<Figure size 432x288 with 2 Axes>"
            ]
          },
          "metadata": {
            "needs_background": "light"
          }
        }
      ]
    },
    {
      "cell_type": "markdown",
      "metadata": {
        "id": "udOLIb7qX1qQ"
      },
      "source": [
        "# For Regression"
      ]
    },
    {
      "cell_type": "markdown",
      "metadata": {
        "id": "0DqsHjjMX1qQ"
      },
      "source": [
        "# Multiple Linear Regression"
      ]
    },
    {
      "cell_type": "code",
      "metadata": {
        "id": "6TukAALkX1qQ"
      },
      "source": [
        "# importing module\n",
        "from sklearn.linear_model import LinearRegression\n",
        "# creating an object of LinearRegression class\n",
        "LR = LinearRegression()\n",
        "# fitting the training data\n",
        "LR.fit(X_train,y_train)\n",
        "\n",
        "y_prediction =  LR.predict(X_test)"
      ],
      "execution_count": null,
      "outputs": []
    },
    {
      "cell_type": "code",
      "metadata": {
        "colab": {
          "base_uri": "https://localhost:8080/"
        },
        "id": "llrkTwkzX1qR",
        "outputId": "130e4114-3d43-4f8f-de09-009db2bdd4ad"
      },
      "source": [
        "# predicting the accuracy score\n",
        "score=r2_score(y_test,y_prediction)\n",
        "print('r2 socre is ',score)\n",
        "print('mean_sqrd_error is=',mean_squared_error(y_test,y_prediction))\n",
        "print('root_mean_squared error of is==',np.sqrt(mean_squared_error(y_test,y_prediction)))"
      ],
      "execution_count": null,
      "outputs": [
        {
          "output_type": "stream",
          "name": "stdout",
          "text": [
            "r2 socre is  -7.291801948916543e-06\n",
            "mean_sqrd_error is= 0.16943987440188613\n",
            "root_mean_squared error of is== 0.4116307500684152\n"
          ]
        }
      ]
    },
    {
      "cell_type": "markdown",
      "metadata": {
        "id": "mobVXrxTX1qR"
      },
      "source": [
        "# VotingRegressor"
      ]
    },
    {
      "cell_type": "code",
      "metadata": {
        "id": "qHLvHJkjX1qR"
      },
      "source": [
        "r1 = LinearRegression()\n",
        "r2 = RandomForestRegressor(n_estimators=10, random_state=1)\n",
        "er = VotingRegressor([('lr', r1), ('rf', r2)])\n",
        "y_prediction = er.fit(X_train, y_train).predict(X_test)"
      ],
      "execution_count": null,
      "outputs": []
    },
    {
      "cell_type": "code",
      "metadata": {
        "colab": {
          "base_uri": "https://localhost:8080/"
        },
        "id": "B4slvQCoX1qS",
        "outputId": "a750d893-afb4-4b5c-e610-e1b2fffd2551"
      },
      "source": [
        "score=r2_score(y_test,y_prediction)\n",
        "print('r2 socre is ',score)\n",
        "print('mean_sqrd_error is=',mean_squared_error(y_test,y_prediction))\n",
        "print('root_mean_squared error of is==',np.sqrt(mean_squared_error(y_test,y_prediction)))"
      ],
      "execution_count": null,
      "outputs": [
        {
          "output_type": "stream",
          "name": "stdout",
          "text": [
            "r2 socre is  -0.19898984493440097\n",
            "mean_sqrd_error is= 0.20315520736728482\n",
            "root_mean_squared error of is== 0.4507274202522904\n"
          ]
        }
      ]
    },
    {
      "cell_type": "markdown",
      "metadata": {
        "id": "2c3Ff8z3eaiH"
      },
      "source": [
        "# ***Feature Selection Using Regularisation***"
      ]
    },
    {
      "cell_type": "code",
      "metadata": {
        "id": "4w249K_keiIu"
      },
      "source": [
        "X=Dataset2Classification.drop(['ID','default payment next month'],axis=1)\n",
        "y=Dataset2Classification['default payment next month']"
      ],
      "execution_count": null,
      "outputs": []
    },
    {
      "cell_type": "code",
      "metadata": {
        "id": "CLZgano3eiIv"
      },
      "source": [
        "X_train, X_test, y_train, y_test = train_test_split(X, y, test_size=0.2, random_state=0)"
      ],
      "execution_count": null,
      "outputs": []
    },
    {
      "cell_type": "code",
      "metadata": {
        "id": "hRqq7xnvkUfo"
      },
      "source": [
        "sc = StandardScaler()\n",
        "X_train = sc.fit_transform(X_train)\n",
        "X_test = sc.transform(X_test)"
      ],
      "execution_count": null,
      "outputs": []
    },
    {
      "cell_type": "code",
      "metadata": {
        "colab": {
          "base_uri": "https://localhost:8080/"
        },
        "id": "Qqc2_jr9jAZy",
        "outputId": "2ba5bf07-0736-4dbf-edee-defc73ab0497"
      },
      "source": [
        "X_train.shape, X_test.shape"
      ],
      "execution_count": null,
      "outputs": [
        {
          "output_type": "execute_result",
          "data": {
            "text/plain": [
              "((24000, 23), (6000, 23))"
            ]
          },
          "metadata": {},
          "execution_count": 301
        }
      ]
    },
    {
      "cell_type": "code",
      "metadata": {
        "colab": {
          "base_uri": "https://localhost:8080/"
        },
        "id": "kX2Afp3xeiIv",
        "outputId": "0fc82420-7628-4c70-af8c-97de74ce6132"
      },
      "source": [
        "sel_ = SelectFromModel(LogisticRegression(C=15, penalty='l1',solver='liblinear'))\n",
        "sel_.fit(sc.transform(X_train), y_train)"
      ],
      "execution_count": null,
      "outputs": [
        {
          "output_type": "execute_result",
          "data": {
            "text/plain": [
              "SelectFromModel(estimator=LogisticRegression(C=15, class_weight=None,\n",
              "                                             dual=False, fit_intercept=True,\n",
              "                                             intercept_scaling=1, l1_ratio=None,\n",
              "                                             max_iter=100, multi_class='auto',\n",
              "                                             n_jobs=None, penalty='l1',\n",
              "                                             random_state=None,\n",
              "                                             solver='liblinear', tol=0.0001,\n",
              "                                             verbose=0, warm_start=False),\n",
              "                max_features=None, norm_order=1, prefit=False, threshold=None)"
            ]
          },
          "metadata": {},
          "execution_count": 302
        }
      ]
    },
    {
      "cell_type": "code",
      "metadata": {
        "colab": {
          "base_uri": "https://localhost:8080/"
        },
        "id": "uHvybyeUjxxK",
        "outputId": "b62c4835-514a-4ef6-a664-86c364544fdb"
      },
      "source": [
        "sel_.get_support()"
      ],
      "execution_count": null,
      "outputs": [
        {
          "output_type": "execute_result",
          "data": {
            "text/plain": [
              "array([ True,  True,  True,  True,  True,  True,  True,  True,  True,\n",
              "        True,  True,  True,  True,  True,  True,  True,  True,  True,\n",
              "       False, False,  True,  True, False])"
            ]
          },
          "metadata": {},
          "execution_count": 303
        }
      ]
    },
    {
      "cell_type": "code",
      "metadata": {
        "colab": {
          "base_uri": "https://localhost:8080/"
        },
        "id": "S9KfEPfFiOkE",
        "outputId": "b5667863-32eb-4a49-a93e-87d69c78ebae"
      },
      "source": [
        "X_train=pd.DataFrame(X_train)\n",
        "selected_feat = X_train.columns[sel_.get_support()]\n",
        "print('total features: {}'.format((X_train.shape[1])))\n",
        "print('selected features: {}'.format(len(selected_feat)))\n",
        "print('features with coefficients shrank to zero: {}'.format(\n",
        "      np.sum(sel_.estimator_.coef_ == 0)))"
      ],
      "execution_count": null,
      "outputs": [
        {
          "output_type": "stream",
          "name": "stdout",
          "text": [
            "total features: 23\n",
            "selected features: 20\n",
            "features with coefficients shrank to zero: 3\n"
          ]
        }
      ]
    },
    {
      "cell_type": "code",
      "metadata": {
        "colab": {
          "base_uri": "https://localhost:8080/"
        },
        "id": "dSlUmSO2tAgu",
        "outputId": "2fe8c53c-7acb-4416-fed2-895e89130be6"
      },
      "source": [
        "np.sum(sel_.estimator_.coef_ == 0)"
      ],
      "execution_count": null,
      "outputs": [
        {
          "output_type": "execute_result",
          "data": {
            "text/plain": [
              "3"
            ]
          },
          "metadata": {},
          "execution_count": 305
        }
      ]
    },
    {
      "cell_type": "code",
      "metadata": {
        "colab": {
          "base_uri": "https://localhost:8080/"
        },
        "id": "M0GItmQetJHV",
        "outputId": "db473620-2b94-448d-fbe7-2b35fd5a25d5"
      },
      "source": [
        "removed_feats = X_train.columns[(sel_.estimator_.coef_ == 0).ravel().tolist()]\n",
        "removed_feats"
      ],
      "execution_count": null,
      "outputs": [
        {
          "output_type": "execute_result",
          "data": {
            "text/plain": [
              "Int64Index([18, 19, 22], dtype='int64')"
            ]
          },
          "metadata": {},
          "execution_count": 306
        }
      ]
    },
    {
      "cell_type": "code",
      "metadata": {
        "colab": {
          "base_uri": "https://localhost:8080/"
        },
        "id": "VPdMp-JYtVnQ",
        "outputId": "c120f41e-b510-438f-8251-0e9362bf700d"
      },
      "source": [
        "X_train_selected = sel_.transform(X_train)\n",
        "X_test_selected = sel_.transform(X_test)\n",
        "\n",
        "\n",
        "X_train = X_train_selected \n",
        "X_test = X_test_selected\n",
        "\n",
        "X_train_selected.shape, X_test_selected.shape"
      ],
      "execution_count": null,
      "outputs": [
        {
          "output_type": "execute_result",
          "data": {
            "text/plain": [
              "((24000, 20), (6000, 20))"
            ]
          },
          "metadata": {},
          "execution_count": 307
        }
      ]
    },
    {
      "cell_type": "markdown",
      "metadata": {
        "id": "4Dg3LjTxeiIv"
      },
      "source": [
        "# For Classification"
      ]
    },
    {
      "cell_type": "markdown",
      "metadata": {
        "id": "EhBuGBw3xXhv"
      },
      "source": [
        "# RandomForestClassifier"
      ]
    },
    {
      "cell_type": "code",
      "metadata": {
        "id": "ZLK7RzW4fKLg"
      },
      "source": [
        "classifier = RandomForestClassifier(max_depth=2, random_state=0)\n",
        "classifier.fit(X_train, y_train)\n",
        "y_pred = classifier.predict(X_test)"
      ],
      "execution_count": null,
      "outputs": []
    },
    {
      "cell_type": "code",
      "metadata": {
        "colab": {
          "base_uri": "https://localhost:8080/",
          "height": 588
        },
        "id": "VTi3zqzKfKLg",
        "outputId": "6ba94a3f-4122-45c2-dad1-6a268aaec98d"
      },
      "source": [
        "cm = confusion_matrix(y_test, y_pred)\n",
        "print(cm)\n",
        "print(\"\\n\")\n",
        "print('Accuracy' + str(accuracy_score(y_test, y_pred)))\n",
        "print(\"\\n\")\n",
        "print(classification_report(y_pred, y_test))\n",
        "print(\"\\n\")\n",
        "sns.heatmap(cm/100, annot=True)"
      ],
      "execution_count": null,
      "outputs": [
        {
          "output_type": "stream",
          "name": "stdout",
          "text": [
            "[[4610   93]\n",
            " [1066  231]]\n",
            "\n",
            "\n",
            "Accuracy0.8068333333333333\n",
            "\n",
            "\n",
            "              precision    recall  f1-score   support\n",
            "\n",
            "           0       0.98      0.81      0.89      5676\n",
            "           1       0.18      0.71      0.29       324\n",
            "\n",
            "    accuracy                           0.81      6000\n",
            "   macro avg       0.58      0.76      0.59      6000\n",
            "weighted avg       0.94      0.81      0.86      6000\n",
            "\n",
            "\n",
            "\n"
          ]
        },
        {
          "output_type": "execute_result",
          "data": {
            "text/plain": [
              "<matplotlib.axes._subplots.AxesSubplot at 0x7f6c6d61b450>"
            ]
          },
          "metadata": {},
          "execution_count": 309
        },
        {
          "output_type": "display_data",
          "data": {
            "image/png": "[encoded data removed]",
            "text/plain": [
              "<Figure size 432x288 with 2 Axes>"
            ]
          },
          "metadata": {
            "needs_background": "light"
          }
        }
      ]
    },
    {
      "cell_type": "markdown",
      "metadata": {
        "id": "yNmpetujfKLh"
      },
      "source": [
        "# XGBClassifier"
      ]
    },
    {
      "cell_type": "code",
      "metadata": {
        "id": "M3jDTJyefKLh"
      },
      "source": [
        "data_dmatrix = xgb.DMatrix(data=X,label=y)"
      ],
      "execution_count": null,
      "outputs": []
    },
    {
      "cell_type": "code",
      "metadata": {
        "id": "YTi_i-SrfKLh"
      },
      "source": [
        "xg_Class = xgb.XGBClassifier(objective ='binary:logistic', colsample_bytree = 0.3, learning_rate = 0.1,\n",
        "                max_depth = 5, alpha = 10, n_estimators = 10)"
      ],
      "execution_count": null,
      "outputs": []
    },
    {
      "cell_type": "code",
      "metadata": {
        "id": "ZVQNVFJRfKLh"
      },
      "source": [
        "xg_Class.fit(X_train,y_train)\n",
        "\n",
        "preds = xg_Class.predict(X_test)"
      ],
      "execution_count": null,
      "outputs": []
    },
    {
      "cell_type": "code",
      "metadata": {
        "colab": {
          "base_uri": "https://localhost:8080/",
          "height": 588
        },
        "id": "E82rs0RSfKLi",
        "outputId": "de9d7609-237d-4678-bd2e-2d500b3a0aa1"
      },
      "source": [
        "cm = confusion_matrix(y_test, preds)\n",
        "print(cm)\n",
        "print(\"\\n\")\n",
        "print('Accuracy' + str(accuracy_score(y_test, preds)))\n",
        "print(\"\\n\")\n",
        "print(classification_report(preds, y_test))\n",
        "print(\"\\n\")\n",
        "sns.heatmap(cm/100, annot=True)"
      ],
      "execution_count": null,
      "outputs": [
        {
          "output_type": "stream",
          "name": "stdout",
          "text": [
            "[[4586  117]\n",
            " [1024  273]]\n",
            "\n",
            "\n",
            "Accuracy0.8098333333333333\n",
            "\n",
            "\n",
            "              precision    recall  f1-score   support\n",
            "\n",
            "           0       0.98      0.82      0.89      5610\n",
            "           1       0.21      0.70      0.32       390\n",
            "\n",
            "    accuracy                           0.81      6000\n",
            "   macro avg       0.59      0.76      0.61      6000\n",
            "weighted avg       0.93      0.81      0.85      6000\n",
            "\n",
            "\n",
            "\n"
          ]
        },
        {
          "output_type": "execute_result",
          "data": {
            "text/plain": [
              "<matplotlib.axes._subplots.AxesSubplot at 0x7f6c6d560210>"
            ]
          },
          "metadata": {},
          "execution_count": 313
        },
        {
          "output_type": "display_data",
          "data": {
            "image/png": "[encoded data removed]",
            "text/plain": [
              "<Figure size 432x288 with 2 Axes>"
            ]
          },
          "metadata": {
            "needs_background": "light"
          }
        }
      ]
    },
    {
      "cell_type": "markdown",
      "metadata": {
        "id": "Nz6ZEPQSfKLi"
      },
      "source": [
        "# SVC"
      ]
    },
    {
      "cell_type": "code",
      "metadata": {
        "id": "OvhAdGfdfKLi"
      },
      "source": [
        "clf = svm.SVC(kernel='linear') # Linear Kernel\n",
        "\n",
        "#Train the model using the training sets\n",
        "clf.fit(X_train, y_train)\n",
        "\n",
        "#Predict the response for test dataset\n",
        "y_pred = clf.predict(X_test)"
      ],
      "execution_count": null,
      "outputs": []
    },
    {
      "cell_type": "code",
      "metadata": {
        "colab": {
          "base_uri": "https://localhost:8080/",
          "height": 588
        },
        "id": "K0-jCBgFfKLi",
        "outputId": "7dea1711-68b0-487f-9688-51aae8cdb14d"
      },
      "source": [
        "cm = confusion_matrix(y_test, y_pred)\n",
        "print(cm)\n",
        "print(\"\\n\")\n",
        "print('Accuracy' + str(accuracy_score(y_test, y_pred)))\n",
        "print(\"\\n\")\n",
        "print(classification_report(y_pred, y_test))\n",
        "print(\"\\n\")\n",
        "sns.heatmap(cm/100, annot=True)"
      ],
      "execution_count": null,
      "outputs": [
        {
          "output_type": "stream",
          "name": "stdout",
          "text": [
            "[[4594  109]\n",
            " [ 986  311]]\n",
            "\n",
            "\n",
            "Accuracy0.8175\n",
            "\n",
            "\n",
            "              precision    recall  f1-score   support\n",
            "\n",
            "           0       0.98      0.82      0.89      5580\n",
            "           1       0.24      0.74      0.36       420\n",
            "\n",
            "    accuracy                           0.82      6000\n",
            "   macro avg       0.61      0.78      0.63      6000\n",
            "weighted avg       0.93      0.82      0.86      6000\n",
            "\n",
            "\n",
            "\n"
          ]
        },
        {
          "output_type": "execute_result",
          "data": {
            "text/plain": [
              "<matplotlib.axes._subplots.AxesSubplot at 0x7f6c6ca027d0>"
            ]
          },
          "metadata": {},
          "execution_count": 315
        },
        {
          "output_type": "display_data",
          "data": {
            "image/png": "[encoded data removed]",
            "text/plain": [
              "<Figure size 432x288 with 2 Axes>"
            ]
          },
          "metadata": {
            "needs_background": "light"
          }
        }
      ]
    },
    {
      "cell_type": "markdown",
      "metadata": {
        "id": "wExTT-_xfKLi"
      },
      "source": [
        "# LogisticRegression"
      ]
    },
    {
      "cell_type": "code",
      "metadata": {
        "id": "zDrTWCF_fKLj"
      },
      "source": [
        "clf = LogisticRegression(C=0.001, penalty='l2');\n",
        "clf.fit(X_train, y_train);\n",
        "y_pred = clf.predict(X_test)"
      ],
      "execution_count": null,
      "outputs": []
    },
    {
      "cell_type": "code",
      "metadata": {
        "colab": {
          "base_uri": "https://localhost:8080/",
          "height": 588
        },
        "id": "0k-_SuizfKLj",
        "outputId": "da351ca8-d571-4f92-95d1-c6308db01c59"
      },
      "source": [
        "cm = confusion_matrix(y_test, y_pred)\n",
        "print(cm)\n",
        "print(\"\\n\")\n",
        "print('Accuracy' + str(accuracy_score(y_test, y_pred)))\n",
        "print(\"\\n\")\n",
        "print(classification_report(y_pred, y_test))\n",
        "print(\"\\n\")\n",
        "sns.heatmap(cm/100, annot=True)"
      ],
      "execution_count": null,
      "outputs": [
        {
          "output_type": "stream",
          "name": "stdout",
          "text": [
            "[[4631   72]\n",
            " [1069  228]]\n",
            "\n",
            "\n",
            "Accuracy0.8098333333333333\n",
            "\n",
            "\n",
            "              precision    recall  f1-score   support\n",
            "\n",
            "           0       0.98      0.81      0.89      5700\n",
            "           1       0.18      0.76      0.29       300\n",
            "\n",
            "    accuracy                           0.81      6000\n",
            "   macro avg       0.58      0.79      0.59      6000\n",
            "weighted avg       0.94      0.81      0.86      6000\n",
            "\n",
            "\n",
            "\n"
          ]
        },
        {
          "output_type": "execute_result",
          "data": {
            "text/plain": [
              "<matplotlib.axes._subplots.AxesSubplot at 0x7f6c6c97c890>"
            ]
          },
          "metadata": {},
          "execution_count": 317
        },
        {
          "output_type": "display_data",
          "data": {
            "image/png": "[encoded data removed]",
            "text/plain": [
              "<Figure size 432x288 with 2 Axes>"
            ]
          },
          "metadata": {
            "needs_background": "light"
          }
        }
      ]
    },
    {
      "cell_type": "markdown",
      "metadata": {
        "id": "vR06u4kAfKLj"
      },
      "source": [
        "# For Regression"
      ]
    },
    {
      "cell_type": "markdown",
      "metadata": {
        "id": "6-mvgLHYfKLj"
      },
      "source": [
        "# Multiple Linear Regression"
      ]
    },
    {
      "cell_type": "code",
      "metadata": {
        "id": "V_6ngF9LfKLj"
      },
      "source": [
        "# importing module\n",
        "from sklearn.linear_model import LinearRegression\n",
        "# creating an object of LinearRegression class\n",
        "LR = LinearRegression()\n",
        "# fitting the training data\n",
        "LR.fit(X_train,y_train)\n",
        "\n",
        "y_prediction =  LR.predict(X_test)"
      ],
      "execution_count": null,
      "outputs": []
    },
    {
      "cell_type": "code",
      "metadata": {
        "colab": {
          "base_uri": "https://localhost:8080/"
        },
        "id": "spwdTLK6fKLj",
        "outputId": "07c8b58a-159e-4bad-b8dc-35173dd47af9"
      },
      "source": [
        "# predicting the accuracy score\n",
        "score=r2_score(y_test,y_prediction)\n",
        "print('r2 socre is ',score)\n",
        "print('mean_sqrd_error is=',mean_squared_error(y_test,y_prediction))\n",
        "print('root_mean_squared error of is==',np.sqrt(mean_squared_error(y_test,y_prediction)))"
      ],
      "execution_count": null,
      "outputs": [
        {
          "output_type": "stream",
          "name": "stdout",
          "text": [
            "r2 socre is  0.1272196942486501\n",
            "mean_sqrd_error is= 0.147882707055537\n",
            "root_mean_squared error of is== 0.38455520677210575\n"
          ]
        }
      ]
    },
    {
      "cell_type": "markdown",
      "metadata": {
        "id": "xx8loYoIfKLk"
      },
      "source": [
        "# VotingRegressor"
      ]
    },
    {
      "cell_type": "code",
      "metadata": {
        "id": "rXS9EGupfKLk"
      },
      "source": [
        "r1 = LinearRegression()\n",
        "r2 = RandomForestRegressor(n_estimators=10, random_state=1)\n",
        "er = VotingRegressor([('lr', r1), ('rf', r2)])\n",
        "y_prediction = er.fit(X_train, y_train).predict(X_test)"
      ],
      "execution_count": null,
      "outputs": []
    },
    {
      "cell_type": "code",
      "metadata": {
        "colab": {
          "base_uri": "https://localhost:8080/"
        },
        "id": "y0twRcE-fKLk",
        "outputId": "ee47e82c-eee0-4119-caa3-2fa8f4b41a2f"
      },
      "source": [
        "score=r2_score(y_test,y_prediction)\n",
        "print('r2 socre is ',score)\n",
        "print('mean_sqrd_error is=',mean_squared_error(y_test,y_prediction))\n",
        "print('root_mean_squared error of is==',np.sqrt(mean_squared_error(y_test,y_prediction)))"
      ],
      "execution_count": null,
      "outputs": [
        {
          "output_type": "stream",
          "name": "stdout",
          "text": [
            "r2 socre is  0.18733617699594962\n",
            "mean_sqrd_error is= 0.13769665204404719\n",
            "root_mean_squared error of is== 0.37107499517489345\n"
          ]
        }
      ]
    },
    {
      "cell_type": "markdown",
      "metadata": {
        "id": "6ghJRPs8vxLx"
      },
      "source": [
        "# ***Feature Selection Using Random forest***"
      ]
    },
    {
      "cell_type": "code",
      "metadata": {
        "id": "M9kPMHKgv4-g"
      },
      "source": [
        "X=Dataset2Classification.drop(['ID','default payment next month'],axis=1)\n",
        "y=Dataset2Classification['default payment next month']"
      ],
      "execution_count": null,
      "outputs": []
    },
    {
      "cell_type": "code",
      "metadata": {
        "id": "lHoT6hVCv4-h"
      },
      "source": [
        "X_train, X_test, y_train, y_test = train_test_split(X, y, test_size=0.2, random_state=0)"
      ],
      "execution_count": null,
      "outputs": []
    },
    {
      "cell_type": "code",
      "metadata": {
        "id": "v_qauI0yv4-h"
      },
      "source": [
        "sc = StandardScaler()\n",
        "X_train = sc.fit_transform(X_train)\n",
        "X_test = sc.transform(X_test)"
      ],
      "execution_count": null,
      "outputs": []
    },
    {
      "cell_type": "code",
      "metadata": {
        "colab": {
          "base_uri": "https://localhost:8080/"
        },
        "id": "__znDQmswC7w",
        "outputId": "bf7343ba-8577-4db3-91df-b147da366ddc"
      },
      "source": [
        "X_train.shape, X_test.shape"
      ],
      "execution_count": null,
      "outputs": [
        {
          "output_type": "execute_result",
          "data": {
            "text/plain": [
              "((24000, 23), (6000, 23))"
            ]
          },
          "metadata": {},
          "execution_count": 371
        }
      ]
    },
    {
      "cell_type": "code",
      "metadata": {
        "colab": {
          "base_uri": "https://localhost:8080/"
        },
        "id": "rVoOJv5cwC7x",
        "outputId": "a91c082f-0dae-41a1-db1f-79a10b74db3a"
      },
      "source": [
        "sel_ = SelectFromModel(RandomForestClassifier(n_estimators = 100,max_features = 15))\n",
        "sel_.fit(sc.transform(X_train), y_train)"
      ],
      "execution_count": null,
      "outputs": [
        {
          "output_type": "execute_result",
          "data": {
            "text/plain": [
              "SelectFromModel(estimator=RandomForestClassifier(bootstrap=True, ccp_alpha=0.0,\n",
              "                                                 class_weight=None,\n",
              "                                                 criterion='gini',\n",
              "                                                 max_depth=None,\n",
              "                                                 max_features=15,\n",
              "                                                 max_leaf_nodes=None,\n",
              "                                                 max_samples=None,\n",
              "                                                 min_impurity_decrease=0.0,\n",
              "                                                 min_impurity_split=None,\n",
              "                                                 min_samples_leaf=1,\n",
              "                                                 min_samples_split=2,\n",
              "                                                 min_weight_fraction_leaf=0.0,\n",
              "                                                 n_estimators=100, n_jobs=None,\n",
              "                                                 oob_score=False,\n",
              "                                                 random_state=None, verbose=0,\n",
              "                                                 warm_start=False),\n",
              "                max_features=None, norm_order=1, prefit=False, threshold=None)"
            ]
          },
          "metadata": {},
          "execution_count": 372
        }
      ]
    },
    {
      "cell_type": "code",
      "metadata": {
        "colab": {
          "base_uri": "https://localhost:8080/"
        },
        "id": "5VcdcLIRwC7x",
        "outputId": "7fefd21c-1951-4172-a04c-716506e74889"
      },
      "source": [
        "sel_.get_support()"
      ],
      "execution_count": null,
      "outputs": [
        {
          "output_type": "execute_result",
          "data": {
            "text/plain": [
              "array([ True, False, False, False,  True,  True,  True, False, False,\n",
              "       False, False, False, False, False, False, False, False,  True,\n",
              "        True,  True,  True,  True,  True])"
            ]
          },
          "metadata": {},
          "execution_count": 373
        }
      ]
    },
    {
      "cell_type": "code",
      "metadata": {
        "colab": {
          "base_uri": "https://localhost:8080/"
        },
        "id": "TZEYX74mwC7x",
        "outputId": "7f89c117-21bf-41a1-dea2-74cfdc333979"
      },
      "source": [
        "X_train=pd.DataFrame(X_train)\n",
        "selected_feat = X_train.columns[sel_.get_support()]\n",
        "print('total features: {}'.format((X_train.shape[1])))\n",
        "print('selected features: {}'.format(len(selected_feat)))\n",
        "print('features with coefficients shrank to zero: {}'.format(\n",
        "      np.sum(sel_.get_support())))"
      ],
      "execution_count": null,
      "outputs": [
        {
          "output_type": "stream",
          "name": "stdout",
          "text": [
            "total features: 23\n",
            "selected features: 10\n",
            "features with coefficients shrank to zero: 10\n"
          ]
        }
      ]
    },
    {
      "cell_type": "code",
      "metadata": {
        "colab": {
          "base_uri": "https://localhost:8080/"
        },
        "id": "l2alVgizwC7x",
        "outputId": "611a3b35-3733-4682-e907-62cf55228f68"
      },
      "source": [
        "print(selected_feat)"
      ],
      "execution_count": null,
      "outputs": [
        {
          "output_type": "stream",
          "name": "stdout",
          "text": [
            "Int64Index([0, 4, 5, 6, 17, 18, 19, 20, 21, 22], dtype='int64')\n"
          ]
        }
      ]
    },
    {
      "cell_type": "code",
      "metadata": {
        "colab": {
          "base_uri": "https://localhost:8080/"
        },
        "id": "vjNwoHEWwC7y",
        "outputId": "b403087d-a356-4ccb-88ba-576f7fa2b4b0"
      },
      "source": [
        "X_train_selected = sel_.transform(X_train)\n",
        "X_test_selected = sel_.transform(X_test)\n",
        "\n",
        "\n",
        "X_train = X_train_selected \n",
        "X_test = X_test_selected\n",
        "\n",
        "X_train_selected.shape, X_test_selected.shape"
      ],
      "execution_count": null,
      "outputs": [
        {
          "output_type": "execute_result",
          "data": {
            "text/plain": [
              "((24000, 10), (6000, 10))"
            ]
          },
          "metadata": {},
          "execution_count": 376
        }
      ]
    },
    {
      "cell_type": "markdown",
      "metadata": {
        "id": "wwEidtc7xc3N"
      },
      "source": [
        "# For Classification"
      ]
    },
    {
      "cell_type": "markdown",
      "metadata": {
        "id": "YFySkhc0xc3O"
      },
      "source": [
        "# RandomForestClassifier"
      ]
    },
    {
      "cell_type": "code",
      "metadata": {
        "id": "V3SDBh6Qxc3O"
      },
      "source": [
        "classifier = RandomForestClassifier(max_depth=2, random_state=0)\n",
        "classifier.fit(X_train, y_train)\n",
        "y_pred = classifier.predict(X_test)"
      ],
      "execution_count": null,
      "outputs": []
    },
    {
      "cell_type": "code",
      "metadata": {
        "colab": {
          "base_uri": "https://localhost:8080/",
          "height": 588
        },
        "id": "2T-DfbJSxc3O",
        "outputId": "589d328f-f802-44d5-b2ac-6a46b072dcc3"
      },
      "source": [
        "cm = confusion_matrix(y_test, y_pred)\n",
        "print(cm)\n",
        "print(\"\\n\")\n",
        "print('Accuracy' + str(accuracy_score(y_test, y_pred)))\n",
        "print(\"\\n\")\n",
        "print(classification_report(y_pred, y_test))\n",
        "print(\"\\n\")\n",
        "sns.heatmap(cm/100, annot=True)"
      ],
      "execution_count": null,
      "outputs": [
        {
          "output_type": "stream",
          "name": "stdout",
          "text": [
            "[[4598  105]\n",
            " [ 991  306]]\n",
            "\n",
            "\n",
            "Accuracy0.8173333333333334\n",
            "\n",
            "\n",
            "              precision    recall  f1-score   support\n",
            "\n",
            "           0       0.98      0.82      0.89      5589\n",
            "           1       0.24      0.74      0.36       411\n",
            "\n",
            "    accuracy                           0.82      6000\n",
            "   macro avg       0.61      0.78      0.63      6000\n",
            "weighted avg       0.93      0.82      0.86      6000\n",
            "\n",
            "\n",
            "\n"
          ]
        },
        {
          "output_type": "execute_result",
          "data": {
            "text/plain": [
              "<matplotlib.axes._subplots.AxesSubplot at 0x7f6c62148b10>"
            ]
          },
          "metadata": {},
          "execution_count": 378
        },
        {
          "output_type": "display_data",
          "data": {
            "image/png": "[encoded data removed]",
            "text/plain": [
              "<Figure size 432x288 with 2 Axes>"
            ]
          },
          "metadata": {
            "needs_background": "light"
          }
        }
      ]
    },
    {
      "cell_type": "markdown",
      "metadata": {
        "id": "Agal22tKxc3O"
      },
      "source": [
        "# XGBClassifier"
      ]
    },
    {
      "cell_type": "code",
      "metadata": {
        "id": "Or9VZAcjxc3O"
      },
      "source": [
        "data_dmatrix = xgb.DMatrix(data=X,label=y)"
      ],
      "execution_count": null,
      "outputs": []
    },
    {
      "cell_type": "code",
      "metadata": {
        "id": "YLzdEJTtxc3P"
      },
      "source": [
        "xg_Class = xgb.XGBClassifier(objective ='binary:logistic', colsample_bytree = 0.3, learning_rate = 0.1,\n",
        "                max_depth = 5, alpha = 10, n_estimators = 10)"
      ],
      "execution_count": null,
      "outputs": []
    },
    {
      "cell_type": "code",
      "metadata": {
        "id": "jTbWsgFfxc3P"
      },
      "source": [
        "xg_Class.fit(X_train,y_train)\n",
        "\n",
        "preds = xg_Class.predict(X_test)"
      ],
      "execution_count": null,
      "outputs": []
    },
    {
      "cell_type": "code",
      "metadata": {
        "colab": {
          "base_uri": "https://localhost:8080/",
          "height": 588
        },
        "id": "Rw9BC4Doxc3P",
        "outputId": "a07e3aff-d0a2-4850-8653-dce7fdf0e689"
      },
      "source": [
        "cm = confusion_matrix(y_test, preds)\n",
        "print(cm)\n",
        "print(\"\\n\")\n",
        "print('Accuracy' + str(accuracy_score(y_test, preds)))\n",
        "print(\"\\n\")\n",
        "print(classification_report(preds, y_test))\n",
        "print(\"\\n\")\n",
        "sns.heatmap(cm/100, annot=True)"
      ],
      "execution_count": null,
      "outputs": [
        {
          "output_type": "stream",
          "name": "stdout",
          "text": [
            "[[4653   50]\n",
            " [1137  160]]\n",
            "\n",
            "\n",
            "Accuracy0.8021666666666667\n",
            "\n",
            "\n",
            "              precision    recall  f1-score   support\n",
            "\n",
            "           0       0.99      0.80      0.89      5790\n",
            "           1       0.12      0.76      0.21       210\n",
            "\n",
            "    accuracy                           0.80      6000\n",
            "   macro avg       0.56      0.78      0.55      6000\n",
            "weighted avg       0.96      0.80      0.86      6000\n",
            "\n",
            "\n",
            "\n"
          ]
        },
        {
          "output_type": "execute_result",
          "data": {
            "text/plain": [
              "<matplotlib.axes._subplots.AxesSubplot at 0x7f6c62211dd0>"
            ]
          },
          "metadata": {},
          "execution_count": 382
        },
        {
          "output_type": "display_data",
          "data": {
            "image/png": "[encoded data removed]",
            "text/plain": [
              "<Figure size 432x288 with 2 Axes>"
            ]
          },
          "metadata": {
            "needs_background": "light"
          }
        }
      ]
    },
    {
      "cell_type": "markdown",
      "metadata": {
        "id": "gPDnAmj7xc3P"
      },
      "source": [
        "# SVC"
      ]
    },
    {
      "cell_type": "code",
      "metadata": {
        "id": "gS8OHHvixc3P"
      },
      "source": [
        "clf = svm.SVC(kernel='linear') # Linear Kernel\n",
        "\n",
        "#Train the model using the training sets\n",
        "clf.fit(X_train, y_train)\n",
        "\n",
        "#Predict the response for test dataset\n",
        "y_pred = clf.predict(X_test)"
      ],
      "execution_count": null,
      "outputs": []
    },
    {
      "cell_type": "code",
      "metadata": {
        "colab": {
          "base_uri": "https://localhost:8080/",
          "height": 588
        },
        "id": "h4qBhbd9xc3P",
        "outputId": "9d0d7221-eecc-4893-d3cb-c69717687761"
      },
      "source": [
        "cm = confusion_matrix(y_test, y_pred)\n",
        "print(cm)\n",
        "print(\"\\n\")\n",
        "print('Accuracy' + str(accuracy_score(y_test, y_pred)))\n",
        "print(\"\\n\")\n",
        "print(classification_report(y_pred, y_test))\n",
        "print(\"\\n\")\n",
        "sns.heatmap(cm/100, annot=True)"
      ],
      "execution_count": null,
      "outputs": [
        {
          "output_type": "stream",
          "name": "stdout",
          "text": [
            "[[4594  109]\n",
            " [ 986  311]]\n",
            "\n",
            "\n",
            "Accuracy0.8175\n",
            "\n",
            "\n",
            "              precision    recall  f1-score   support\n",
            "\n",
            "           0       0.98      0.82      0.89      5580\n",
            "           1       0.24      0.74      0.36       420\n",
            "\n",
            "    accuracy                           0.82      6000\n",
            "   macro avg       0.61      0.78      0.63      6000\n",
            "weighted avg       0.93      0.82      0.86      6000\n",
            "\n",
            "\n",
            "\n"
          ]
        },
        {
          "output_type": "execute_result",
          "data": {
            "text/plain": [
              "<matplotlib.axes._subplots.AxesSubplot at 0x7f6c61ff7150>"
            ]
          },
          "metadata": {},
          "execution_count": 384
        },
        {
          "output_type": "display_data",
          "data": {
            "image/png": "[encoded data removed]",
            "text/plain": [
              "<Figure size 432x288 with 2 Axes>"
            ]
          },
          "metadata": {
            "needs_background": "light"
          }
        }
      ]
    },
    {
      "cell_type": "markdown",
      "metadata": {
        "id": "eDDL20fbxc3P"
      },
      "source": [
        "# LogisticRegression"
      ]
    },
    {
      "cell_type": "code",
      "metadata": {
        "id": "Wk2NTMR4xc3Q"
      },
      "source": [
        "clf = LogisticRegression(C=0.001, penalty='l2');\n",
        "clf.fit(X_train, y_train);\n",
        "y_pred = clf.predict(X_test)"
      ],
      "execution_count": null,
      "outputs": []
    },
    {
      "cell_type": "code",
      "metadata": {
        "colab": {
          "base_uri": "https://localhost:8080/",
          "height": 588
        },
        "id": "foaxb71hxc3Q",
        "outputId": "cd4d0599-a7d5-4819-eeda-b58cb473bc4d"
      },
      "source": [
        "cm = confusion_matrix(y_test, y_pred)\n",
        "print(cm)\n",
        "print(\"\\n\")\n",
        "print('Accuracy' + str(accuracy_score(y_test, y_pred)))\n",
        "print(\"\\n\")\n",
        "print(classification_report(y_pred, y_test))\n",
        "print(\"\\n\")\n",
        "sns.heatmap(cm/100, annot=True)"
      ],
      "execution_count": null,
      "outputs": [
        {
          "output_type": "stream",
          "name": "stdout",
          "text": [
            "[[4642   61]\n",
            " [1101  196]]\n",
            "\n",
            "\n",
            "Accuracy0.8063333333333333\n",
            "\n",
            "\n",
            "              precision    recall  f1-score   support\n",
            "\n",
            "           0       0.99      0.81      0.89      5743\n",
            "           1       0.15      0.76      0.25       257\n",
            "\n",
            "    accuracy                           0.81      6000\n",
            "   macro avg       0.57      0.79      0.57      6000\n",
            "weighted avg       0.95      0.81      0.86      6000\n",
            "\n",
            "\n",
            "\n"
          ]
        },
        {
          "output_type": "execute_result",
          "data": {
            "text/plain": [
              "<matplotlib.axes._subplots.AxesSubplot at 0x7f6c61f97590>"
            ]
          },
          "metadata": {},
          "execution_count": 386
        },
        {
          "output_type": "display_data",
          "data": {
            "image/png": "[encoded data removed]",
            "text/plain": [
              "<Figure size 432x288 with 2 Axes>"
            ]
          },
          "metadata": {
            "needs_background": "light"
          }
        }
      ]
    },
    {
      "cell_type": "markdown",
      "metadata": {
        "id": "70pef0fYxc3T"
      },
      "source": [
        "# For Regression"
      ]
    },
    {
      "cell_type": "markdown",
      "metadata": {
        "id": "INsxa_0vxc3U"
      },
      "source": [
        "# Multiple Linear Regression"
      ]
    },
    {
      "cell_type": "code",
      "metadata": {
        "id": "-BTEg3Zwxc3U"
      },
      "source": [
        "# importing module\n",
        "from sklearn.linear_model import LinearRegression\n",
        "# creating an object of LinearRegression class\n",
        "LR = LinearRegression()\n",
        "# fitting the training data\n",
        "LR.fit(X_train,y_train)\n",
        "\n",
        "y_prediction =  LR.predict(X_test)"
      ],
      "execution_count": null,
      "outputs": []
    },
    {
      "cell_type": "code",
      "metadata": {
        "colab": {
          "base_uri": "https://localhost:8080/"
        },
        "id": "2Uyisvzwxc3U",
        "outputId": "c31ff757-01d6-4b9d-d7ae-c201a6a361e9"
      },
      "source": [
        "# predicting the accuracy score\n",
        "score=r2_score(y_test,y_prediction)\n",
        "print('r2 socre is ',score)\n",
        "print('mean_sqrd_error is=',mean_squared_error(y_test,y_prediction))\n",
        "print('root_mean_squared error of is==',np.sqrt(mean_squared_error(y_test,y_prediction)))"
      ],
      "execution_count": null,
      "outputs": [
        {
          "output_type": "stream",
          "name": "stdout",
          "text": [
            "r2 socre is  0.12535120733302896\n",
            "mean_sqrd_error is= 0.14819930093530154\n",
            "root_mean_squared error of is== 0.3849666231445286\n"
          ]
        }
      ]
    },
    {
      "cell_type": "markdown",
      "metadata": {
        "id": "bZ492kRsxc3U"
      },
      "source": [
        "# VotingRegressor"
      ]
    },
    {
      "cell_type": "code",
      "metadata": {
        "id": "YqVsKq8Mxc3U"
      },
      "source": [
        "r1 = LinearRegression()\n",
        "r2 = RandomForestRegressor(n_estimators=10, random_state=1)\n",
        "er = VotingRegressor([('lr', r1), ('rf', r2)])\n",
        "y_prediction = er.fit(X_train, y_train).predict(X_test)"
      ],
      "execution_count": null,
      "outputs": []
    },
    {
      "cell_type": "code",
      "metadata": {
        "colab": {
          "base_uri": "https://localhost:8080/"
        },
        "id": "IZU3aJzqxc3U",
        "outputId": "8ebbcfd0-1ffe-4821-e883-58f6f6b9b07b"
      },
      "source": [
        "score=r2_score(y_test,y_prediction)\n",
        "print('r2 socre is ',score)\n",
        "print('mean_sqrd_error is=',mean_squared_error(y_test,y_prediction))\n",
        "print('root_mean_squared error of is==',np.sqrt(mean_squared_error(y_test,y_prediction)))"
      ],
      "execution_count": null,
      "outputs": [
        {
          "output_type": "stream",
          "name": "stdout",
          "text": [
            "r2 socre is  0.1690631797084312\n",
            "mean_sqrd_error is= 0.14079280383286466\n",
            "root_mean_squared error of is== 0.37522367173842414\n"
          ]
        }
      ]
    },
    {
      "cell_type": "markdown",
      "metadata": {
        "id": "3xWUKfMw0gni"
      },
      "source": [
        "# ***Feature Selection With XGBoost***"
      ]
    },
    {
      "cell_type": "code",
      "metadata": {
        "id": "rh9LhLYr0qC1"
      },
      "source": [
        "X=Dataset2Classification.drop(['ID','default payment next month'],axis=1)\n",
        "y=Dataset2Classification['default payment next month']"
      ],
      "execution_count": null,
      "outputs": []
    },
    {
      "cell_type": "code",
      "metadata": {
        "id": "9oCjvnOR0qC2"
      },
      "source": [
        "X_train, X_test, y_train, y_test = train_test_split(X, y, test_size=0.2, random_state=0)"
      ],
      "execution_count": null,
      "outputs": []
    },
    {
      "cell_type": "code",
      "metadata": {
        "id": "Oip4Np-a0qC2"
      },
      "source": [
        "sc = StandardScaler()\n",
        "X_train = sc.fit_transform(X_train)\n",
        "X_test = sc.transform(X_test)"
      ],
      "execution_count": null,
      "outputs": []
    },
    {
      "cell_type": "code",
      "metadata": {
        "colab": {
          "base_uri": "https://localhost:8080/",
          "height": 265
        },
        "id": "CiCgt0890fRa",
        "outputId": "d29782e7-2868-4cc5-9df2-0b9778e4c6d0"
      },
      "source": [
        "model = XGBClassifier()\n",
        "model.fit(X_train, y_train)\n",
        "\n",
        "# plot\n",
        "plt.bar(range(len(model.feature_importances_)), model.feature_importances_)\n",
        "plt.show()"
      ],
      "execution_count": null,
      "outputs": [
        {
          "output_type": "display_data",
          "data": {
            "image/png": "[encoded data removed]",
            "text/plain": [
              "<Figure size 432x288 with 1 Axes>"
            ]
          },
          "metadata": {
            "needs_background": "light"
          }
        }
      ]
    },
    {
      "cell_type": "code",
      "metadata": {
        "colab": {
          "base_uri": "https://localhost:8080/"
        },
        "id": "Cv1M6hgj2Bou",
        "outputId": "6ce8010b-a916-4eba-ae77-d2b4ed33c8b4"
      },
      "source": [
        "thresholds = sorted(model.feature_importances_)\n",
        "for thresh in thresholds:\n",
        "\t# select features using threshold\n",
        " selection = SelectFromModel(model, threshold=thresh, prefit=True)\n",
        " select_X_train = selection.transform(X_train)\n",
        " # train model\n",
        " selection_model = XGBClassifier()\n",
        " selection_model.fit(select_X_train, y_train)\n",
        " # eval model\n",
        " select_X_test = selection.transform(X_test)\n",
        " predictions = selection_model.predict(select_X_test)\n",
        " accuracy = accuracy_score(y_test, predictions)\n",
        " print(\"Thresh=%.3f, n=%d, Accuracy: %.2f%%\" % (thresh, select_X_train.shape[1], accuracy*100.0))\n",
        " if select_X_train.shape[1] == 14:\n",
        "\t break"
      ],
      "execution_count": null,
      "outputs": [
        {
          "output_type": "stream",
          "name": "stdout",
          "text": [
            "Thresh=0.007, n=23, Accuracy: 82.98%\n",
            "Thresh=0.010, n=22, Accuracy: 82.95%\n",
            "Thresh=0.010, n=21, Accuracy: 83.07%\n",
            "Thresh=0.010, n=20, Accuracy: 82.95%\n",
            "Thresh=0.011, n=19, Accuracy: 82.88%\n",
            "Thresh=0.011, n=18, Accuracy: 82.88%\n",
            "Thresh=0.013, n=17, Accuracy: 83.00%\n",
            "Thresh=0.013, n=16, Accuracy: 83.02%\n",
            "Thresh=0.015, n=15, Accuracy: 82.98%\n",
            "Thresh=0.017, n=14, Accuracy: 82.92%\n"
          ]
        }
      ]
    },
    {
      "cell_type": "markdown",
      "metadata": {
        "id": "lKj5CggK5CHS"
      },
      "source": [
        "# For Classification"
      ]
    },
    {
      "cell_type": "markdown",
      "metadata": {
        "id": "P-LoK27m5CHS"
      },
      "source": [
        "# RandomForestClassifier"
      ]
    },
    {
      "cell_type": "code",
      "metadata": {
        "id": "TBYBmQNw2giI"
      },
      "source": [
        "X_train = select_X_train\n",
        "X_test = select_X_test"
      ],
      "execution_count": null,
      "outputs": []
    },
    {
      "cell_type": "code",
      "metadata": {
        "id": "L49tZ8mu4nCU"
      },
      "source": [
        "classifier = RandomForestClassifier(max_depth=2, random_state=0)\n",
        "classifier.fit(X_train, y_train)\n",
        "y_pred = classifier.predict(X_test)"
      ],
      "execution_count": null,
      "outputs": []
    },
    {
      "cell_type": "code",
      "metadata": {
        "colab": {
          "base_uri": "https://localhost:8080/",
          "height": 588
        },
        "id": "4GzVDkwW4nCU",
        "outputId": "6a45a9e1-397c-47c7-f03c-d2a41403f164"
      },
      "source": [
        "cm = confusion_matrix(y_test, y_pred)\n",
        "print(cm)\n",
        "print(\"\\n\")\n",
        "print('Accuracy' + str(accuracy_score(y_test, y_pred)))\n",
        "print(\"\\n\")\n",
        "print(classification_report(y_pred, y_test))\n",
        "print(\"\\n\")\n",
        "sns.heatmap(cm/100, annot=True)"
      ],
      "execution_count": null,
      "outputs": [
        {
          "output_type": "stream",
          "name": "stdout",
          "text": [
            "[[4600  103]\n",
            " [1015  282]]\n",
            "\n",
            "\n",
            "Accuracy0.8136666666666666\n",
            "\n",
            "\n",
            "              precision    recall  f1-score   support\n",
            "\n",
            "           0       0.98      0.82      0.89      5615\n",
            "           1       0.22      0.73      0.34       385\n",
            "\n",
            "    accuracy                           0.81      6000\n",
            "   macro avg       0.60      0.78      0.61      6000\n",
            "weighted avg       0.93      0.81      0.86      6000\n",
            "\n",
            "\n",
            "\n"
          ]
        },
        {
          "output_type": "execute_result",
          "data": {
            "text/plain": [
              "<matplotlib.axes._subplots.AxesSubplot at 0x7f6c5cdc9f10>"
            ]
          },
          "metadata": {},
          "execution_count": 459
        },
        {
          "output_type": "display_data",
          "data": {
            "image/png": "[encoded data removed]",
            "text/plain": [
              "<Figure size 432x288 with 2 Axes>"
            ]
          },
          "metadata": {
            "needs_background": "light"
          }
        }
      ]
    },
    {
      "cell_type": "markdown",
      "metadata": {
        "id": "I53y6iD25RmC"
      },
      "source": [
        "# XGBClassifier"
      ]
    },
    {
      "cell_type": "code",
      "metadata": {
        "id": "R6Dl6JQB5RmD"
      },
      "source": [
        "data_dmatrix = xgb.DMatrix(data=X,label=y)"
      ],
      "execution_count": null,
      "outputs": []
    },
    {
      "cell_type": "code",
      "metadata": {
        "id": "cjz8DxAr5RmD"
      },
      "source": [
        "xg_Class = xgb.XGBClassifier(objective ='binary:logistic', colsample_bytree = 0.3, learning_rate = 0.1,\n",
        "                max_depth = 5, alpha = 10, n_estimators = 10)"
      ],
      "execution_count": null,
      "outputs": []
    },
    {
      "cell_type": "code",
      "metadata": {
        "id": "X8PILxNu5RmE"
      },
      "source": [
        "xg_Class.fit(X_train,y_train)\n",
        "\n",
        "preds = xg_Class.predict(X_test)"
      ],
      "execution_count": null,
      "outputs": []
    },
    {
      "cell_type": "code",
      "metadata": {
        "colab": {
          "base_uri": "https://localhost:8080/",
          "height": 590
        },
        "id": "Mjg36FdE5RmE",
        "outputId": "94f765ad-961c-4d3b-9fdc-82d0d54e35ae"
      },
      "source": [
        "cm = confusion_matrix(y_test, preds)\n",
        "print(cm)\n",
        "print(\"\\n\")\n",
        "print('Accuracy' + str(accuracy_score(y_test, preds)))\n",
        "print(\"\\n\")\n",
        "print(classification_report(preds, y_test))\n",
        "print(\"\\n\")\n",
        "sns.heatmap(cm/100, annot=True)"
      ],
      "execution_count": null,
      "outputs": [
        {
          "output_type": "stream",
          "name": "stdout",
          "text": [
            "[[4542  161]\n",
            " [ 916  381]]\n",
            "\n",
            "\n",
            "Accuracy0.8205\n",
            "\n",
            "\n",
            "              precision    recall  f1-score   support\n",
            "\n",
            "           0       0.97      0.83      0.89      5458\n",
            "           1       0.29      0.70      0.41       542\n",
            "\n",
            "    accuracy                           0.82      6000\n",
            "   macro avg       0.63      0.77      0.65      6000\n",
            "weighted avg       0.91      0.82      0.85      6000\n",
            "\n",
            "\n",
            "\n"
          ]
        },
        {
          "output_type": "execute_result",
          "data": {
            "text/plain": [
              "<matplotlib.axes._subplots.AxesSubplot at 0x7f6c5cc8b910>"
            ]
          },
          "metadata": {},
          "execution_count": 463
        },
        {
          "output_type": "display_data",
          "data": {
            "image/png": "[encoded data removed]",
            "text/plain": [
              "<Figure size 432x288 with 2 Axes>"
            ]
          },
          "metadata": {
            "needs_background": "light"
          }
        }
      ]
    },
    {
      "cell_type": "markdown",
      "metadata": {
        "id": "iUmyeohS5RmF"
      },
      "source": [
        "# SVC"
      ]
    },
    {
      "cell_type": "code",
      "metadata": {
        "id": "L5NQZnUd5RmF"
      },
      "source": [
        "clf = svm.SVC(kernel='linear') # Linear Kernel\n",
        "\n",
        "#Train the model using the training sets\n",
        "clf.fit(X_train, y_train)\n",
        "\n",
        "#Predict the response for test dataset\n",
        "y_pred = clf.predict(X_test)"
      ],
      "execution_count": null,
      "outputs": []
    },
    {
      "cell_type": "code",
      "metadata": {
        "colab": {
          "base_uri": "https://localhost:8080/",
          "height": 588
        },
        "id": "j02zvaP-5RmF",
        "outputId": "0035ea42-5759-4b8f-b15a-ba229200bdfc"
      },
      "source": [
        "cm = confusion_matrix(y_test, y_pred)\n",
        "print(cm)\n",
        "print(\"\\n\")\n",
        "print('Accuracy' + str(accuracy_score(y_test, y_pred)))\n",
        "print(\"\\n\")\n",
        "print(classification_report(y_pred, y_test))\n",
        "print(\"\\n\")\n",
        "sns.heatmap(cm/100, annot=True)"
      ],
      "execution_count": null,
      "outputs": [
        {
          "output_type": "stream",
          "name": "stdout",
          "text": [
            "[[4594  109]\n",
            " [ 986  311]]\n",
            "\n",
            "\n",
            "Accuracy0.8175\n",
            "\n",
            "\n",
            "              precision    recall  f1-score   support\n",
            "\n",
            "           0       0.98      0.82      0.89      5580\n",
            "           1       0.24      0.74      0.36       420\n",
            "\n",
            "    accuracy                           0.82      6000\n",
            "   macro avg       0.61      0.78      0.63      6000\n",
            "weighted avg       0.93      0.82      0.86      6000\n",
            "\n",
            "\n",
            "\n"
          ]
        },
        {
          "output_type": "execute_result",
          "data": {
            "text/plain": [
              "<matplotlib.axes._subplots.AxesSubplot at 0x7f6c5cbd8d90>"
            ]
          },
          "metadata": {},
          "execution_count": 465
        },
        {
          "output_type": "display_data",
          "data": {
            "image/png": "[encoded data removed]",
            "text/plain": [
              "<Figure size 432x288 with 2 Axes>"
            ]
          },
          "metadata": {
            "needs_background": "light"
          }
        }
      ]
    },
    {
      "cell_type": "markdown",
      "metadata": {
        "id": "DsXbAKbh5RmG"
      },
      "source": [
        "# LogisticRegression"
      ]
    },
    {
      "cell_type": "code",
      "metadata": {
        "id": "AtAP62En5RmG"
      },
      "source": [
        "clf = LogisticRegression(C=0.001, penalty='l2');\n",
        "clf.fit(X_train, y_train);\n",
        "y_pred = clf.predict(X_test)"
      ],
      "execution_count": null,
      "outputs": []
    },
    {
      "cell_type": "code",
      "metadata": {
        "colab": {
          "base_uri": "https://localhost:8080/",
          "height": 588
        },
        "id": "NfWSl2x85RmG",
        "outputId": "a795d641-2b2e-4e05-df91-4f3cfb689490"
      },
      "source": [
        "cm = confusion_matrix(y_test, y_pred)\n",
        "print(cm)\n",
        "print(\"\\n\")\n",
        "print('Accuracy' + str(accuracy_score(y_test, y_pred)))\n",
        "print(\"\\n\")\n",
        "print(classification_report(y_pred, y_test))\n",
        "print(\"\\n\")\n",
        "sns.heatmap(cm/100, annot=True)"
      ],
      "execution_count": null,
      "outputs": [
        {
          "output_type": "stream",
          "name": "stdout",
          "text": [
            "[[4631   72]\n",
            " [1064  233]]\n",
            "\n",
            "\n",
            "Accuracy0.8106666666666666\n",
            "\n",
            "\n",
            "              precision    recall  f1-score   support\n",
            "\n",
            "           0       0.98      0.81      0.89      5695\n",
            "           1       0.18      0.76      0.29       305\n",
            "\n",
            "    accuracy                           0.81      6000\n",
            "   macro avg       0.58      0.79      0.59      6000\n",
            "weighted avg       0.94      0.81      0.86      6000\n",
            "\n",
            "\n",
            "\n"
          ]
        },
        {
          "output_type": "execute_result",
          "data": {
            "text/plain": [
              "<matplotlib.axes._subplots.AxesSubplot at 0x7f6c5cb68490>"
            ]
          },
          "metadata": {},
          "execution_count": 467
        },
        {
          "output_type": "display_data",
          "data": {
            "image/png": "[encoded data removed]",
            "text/plain": [
              "<Figure size 432x288 with 2 Axes>"
            ]
          },
          "metadata": {
            "needs_background": "light"
          }
        }
      ]
    },
    {
      "cell_type": "markdown",
      "metadata": {
        "id": "mZQvGkV45RmH"
      },
      "source": [
        "# For Regression"
      ]
    },
    {
      "cell_type": "markdown",
      "metadata": {
        "id": "TS-9vepD5RmH"
      },
      "source": [
        "# Multiple Linear Regression"
      ]
    },
    {
      "cell_type": "code",
      "metadata": {
        "id": "lU7Tc2rc5RmH"
      },
      "source": [
        "# importing module\n",
        "from sklearn.linear_model import LinearRegression\n",
        "# creating an object of LinearRegression class\n",
        "LR = LinearRegression()\n",
        "# fitting the training data\n",
        "LR.fit(X_train,y_train)\n",
        "\n",
        "y_prediction =  LR.predict(X_test)"
      ],
      "execution_count": null,
      "outputs": []
    },
    {
      "cell_type": "code",
      "metadata": {
        "colab": {
          "base_uri": "https://localhost:8080/"
        },
        "id": "JyH700fb5RmI",
        "outputId": "d6b36ef4-7929-4ffe-ddda-6f2eefbca963"
      },
      "source": [
        "# predicting the accuracy score\n",
        "score=r2_score(y_test,y_prediction)\n",
        "print('r2 socre is ',score)\n",
        "print('mean_sqrd_error is=',mean_squared_error(y_test,y_prediction))\n",
        "print('root_mean_squared error of is==',np.sqrt(mean_squared_error(y_test,y_prediction)))"
      ],
      "execution_count": null,
      "outputs": [
        {
          "output_type": "stream",
          "name": "stdout",
          "text": [
            "r2 socre is  0.1283024255616284\n",
            "mean_sqrd_error is= 0.14769925053558355\n",
            "root_mean_squared error of is== 0.38431660195154665\n"
          ]
        }
      ]
    },
    {
      "cell_type": "markdown",
      "metadata": {
        "id": "A_fxMwk75RmI"
      },
      "source": [
        "# VotingRegressor"
      ]
    },
    {
      "cell_type": "code",
      "metadata": {
        "id": "LwxxlBZ95RmI"
      },
      "source": [
        "r1 = LinearRegression()\n",
        "r2 = RandomForestRegressor(n_estimators=10, random_state=1)\n",
        "er = VotingRegressor([('lr', r1), ('rf', r2)])\n",
        "y_prediction = er.fit(X_train, y_train).predict(X_test)"
      ],
      "execution_count": null,
      "outputs": []
    },
    {
      "cell_type": "code",
      "metadata": {
        "colab": {
          "base_uri": "https://localhost:8080/"
        },
        "id": "zAe5ONwM5RmI",
        "outputId": "d64af951-a835-4b40-9968-cc0fa69592fc"
      },
      "source": [
        "score=r2_score(y_test,y_prediction)\n",
        "print('r2 socre is ',score)\n",
        "print('mean_sqrd_error is=',mean_squared_error(y_test,y_prediction))\n",
        "print('root_mean_squared error of is==',np.sqrt(mean_squared_error(y_test,y_prediction)))"
      ],
      "execution_count": null,
      "outputs": [
        {
          "output_type": "stream",
          "name": "stdout",
          "text": [
            "r2 socre is  0.18704012515412693\n",
            "mean_sqrd_error is= 0.13774681466516617\n",
            "root_mean_squared error of is== 0.3711425799678153\n"
          ]
        }
      ]
    },
    {
      "cell_type": "markdown",
      "metadata": {
        "id": "d-FAAzVvJ3mX"
      },
      "source": [
        "# ***Recursive Feature Elimination***\n",
        "\n",
        "\n"
      ]
    },
    {
      "cell_type": "code",
      "metadata": {
        "id": "Lhlkpc5zJ3mi"
      },
      "source": [
        "X=Dataset2Classification.drop(['ID','default payment next month'],axis=1)\n",
        "y=Dataset2Classification['default payment next month']"
      ],
      "execution_count": null,
      "outputs": []
    },
    {
      "cell_type": "code",
      "metadata": {
        "id": "SeoVD2KWJ3mi"
      },
      "source": [
        "X_train, X_test, y_train, y_test = train_test_split(X, y, test_size=0.2, random_state=0)"
      ],
      "execution_count": null,
      "outputs": []
    },
    {
      "cell_type": "code",
      "metadata": {
        "id": "v1kUbuMfJ3mi"
      },
      "source": [
        "sc = StandardScaler()\n",
        "X_train = sc.fit_transform(X_train)\n",
        "X_test = sc.transform(X_test)"
      ],
      "execution_count": null,
      "outputs": []
    },
    {
      "cell_type": "code",
      "metadata": {
        "id": "NtmhXf3jJ3mi",
        "colab": {
          "base_uri": "https://localhost:8080/"
        },
        "outputId": "6a2238a1-71e5-4674-c694-e1c662aea0c8"
      },
      "source": [
        "selector = RFE(estimator=DecisionTreeClassifier(), n_features_to_select=15)\n",
        "selector = selector.fit(X_train, y_train)\n",
        "selector.support_\n"
      ],
      "execution_count": null,
      "outputs": [
        {
          "output_type": "execute_result",
          "data": {
            "text/plain": [
              "array([ True, False, False, False,  True,  True, False, False, False,\n",
              "       False, False,  True,  True,  True,  True,  True,  True,  True,\n",
              "        True,  True,  True,  True,  True])"
            ]
          },
          "metadata": {},
          "execution_count": 515
        }
      ]
    },
    {
      "cell_type": "code",
      "metadata": {
        "colab": {
          "base_uri": "https://localhost:8080/"
        },
        "id": "cRmS7FVwPwh-",
        "outputId": "3e3953f6-4a37-4394-c4bb-c40cca31fd83"
      },
      "source": [
        "np.sum(selector.support_)"
      ],
      "execution_count": null,
      "outputs": [
        {
          "output_type": "execute_result",
          "data": {
            "text/plain": [
              "15"
            ]
          },
          "metadata": {},
          "execution_count": 516
        }
      ]
    },
    {
      "cell_type": "code",
      "metadata": {
        "colab": {
          "base_uri": "https://localhost:8080/"
        },
        "id": "P2zXK327Pwh_",
        "outputId": "717ec84d-82aa-4c13-f28e-66f2c1779e5d"
      },
      "source": [
        "X_train_selected = selector.transform(X_train)\n",
        "X_test_selected = selector.transform(X_test)\n",
        "\n",
        "\n",
        "X_train = X_train_selected \n",
        "X_test = X_test_selected\n",
        "\n",
        "X_train_selected.shape, X_test_selected.shape"
      ],
      "execution_count": null,
      "outputs": [
        {
          "output_type": "execute_result",
          "data": {
            "text/plain": [
              "((24000, 15), (6000, 15))"
            ]
          },
          "metadata": {},
          "execution_count": 517
        }
      ]
    },
    {
      "cell_type": "markdown",
      "metadata": {
        "id": "vFDrosrzQrI-"
      },
      "source": [
        "# For Classification"
      ]
    },
    {
      "cell_type": "markdown",
      "metadata": {
        "id": "zgFae_D5QrI_"
      },
      "source": [
        "# RandomForestClassifier"
      ]
    },
    {
      "cell_type": "code",
      "metadata": {
        "id": "-EVQs_q5QrI_"
      },
      "source": [
        "classifier = RandomForestClassifier(max_depth=2, random_state=0)\n",
        "classifier.fit(X_train, y_train)\n",
        "y_pred = classifier.predict(X_test)"
      ],
      "execution_count": null,
      "outputs": []
    },
    {
      "cell_type": "code",
      "metadata": {
        "colab": {
          "base_uri": "https://localhost:8080/",
          "height": 588
        },
        "id": "rdHQuaFAQrJA",
        "outputId": "aa8b2087-0d3c-40f5-c679-33b8c22e98d3"
      },
      "source": [
        "cm = confusion_matrix(y_test, y_pred)\n",
        "print(cm)\n",
        "print(\"\\n\")\n",
        "print('Accuracy' + str(accuracy_score(y_test, y_pred)))\n",
        "print(\"\\n\")\n",
        "print(classification_report(y_pred, y_test))\n",
        "print(\"\\n\")\n",
        "sns.heatmap(cm/100, annot=True)"
      ],
      "execution_count": null,
      "outputs": [
        {
          "output_type": "stream",
          "name": "stdout",
          "text": [
            "[[4695    8]\n",
            " [1260   37]]\n",
            "\n",
            "\n",
            "Accuracy0.7886666666666666\n",
            "\n",
            "\n",
            "              precision    recall  f1-score   support\n",
            "\n",
            "           0       1.00      0.79      0.88      5955\n",
            "           1       0.03      0.82      0.06        45\n",
            "\n",
            "    accuracy                           0.79      6000\n",
            "   macro avg       0.51      0.81      0.47      6000\n",
            "weighted avg       0.99      0.79      0.87      6000\n",
            "\n",
            "\n",
            "\n"
          ]
        },
        {
          "output_type": "execute_result",
          "data": {
            "text/plain": [
              "<matplotlib.axes._subplots.AxesSubplot at 0x7f6c5c5712d0>"
            ]
          },
          "metadata": {},
          "execution_count": 519
        },
        {
          "output_type": "display_data",
          "data": {
            "image/png": "[encoded data removed]",
            "text/plain": [
              "<Figure size 432x288 with 2 Axes>"
            ]
          },
          "metadata": {
            "needs_background": "light"
          }
        }
      ]
    },
    {
      "cell_type": "markdown",
      "metadata": {
        "id": "vqMFcWMvQrJA"
      },
      "source": [
        "# XGBClassifier"
      ]
    },
    {
      "cell_type": "code",
      "metadata": {
        "id": "2wtaamXlQrJA"
      },
      "source": [
        "data_dmatrix = xgb.DMatrix(data=X,label=y)"
      ],
      "execution_count": null,
      "outputs": []
    },
    {
      "cell_type": "code",
      "metadata": {
        "id": "70F4oAnTQrJB"
      },
      "source": [
        "xg_Class = xgb.XGBClassifier(objective ='binary:logistic', colsample_bytree = 0.3, learning_rate = 0.1,\n",
        "                max_depth = 5, alpha = 10, n_estimators = 10)"
      ],
      "execution_count": null,
      "outputs": []
    },
    {
      "cell_type": "code",
      "metadata": {
        "id": "dMrjHK--QrJB"
      },
      "source": [
        "xg_Class.fit(X_train,y_train)\n",
        "\n",
        "preds = xg_Class.predict(X_test)"
      ],
      "execution_count": null,
      "outputs": []
    },
    {
      "cell_type": "code",
      "metadata": {
        "colab": {
          "base_uri": "https://localhost:8080/",
          "height": 588
        },
        "id": "xa-qCNZFQrJB",
        "outputId": "8acf4c3b-cdf2-412f-b0ce-8635c213cb3c"
      },
      "source": [
        "cm = confusion_matrix(y_test, preds)\n",
        "print(cm)\n",
        "print(\"\\n\")\n",
        "print('Accuracy' + str(accuracy_score(y_test, preds)))\n",
        "print(\"\\n\")\n",
        "print(classification_report(preds, y_test))\n",
        "print(\"\\n\")\n",
        "sns.heatmap(cm/100, annot=True)"
      ],
      "execution_count": null,
      "outputs": [
        {
          "output_type": "stream",
          "name": "stdout",
          "text": [
            "[[4691   12]\n",
            " [1238   59]]\n",
            "\n",
            "\n",
            "Accuracy0.7916666666666666\n",
            "\n",
            "\n",
            "              precision    recall  f1-score   support\n",
            "\n",
            "           0       1.00      0.79      0.88      5929\n",
            "           1       0.05      0.83      0.09        71\n",
            "\n",
            "    accuracy                           0.79      6000\n",
            "   macro avg       0.52      0.81      0.48      6000\n",
            "weighted avg       0.99      0.79      0.87      6000\n",
            "\n",
            "\n",
            "\n"
          ]
        },
        {
          "output_type": "execute_result",
          "data": {
            "text/plain": [
              "<matplotlib.axes._subplots.AxesSubplot at 0x7f6c5c4cf290>"
            ]
          },
          "metadata": {},
          "execution_count": 523
        },
        {
          "output_type": "display_data",
          "data": {
            "image/png": "[encoded data removed]",
            "text/plain": [
              "<Figure size 432x288 with 2 Axes>"
            ]
          },
          "metadata": {
            "needs_background": "light"
          }
        }
      ]
    },
    {
      "cell_type": "markdown",
      "metadata": {
        "id": "kJujx1CoQrJC"
      },
      "source": [
        "# SVC"
      ]
    },
    {
      "cell_type": "code",
      "metadata": {
        "id": "VOepAt0WQrJC"
      },
      "source": [
        "clf = svm.SVC(kernel='linear') # Linear Kernel\n",
        "\n",
        "#Train the model using the training sets\n",
        "clf.fit(X_train, y_train)\n",
        "\n",
        "#Predict the response for test dataset\n",
        "y_pred = clf.predict(X_test)"
      ],
      "execution_count": null,
      "outputs": []
    },
    {
      "cell_type": "code",
      "metadata": {
        "colab": {
          "base_uri": "https://localhost:8080/",
          "height": 642
        },
        "id": "bPnMnOToQrJC",
        "outputId": "79e98049-8f9e-49ec-c9c5-f0f9b6719908"
      },
      "source": [
        "cm = confusion_matrix(y_test, y_pred)\n",
        "print(cm)\n",
        "print(\"\\n\")\n",
        "print('Accuracy' + str(accuracy_score(y_test, y_pred)))\n",
        "print(\"\\n\")\n",
        "print(classification_report(y_pred, y_test))\n",
        "print(\"\\n\")\n",
        "sns.heatmap(cm/100, annot=True)"
      ],
      "execution_count": null,
      "outputs": [
        {
          "output_type": "stream",
          "name": "stdout",
          "text": [
            "[[4703    0]\n",
            " [1297    0]]\n",
            "\n",
            "\n",
            "Accuracy0.7838333333333334\n",
            "\n",
            "\n",
            "              precision    recall  f1-score   support\n",
            "\n",
            "           0       1.00      0.78      0.88      6000\n",
            "           1       0.00      0.00      0.00         0\n",
            "\n",
            "    accuracy                           0.78      6000\n",
            "   macro avg       0.50      0.39      0.44      6000\n",
            "weighted avg       1.00      0.78      0.88      6000\n",
            "\n",
            "\n",
            "\n"
          ]
        },
        {
          "output_type": "stream",
          "name": "stderr",
          "text": [
            "/usr/local/lib/python3.7/dist-packages/sklearn/metrics/_classification.py:1272: UndefinedMetricWarning: Recall and F-score are ill-defined and being set to 0.0 in labels with no true samples. Use `zero_division` parameter to control this behavior.\n",
            "  _warn_prf(average, modifier, msg_start, len(result))\n"
          ]
        },
        {
          "output_type": "execute_result",
          "data": {
            "text/plain": [
              "<matplotlib.axes._subplots.AxesSubplot at 0x7f6c5c467310>"
            ]
          },
          "metadata": {},
          "execution_count": 525
        },
        {
          "output_type": "display_data",
          "data": {
            "image/png": "[encoded data removed]",
            "text/plain": [
              "<Figure size 432x288 with 2 Axes>"
            ]
          },
          "metadata": {
            "needs_background": "light"
          }
        }
      ]
    },
    {
      "cell_type": "markdown",
      "metadata": {
        "id": "MnI82l36QrJD"
      },
      "source": [
        "# LogisticRegression"
      ]
    },
    {
      "cell_type": "code",
      "metadata": {
        "id": "8c8NAgDKQrJD"
      },
      "source": [
        "clf = LogisticRegression(C=0.001, penalty='l2');\n",
        "clf.fit(X_train, y_train);\n",
        "y_pred = clf.predict(X_test)"
      ],
      "execution_count": null,
      "outputs": []
    },
    {
      "cell_type": "code",
      "metadata": {
        "colab": {
          "base_uri": "https://localhost:8080/",
          "height": 588
        },
        "id": "sb0jzTXCQrJD",
        "outputId": "edb18721-c339-4417-b151-f2770f86e528"
      },
      "source": [
        "cm = confusion_matrix(y_test, y_pred)\n",
        "print(cm)\n",
        "print(\"\\n\")\n",
        "print('Accuracy' + str(accuracy_score(y_test, y_pred)))\n",
        "print(\"\\n\")\n",
        "print(classification_report(y_pred, y_test))\n",
        "print(\"\\n\")\n",
        "sns.heatmap(cm/100, annot=True)"
      ],
      "execution_count": null,
      "outputs": [
        {
          "output_type": "stream",
          "name": "stdout",
          "text": [
            "[[4675   28]\n",
            " [1181  116]]\n",
            "\n",
            "\n",
            "Accuracy0.7985\n",
            "\n",
            "\n",
            "              precision    recall  f1-score   support\n",
            "\n",
            "           0       0.99      0.80      0.89      5856\n",
            "           1       0.09      0.81      0.16       144\n",
            "\n",
            "    accuracy                           0.80      6000\n",
            "   macro avg       0.54      0.80      0.52      6000\n",
            "weighted avg       0.97      0.80      0.87      6000\n",
            "\n",
            "\n",
            "\n"
          ]
        },
        {
          "output_type": "execute_result",
          "data": {
            "text/plain": [
              "<matplotlib.axes._subplots.AxesSubplot at 0x7f6c5c3ea690>"
            ]
          },
          "metadata": {},
          "execution_count": 527
        },
        {
          "output_type": "display_data",
          "data": {
            "image/png": "[encoded data removed]",
            "text/plain": [
              "<Figure size 432x288 with 2 Axes>"
            ]
          },
          "metadata": {
            "needs_background": "light"
          }
        }
      ]
    },
    {
      "cell_type": "markdown",
      "metadata": {
        "id": "B7YtEbezQrJD"
      },
      "source": [
        "# For Regression"
      ]
    },
    {
      "cell_type": "markdown",
      "metadata": {
        "id": "gZD4X1VgQrJE"
      },
      "source": [
        "# Multiple Linear Regression"
      ]
    },
    {
      "cell_type": "code",
      "metadata": {
        "id": "DBEfSst4QrJE"
      },
      "source": [
        "# importing module\n",
        "from sklearn.linear_model import LinearRegression\n",
        "# creating an object of LinearRegression class\n",
        "LR = LinearRegression()\n",
        "# fitting the training data\n",
        "LR.fit(X_train,y_train)\n",
        "\n",
        "y_prediction =  LR.predict(X_test)"
      ],
      "execution_count": null,
      "outputs": []
    },
    {
      "cell_type": "code",
      "metadata": {
        "colab": {
          "base_uri": "https://localhost:8080/"
        },
        "id": "g9N-h7KOQrJE",
        "outputId": "d501b1c4-8470-4ee6-d980-3a0b6f0c7495"
      },
      "source": [
        "# predicting the accuracy score\n",
        "score=r2_score(y_test,y_prediction)\n",
        "print('r2 socre is ',score)\n",
        "print('mean_sqrd_error is=',mean_squared_error(y_test,y_prediction))\n",
        "print('root_mean_squared error of is==',np.sqrt(mean_squared_error(y_test,y_prediction)))"
      ],
      "execution_count": null,
      "outputs": [
        {
          "output_type": "stream",
          "name": "stdout",
          "text": [
            "r2 socre is  0.1250073052237043\n",
            "mean_sqrd_error is= 0.1482575712406165\n",
            "root_mean_squared error of is== 0.38504229798895667\n"
          ]
        }
      ]
    },
    {
      "cell_type": "markdown",
      "metadata": {
        "id": "jTRPRA98QrJF"
      },
      "source": [
        "# VotingRegressor"
      ]
    },
    {
      "cell_type": "code",
      "metadata": {
        "id": "NWKO6msRQrJF"
      },
      "source": [
        "r1 = LinearRegression()\n",
        "r2 = RandomForestRegressor(n_estimators=10, random_state=1)\n",
        "er = VotingRegressor([('lr', r1), ('rf', r2)])\n",
        "y_prediction = er.fit(X_train, y_train).predict(X_test)"
      ],
      "execution_count": null,
      "outputs": []
    },
    {
      "cell_type": "code",
      "metadata": {
        "colab": {
          "base_uri": "https://localhost:8080/"
        },
        "id": "SLUmeVyGQrJF",
        "outputId": "69472dbe-1c76-4273-83dd-b080ed55d091"
      },
      "source": [
        "score=r2_score(y_test,y_prediction)\n",
        "print('r2 socre is ',score)\n",
        "print('mean_sqrd_error is=',mean_squared_error(y_test,y_prediction))\n",
        "print('root_mean_squared error of is==',np.sqrt(mean_squared_error(y_test,y_prediction)))"
      ],
      "execution_count": null,
      "outputs": [
        {
          "output_type": "stream",
          "name": "stdout",
          "text": [
            "r2 socre is  0.18278073066683143\n",
            "mean_sqrd_error is= 0.13846852066958434\n",
            "root_mean_squared error of is== 0.3721135857095039\n"
          ]
        }
      ]
    }
  ]
}