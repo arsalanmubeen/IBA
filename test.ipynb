{
  "nbformat": 4,
  "nbformat_minor": 0,
  "metadata": {
    "colab": {
      "provenance": [],
      "collapsed_sections": [],
      "authorship_tag": "ABX9TyPBNs6Q4ZAR5ZBEFchfV4A1",
      "include_colab_link": true
    },
    "kernelspec": {
      "name": "python3",
      "display_name": "Python 3"
    },
    "language_info": {
      "name": "python"
    }
  },
  "cells": [
    {
      "cell_type": "markdown",
      "metadata": {
        "id": "view-in-github",
        "colab_type": "text"
      },
      "source": [
        "<a href=\"https://colab.research.google.com/github/arsalanmubeen/IBA/blob/main/test.ipynb\" target=\"_parent\"><img src=\"https://colab.research.google.com/assets/colab-badge.svg\" alt=\"Open In Colab\"/></a>"
      ]
    },
    {
      "cell_type": "code",
      "execution_count": null,
      "metadata": {
        "colab": {
          "base_uri": "https://localhost:8080/"
        },
        "id": "-lrTVbGnzpXr",
        "outputId": "57561c5c-ce17-445b-805c-514af4c377aa"
      },
      "outputs": [
        {
          "output_type": "stream",
          "name": "stdout",
          "text": [
            " * Starting MySQL database server mysqld\n",
            "No directory, logging in with HOME=/\n",
            "   ...done.\n",
            "\u001b[K     |████████████████████████████████| 43 kB 1.6 MB/s \n",
            "\u001b[?25h"
          ]
        }
      ],
      "source": [
        "!apt-get install mysql-server > /dev/null\n",
        "!service mysql start\n",
        "!mysql -e \"ALTER USER 'root'@'localhost' IDENTIFIED WITH mysql_native_password BY 'root'\"\n",
        "!pip -q install PyMySQL\n"
      ]
    },
    {
      "cell_type": "code",
      "source": [
        "%load_ext sql\n",
        "%config SqlMagic.feedback=False \n",
        "%config SqlMagic.autopandas=True\n",
        "%sql mysql+pymysql://root:root@/\n",
        "# query using %sql or %%sql"
      ],
      "metadata": {
        "colab": {
          "base_uri": "https://localhost:8080/",
          "height": 70
        },
        "id": "v2QR4eNe2t7V",
        "outputId": "9d6185ec-cdcf-4e2c-d05d-5b08821ff7dd"
      },
      "execution_count": null,
      "outputs": [
        {
          "output_type": "stream",
          "name": "stdout",
          "text": [
            "The sql extension is already loaded. To reload it, use:\n",
            "  %reload_ext sql\n"
          ]
        },
        {
          "output_type": "execute_result",
          "data": {
            "application/vnd.google.colaboratory.intrinsic+json": {
              "type": "string"
            },
            "text/plain": [
              "'Connected: root@'"
            ]
          },
          "metadata": {},
          "execution_count": 4
        }
      ]
    },
    {
      "cell_type": "code",
      "source": [
        "df = %sql select * FROM mysql.user\n",
        "df"
      ],
      "metadata": {
        "colab": {
          "base_uri": "https://localhost:8080/",
          "height": 303
        },
        "id": "pOWXc6-X2KIM",
        "outputId": "a3251ec6-8c26-421c-e3a2-077f523daf8f"
      },
      "execution_count": null,
      "outputs": [
        {
          "output_type": "stream",
          "name": "stdout",
          "text": [
            " * mysql+pymysql://root:***@/\n"
          ]
        },
        {
          "output_type": "execute_result",
          "data": {
            "text/html": [
              "\n",
              "  <div id=\"df-2b80c276-13c8-4ec7-a262-847bd3664525\">\n",
              "    <div class=\"colab-df-container\">\n",
              "      <div>\n",
              "<style scoped>\n",
              "    .dataframe tbody tr th:only-of-type {\n",
              "        vertical-align: middle;\n",
              "    }\n",
              "\n",
              "    .dataframe tbody tr th {\n",
              "        vertical-align: top;\n",
              "    }\n",
              "\n",
              "    .dataframe thead th {\n",
              "        text-align: right;\n",
              "    }\n",
              "</style>\n",
              "<table border=\"1\" class=\"dataframe\">\n",
              "  <thead>\n",
              "    <tr style=\"text-align: right;\">\n",
              "      <th></th>\n",
              "      <th>Host</th>\n",
              "      <th>User</th>\n",
              "      <th>Select_priv</th>\n",
              "      <th>Insert_priv</th>\n",
              "      <th>Update_priv</th>\n",
              "      <th>Delete_priv</th>\n",
              "      <th>Create_priv</th>\n",
              "      <th>Drop_priv</th>\n",
              "      <th>Reload_priv</th>\n",
              "      <th>Shutdown_priv</th>\n",
              "      <th>...</th>\n",
              "      <th>max_questions</th>\n",
              "      <th>max_updates</th>\n",
              "      <th>max_connections</th>\n",
              "      <th>max_user_connections</th>\n",
              "      <th>plugin</th>\n",
              "      <th>authentication_string</th>\n",
              "      <th>password_expired</th>\n",
              "      <th>password_last_changed</th>\n",
              "      <th>password_lifetime</th>\n",
              "      <th>account_locked</th>\n",
              "    </tr>\n",
              "  </thead>\n",
              "  <tbody>\n",
              "    <tr>\n",
              "      <th>0</th>\n",
              "      <td>localhost</td>\n",
              "      <td>root</td>\n",
              "      <td>Y</td>\n",
              "      <td>Y</td>\n",
              "      <td>Y</td>\n",
              "      <td>Y</td>\n",
              "      <td>Y</td>\n",
              "      <td>Y</td>\n",
              "      <td>Y</td>\n",
              "      <td>Y</td>\n",
              "      <td>...</td>\n",
              "      <td>0</td>\n",
              "      <td>0</td>\n",
              "      <td>0</td>\n",
              "      <td>0</td>\n",
              "      <td>mysql_native_password</td>\n",
              "      <td>*81F5E21E35407D884A6CD4A731AEBFB6AF209E1B</td>\n",
              "      <td>N</td>\n",
              "      <td>2022-03-09 13:33:13</td>\n",
              "      <td>None</td>\n",
              "      <td>N</td>\n",
              "    </tr>\n",
              "    <tr>\n",
              "      <th>1</th>\n",
              "      <td>localhost</td>\n",
              "      <td>mysql.session</td>\n",
              "      <td>N</td>\n",
              "      <td>N</td>\n",
              "      <td>N</td>\n",
              "      <td>N</td>\n",
              "      <td>N</td>\n",
              "      <td>N</td>\n",
              "      <td>N</td>\n",
              "      <td>N</td>\n",
              "      <td>...</td>\n",
              "      <td>0</td>\n",
              "      <td>0</td>\n",
              "      <td>0</td>\n",
              "      <td>0</td>\n",
              "      <td>mysql_native_password</td>\n",
              "      <td>*THISISNOTAVALIDPASSWORDTHATCANBEUSEDHERE</td>\n",
              "      <td>N</td>\n",
              "      <td>2022-03-09 13:32:57</td>\n",
              "      <td>None</td>\n",
              "      <td>Y</td>\n",
              "    </tr>\n",
              "    <tr>\n",
              "      <th>2</th>\n",
              "      <td>localhost</td>\n",
              "      <td>mysql.sys</td>\n",
              "      <td>N</td>\n",
              "      <td>N</td>\n",
              "      <td>N</td>\n",
              "      <td>N</td>\n",
              "      <td>N</td>\n",
              "      <td>N</td>\n",
              "      <td>N</td>\n",
              "      <td>N</td>\n",
              "      <td>...</td>\n",
              "      <td>0</td>\n",
              "      <td>0</td>\n",
              "      <td>0</td>\n",
              "      <td>0</td>\n",
              "      <td>mysql_native_password</td>\n",
              "      <td>*THISISNOTAVALIDPASSWORDTHATCANBEUSEDHERE</td>\n",
              "      <td>N</td>\n",
              "      <td>2022-03-09 13:32:57</td>\n",
              "      <td>None</td>\n",
              "      <td>Y</td>\n",
              "    </tr>\n",
              "    <tr>\n",
              "      <th>3</th>\n",
              "      <td>localhost</td>\n",
              "      <td>debian-sys-maint</td>\n",
              "      <td>Y</td>\n",
              "      <td>Y</td>\n",
              "      <td>Y</td>\n",
              "      <td>Y</td>\n",
              "      <td>Y</td>\n",
              "      <td>Y</td>\n",
              "      <td>Y</td>\n",
              "      <td>Y</td>\n",
              "      <td>...</td>\n",
              "      <td>0</td>\n",
              "      <td>0</td>\n",
              "      <td>0</td>\n",
              "      <td>0</td>\n",
              "      <td>mysql_native_password</td>\n",
              "      <td>*B78F108C30F62A9828BA60C097D0459BE2D256A2</td>\n",
              "      <td>N</td>\n",
              "      <td>2022-03-09 13:32:57</td>\n",
              "      <td>None</td>\n",
              "      <td>N</td>\n",
              "    </tr>\n",
              "  </tbody>\n",
              "</table>\n",
              "<p>4 rows × 45 columns</p>\n",
              "</div>\n",
              "      <button class=\"colab-df-convert\" onclick=\"convertToInteractive('df-2b80c276-13c8-4ec7-a262-847bd3664525')\"\n",
              "              title=\"Convert this dataframe to an interactive table.\"\n",
              "              style=\"display:none;\">\n",
              "        \n",
              "  <svg xmlns=\"http://www.w3.org/2000/svg\" height=\"24px\"viewBox=\"0 0 24 24\"\n",
              "       width=\"24px\">\n",
              "    <path d=\"M0 0h24v24H0V0z\" fill=\"none\"/>\n",
              "    <path d=\"M18.56 5.44l.94 2.06.94-2.06 2.06-.94-2.06-.94-.94-2.06-.94 2.06-2.06.94zm-11 1L8.5 8.5l.94-2.06 2.06-.94-2.06-.94L8.5 2.5l-.94 2.06-2.06.94zm10 10l.94 2.06.94-2.06 2.06-.94-2.06-.94-.94-2.06-.94 2.06-2.06.94z\"/><path d=\"M17.41 7.96l-1.37-1.37c-.4-.4-.92-.59-1.43-.59-.52 0-1.04.2-1.43.59L10.3 9.45l-7.72 7.72c-.78.78-.78 2.05 0 2.83L4 21.41c.39.39.9.59 1.41.59.51 0 1.02-.2 1.41-.59l7.78-7.78 2.81-2.81c.8-.78.8-2.07 0-2.86zM5.41 20L4 18.59l7.72-7.72 1.47 1.35L5.41 20z\"/>\n",
              "  </svg>\n",
              "      </button>\n",
              "      \n",
              "  <style>\n",
              "    .colab-df-container {\n",
              "      display:flex;\n",
              "      flex-wrap:wrap;\n",
              "      gap: 12px;\n",
              "    }\n",
              "\n",
              "    .colab-df-convert {\n",
              "      background-color: #E8F0FE;\n",
              "      border: none;\n",
              "      border-radius: 50%;\n",
              "      cursor: pointer;\n",
              "      display: none;\n",
              "      fill: #1967D2;\n",
              "      height: 32px;\n",
              "      padding: 0 0 0 0;\n",
              "      width: 32px;\n",
              "    }\n",
              "\n",
              "    .colab-df-convert:hover {\n",
              "      background-color: #E2EBFA;\n",
              "      box-shadow: 0px 1px 2px rgba(60, 64, 67, 0.3), 0px 1px 3px 1px rgba(60, 64, 67, 0.15);\n",
              "      fill: #174EA6;\n",
              "    }\n",
              "\n",
              "    [theme=dark] .colab-df-convert {\n",
              "      background-color: #3B4455;\n",
              "      fill: #D2E3FC;\n",
              "    }\n",
              "\n",
              "    [theme=dark] .colab-df-convert:hover {\n",
              "      background-color: #434B5C;\n",
              "      box-shadow: 0px 1px 3px 1px rgba(0, 0, 0, 0.15);\n",
              "      filter: drop-shadow(0px 1px 2px rgba(0, 0, 0, 0.3));\n",
              "      fill: #FFFFFF;\n",
              "    }\n",
              "  </style>\n",
              "\n",
              "      <script>\n",
              "        const buttonEl =\n",
              "          document.querySelector('#df-2b80c276-13c8-4ec7-a262-847bd3664525 button.colab-df-convert');\n",
              "        buttonEl.style.display =\n",
              "          google.colab.kernel.accessAllowed ? 'block' : 'none';\n",
              "\n",
              "        async function convertToInteractive(key) {\n",
              "          const element = document.querySelector('#df-2b80c276-13c8-4ec7-a262-847bd3664525');\n",
              "          const dataTable =\n",
              "            await google.colab.kernel.invokeFunction('convertToInteractive',\n",
              "                                                     [key], {});\n",
              "          if (!dataTable) return;\n",
              "\n",
              "          const docLinkHtml = 'Like what you see? Visit the ' +\n",
              "            '<a target=\"_blank\" href=https://colab.research.google.com/notebooks/data_table.ipynb>data table notebook</a>'\n",
              "            + ' to learn more about interactive tables.';\n",
              "          element.innerHTML = '';\n",
              "          dataTable['output_type'] = 'display_data';\n",
              "          await google.colab.output.renderOutput(dataTable, element);\n",
              "          const docLink = document.createElement('div');\n",
              "          docLink.innerHTML = docLinkHtml;\n",
              "          element.appendChild(docLink);\n",
              "        }\n",
              "      </script>\n",
              "    </div>\n",
              "  </div>\n",
              "  "
            ],
            "text/plain": [
              "        Host              User Select_priv Insert_priv Update_priv  \\\n",
              "0  localhost              root           Y           Y           Y   \n",
              "1  localhost     mysql.session           N           N           N   \n",
              "2  localhost         mysql.sys           N           N           N   \n",
              "3  localhost  debian-sys-maint           Y           Y           Y   \n",
              "\n",
              "  Delete_priv Create_priv Drop_priv Reload_priv Shutdown_priv  ...  \\\n",
              "0           Y           Y         Y           Y             Y  ...   \n",
              "1           N           N         N           N             N  ...   \n",
              "2           N           N         N           N             N  ...   \n",
              "3           Y           Y         Y           Y             Y  ...   \n",
              "\n",
              "  max_questions max_updates max_connections max_user_connections  \\\n",
              "0             0           0               0                    0   \n",
              "1             0           0               0                    0   \n",
              "2             0           0               0                    0   \n",
              "3             0           0               0                    0   \n",
              "\n",
              "                  plugin                      authentication_string  \\\n",
              "0  mysql_native_password  *81F5E21E35407D884A6CD4A731AEBFB6AF209E1B   \n",
              "1  mysql_native_password  *THISISNOTAVALIDPASSWORDTHATCANBEUSEDHERE   \n",
              "2  mysql_native_password  *THISISNOTAVALIDPASSWORDTHATCANBEUSEDHERE   \n",
              "3  mysql_native_password  *B78F108C30F62A9828BA60C097D0459BE2D256A2   \n",
              "\n",
              "  password_expired password_last_changed password_lifetime account_locked  \n",
              "0                N   2022-03-09 13:33:13              None              N  \n",
              "1                N   2022-03-09 13:32:57              None              Y  \n",
              "2                N   2022-03-09 13:32:57              None              Y  \n",
              "3                N   2022-03-09 13:32:57              None              N  \n",
              "\n",
              "[4 rows x 45 columns]"
            ]
          },
          "metadata": {},
          "execution_count": 11
        }
      ]
    },
    {
      "cell_type": "code",
      "source": [
        "df.to_csv('test.csv')"
      ],
      "metadata": {
        "id": "cwI3HaNG-9iS"
      },
      "execution_count": null,
      "outputs": []
    },
    {
      "cell_type": "code",
      "source": [
        "import smtplib\n",
        "fromaddr = \"Arsalan.mubeen@gmail.com\"\n",
        "toaddrs = \"it@lifecareinternational.com\"\n",
        "\n",
        "msg = \"please find the attached test.CSV file from Python code\"\n",
        "attach = (\"test.csv\")\n",
        "\n",
        "username = \"Arsalan.mubeen@gmail.com\"\n",
        "password = \"xxx\"\n",
        "\n",
        "server = smtplib.SMTP('smtp.gmail.com:587')\n",
        "server.starttls()\n",
        "server.login(username,password)\n",
        "server.sendmail(fromaddr, toaddrs, msg, attach)\n",
        "server.quit()"
      ],
      "metadata": {
        "id": "O9aIgzt7CYpP"
      },
      "execution_count": null,
      "outputs": []
    },
    {
      "cell_type": "code",
      "source": [
        "class MarketingCosts:\n",
        "\n",
        "    # param marketing_expenditure list. Expenditure for each previous campaign.\n",
        "    # param units_sold list. The number of units sold for each previous campaign.\n",
        "    # param desired_units_sold int. Target number of units to sell in the new campaign.\n",
        "    # returns float. Required amount of money to be invested.\n",
        "    @staticmethod\n",
        "    def desired_marketing_expenditure(marketing_expenditure, units_sold, desired_units_sold):\n",
        "        marketing_expenditure = np.asarray(marketing_expenditure).reshape(-1, 1)\n",
        "        units_sold = np.asarray(units_sold).reshape(-1, 1)\n",
        "        reg = linear_model.LinearRegression()\n",
        "        reg.fit(marketing_expenditure , units_sold)\n",
        "        return np.float((desired_units_sold - reg.intercept_)/reg.coef_)\n",
        "\n",
        "# For example, with the parameters below the function should return 250000.0.\n",
        "print(MarketingCosts.desired_marketing_expenditure(\n",
        "    [300000, 200000, 400000, 300000, 100000],\n",
        "    [60000, 50000, 90000, 80000, 30000],\n",
        "    60000))"
      ],
      "metadata": {
        "colab": {
          "base_uri": "https://localhost:8080/"
        },
        "id": "jgkJNFH7tyX7",
        "outputId": "e1d84cdd-c262-4a84-f0c4-bc3bac767aa9"
      },
      "execution_count": null,
      "outputs": [
        {
          "output_type": "stream",
          "name": "stdout",
          "text": [
            "250000.0\n"
          ]
        },
        {
          "output_type": "stream",
          "name": "stderr",
          "text": [
            "/usr/local/lib/python3.7/dist-packages/ipykernel_launcher.py:13: DeprecationWarning: `np.float` is a deprecated alias for the builtin `float`. To silence this warning, use `float` by itself. Doing this will not modify any behavior and is safe. If you specifically wanted the numpy scalar type, use `np.float64` here.\n",
            "Deprecated in NumPy 1.20; for more details and guidance: https://numpy.org/devdocs/release/1.20.0-notes.html#deprecations\n",
            "  del sys.path[0]\n"
          ]
        }
      ]
    }
  ]
}