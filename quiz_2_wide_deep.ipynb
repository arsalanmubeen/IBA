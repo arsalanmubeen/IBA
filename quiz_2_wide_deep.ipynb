{
  "nbformat": 4,
  "nbformat_minor": 0,
  "metadata": {
    "colab": {
      "provenance": [],
      "collapsed_sections": [],
      "include_colab_link": true
    },
    "kernelspec": {
      "display_name": "Python 3",
      "language": "python",
      "name": "python3"
    },
    "language_info": {
      "codemirror_mode": {
        "name": "ipython",
        "version": 3
      },
      "file_extension": ".py",
      "mimetype": "text/x-python",
      "name": "python",
      "nbconvert_exporter": "python",
      "pygments_lexer": "ipython3",
      "version": "3.6.1"
    },
    "accelerator": "GPU"
  },
  "cells": [
    {
      "cell_type": "markdown",
      "metadata": {
        "id": "view-in-github",
        "colab_type": "text"
      },
      "source": [
        "<a href=\"https://colab.research.google.com/github/arsalanmubeen/IBA/blob/main/quiz_2_wide_deep.ipynb\" target=\"_parent\"><img src=\"https://colab.research.google.com/assets/colab-badge.svg\" alt=\"Open In Colab\"/></a>"
      ]
    },
    {
      "cell_type": "markdown",
      "metadata": {
        "id": "-wPCGlITENDD"
      },
      "source": [
        "You have 50 minutes to get this code running and working.\n",
        "\n",
        "We do mild modifications to the \"wide and deep\" wine example. Do the following changes:\n",
        "\n",
        "1.) Explore how the accuracy changes as you go from embedding of vocab from 8 dimensions to 2 dimension. Submit a graph on LMS alongwith your .ipynb.\n",
        "\n",
        "2.) See effect of vocab size as we go from 8000 down to 5000.\n",
        "\n",
        "Submit your code on LMS.\n",
        "If you have memory / RAM errors, make sure to set your instance type as GPU. I've tested this code on colab, but feel free to reduce the vocab_size, the dense_layer size or batch_size if you're running out of memory."
      ]
    },
    {
      "cell_type": "code",
      "metadata": {
        "id": "frTMl3sShA3P"
      },
      "source": [
        "from __future__ import absolute_import\n",
        "from __future__ import division\n",
        "from __future__ import print_function"
      ],
      "execution_count": null,
      "outputs": []
    },
    {
      "cell_type": "code",
      "metadata": {
        "id": "HGK9n8ONENDH",
        "colab": {
          "base_uri": "https://localhost:8080/"
        },
        "outputId": "39477f54-256c-4d7a-b027-cb3d3514f7d4"
      },
      "source": [
        "# Install the latest version of TensorFlow\n",
        "!pip install -q -U tensorflow==1.13.1\n",
        "!pip install keras\n",
        "import tensorflow as tf"
      ],
      "execution_count": null,
      "outputs": [
        {
          "output_type": "stream",
          "text": [
            "\u001b[K     |████████████████████████████████| 92.6MB 32kB/s \n",
            "\u001b[K     |████████████████████████████████| 3.2MB 20.7MB/s \n",
            "\u001b[K     |████████████████████████████████| 368kB 52.6MB/s \n",
            "\u001b[K     |████████████████████████████████| 51kB 7.9MB/s \n",
            "\u001b[?25hRequirement already satisfied: keras in /usr/local/lib/python3.7/dist-packages (2.4.3)\n",
            "Requirement already satisfied: scipy>=0.14 in /usr/local/lib/python3.7/dist-packages (from keras) (1.4.1)\n",
            "Requirement already satisfied: numpy>=1.9.1 in /usr/local/lib/python3.7/dist-packages (from keras) (1.19.5)\n",
            "Requirement already satisfied: pyyaml in /usr/local/lib/python3.7/dist-packages (from keras) (3.13)\n",
            "Requirement already satisfied: h5py in /usr/local/lib/python3.7/dist-packages (from keras) (2.10.0)\n",
            "Requirement already satisfied: six in /usr/local/lib/python3.7/dist-packages (from h5py->keras) (1.15.0)\n"
          ],
          "name": "stdout"
        },
        {
          "output_type": "stream",
          "text": [
            "/usr/local/lib/python3.7/dist-packages/tensorflow/python/framework/dtypes.py:526: FutureWarning: Passing (type, 1) or '1type' as a synonym of type is deprecated; in a future version of numpy, it will be understood as (type, (1,)) / '(1,)type'.\n",
            "  _np_qint8 = np.dtype([(\"qint8\", np.int8, 1)])\n",
            "/usr/local/lib/python3.7/dist-packages/tensorflow/python/framework/dtypes.py:527: FutureWarning: Passing (type, 1) or '1type' as a synonym of type is deprecated; in a future version of numpy, it will be understood as (type, (1,)) / '(1,)type'.\n",
            "  _np_quint8 = np.dtype([(\"quint8\", np.uint8, 1)])\n",
            "/usr/local/lib/python3.7/dist-packages/tensorflow/python/framework/dtypes.py:528: FutureWarning: Passing (type, 1) or '1type' as a synonym of type is deprecated; in a future version of numpy, it will be understood as (type, (1,)) / '(1,)type'.\n",
            "  _np_qint16 = np.dtype([(\"qint16\", np.int16, 1)])\n",
            "/usr/local/lib/python3.7/dist-packages/tensorflow/python/framework/dtypes.py:529: FutureWarning: Passing (type, 1) or '1type' as a synonym of type is deprecated; in a future version of numpy, it will be understood as (type, (1,)) / '(1,)type'.\n",
            "  _np_quint16 = np.dtype([(\"quint16\", np.uint16, 1)])\n",
            "/usr/local/lib/python3.7/dist-packages/tensorflow/python/framework/dtypes.py:530: FutureWarning: Passing (type, 1) or '1type' as a synonym of type is deprecated; in a future version of numpy, it will be understood as (type, (1,)) / '(1,)type'.\n",
            "  _np_qint32 = np.dtype([(\"qint32\", np.int32, 1)])\n",
            "/usr/local/lib/python3.7/dist-packages/tensorflow/python/framework/dtypes.py:535: FutureWarning: Passing (type, 1) or '1type' as a synonym of type is deprecated; in a future version of numpy, it will be understood as (type, (1,)) / '(1,)type'.\n",
            "  np_resource = np.dtype([(\"resource\", np.ubyte, 1)])\n"
          ],
          "name": "stderr"
        }
      ]
    },
    {
      "cell_type": "code",
      "metadata": {
        "id": "783h64rGhA3T",
        "colab": {
          "base_uri": "https://localhost:8080/"
        },
        "outputId": "15dac54b-ea44-47c2-9449-c933085cf664"
      },
      "source": [
        "import itertools\n",
        "import os\n",
        "import math\n",
        "import numpy as np\n",
        "import pandas as pd\n",
        "\n",
        "\n",
        "from sklearn.preprocessing import LabelEncoder\n",
        "from tensorflow import keras\n",
        "layers = keras.layers\n",
        "\n",
        "print(\"You have TensorFlow version\", tf.__version__)"
      ],
      "execution_count": null,
      "outputs": [
        {
          "output_type": "stream",
          "text": [
            "You have TensorFlow version 1.13.1\n"
          ],
          "name": "stdout"
        }
      ]
    },
    {
      "cell_type": "code",
      "metadata": {
        "id": "IHb0XxvYENDJ",
        "colab": {
          "base_uri": "https://localhost:8080/"
        },
        "outputId": "bdee3f44-d041-4283-ea14-fb98cf37a919"
      },
      "source": [
        "# Get the data: original source is here: https://www.kaggle.com/zynicide/wine-reviews/data\n",
        "URL = \"https://storage.googleapis.com/sara-cloud-ml/wine_data.csv\"\n",
        "path = tf.keras.utils.get_file(URL.split('/')[-1], URL)\n"
      ],
      "execution_count": null,
      "outputs": [
        {
          "output_type": "stream",
          "text": [
            "Downloading data from https://storage.googleapis.com/sara-cloud-ml/wine_data.csv\n",
            "49790976/49783940 [==============================] - 0s 0us/step\n"
          ],
          "name": "stdout"
        }
      ]
    },
    {
      "cell_type": "code",
      "metadata": {
        "id": "c7te21f7hA3V"
      },
      "source": [
        "# Convert the data to a Pandas data frame\n",
        "data = pd.read_csv(path)"
      ],
      "execution_count": null,
      "outputs": []
    },
    {
      "cell_type": "code",
      "metadata": {
        "id": "chAbp3ryhA3X",
        "colab": {
          "base_uri": "https://localhost:8080/",
          "height": 202
        },
        "outputId": "8339c1ac-cd36-4ff5-8882-fa2d1b6b8f47"
      },
      "source": [
        "# Shuffle the data\n",
        "data = data.sample(frac=1)\n",
        "\n",
        "# Print the first 5 rows\n",
        "data.head()"
      ],
      "execution_count": null,
      "outputs": [
        {
          "output_type": "execute_result",
          "data": {
            "text/html": [
              "<div>\n",
              "<style scoped>\n",
              "    .dataframe tbody tr th:only-of-type {\n",
              "        vertical-align: middle;\n",
              "    }\n",
              "\n",
              "    .dataframe tbody tr th {\n",
              "        vertical-align: top;\n",
              "    }\n",
              "\n",
              "    .dataframe thead th {\n",
              "        text-align: right;\n",
              "    }\n",
              "</style>\n",
              "<table border=\"1\" class=\"dataframe\">\n",
              "  <thead>\n",
              "    <tr style=\"text-align: right;\">\n",
              "      <th></th>\n",
              "      <th>Unnamed: 0</th>\n",
              "      <th>country</th>\n",
              "      <th>description</th>\n",
              "      <th>designation</th>\n",
              "      <th>points</th>\n",
              "      <th>price</th>\n",
              "      <th>province</th>\n",
              "      <th>region_1</th>\n",
              "      <th>region_2</th>\n",
              "      <th>variety</th>\n",
              "      <th>winery</th>\n",
              "    </tr>\n",
              "  </thead>\n",
              "  <tbody>\n",
              "    <tr>\n",
              "      <th>98854</th>\n",
              "      <td>98854</td>\n",
              "      <td>US</td>\n",
              "      <td>A brilliant white wine, very tart in acidity, ...</td>\n",
              "      <td>Ca' del Solo Vineyard</td>\n",
              "      <td>89</td>\n",
              "      <td>20.0</td>\n",
              "      <td>California</td>\n",
              "      <td>Monterey County</td>\n",
              "      <td>Central Coast</td>\n",
              "      <td>Albariño</td>\n",
              "      <td>Ca' del Solo</td>\n",
              "    </tr>\n",
              "    <tr>\n",
              "      <th>113507</th>\n",
              "      <td>113507</td>\n",
              "      <td>US</td>\n",
              "      <td>Here's a nice, everyday sort of Merlot with so...</td>\n",
              "      <td>NaN</td>\n",
              "      <td>85</td>\n",
              "      <td>20.0</td>\n",
              "      <td>California</td>\n",
              "      <td>Sonoma County</td>\n",
              "      <td>Sonoma</td>\n",
              "      <td>Merlot</td>\n",
              "      <td>Mosaic</td>\n",
              "    </tr>\n",
              "    <tr>\n",
              "      <th>41728</th>\n",
              "      <td>41728</td>\n",
              "      <td>France</td>\n",
              "      <td>This beautifully perfumed wine has all the sol...</td>\n",
              "      <td>Les Damodes Premier Cru</td>\n",
              "      <td>92</td>\n",
              "      <td>89.0</td>\n",
              "      <td>Burgundy</td>\n",
              "      <td>Nuits-St.-Georges</td>\n",
              "      <td>NaN</td>\n",
              "      <td>Pinot Noir</td>\n",
              "      <td>Louis Max</td>\n",
              "    </tr>\n",
              "    <tr>\n",
              "      <th>8994</th>\n",
              "      <td>8994</td>\n",
              "      <td>France</td>\n",
              "      <td>The wine is mature, with smoky acidity, autumn...</td>\n",
              "      <td>NaN</td>\n",
              "      <td>88</td>\n",
              "      <td>30.0</td>\n",
              "      <td>Bordeaux</td>\n",
              "      <td>Médoc</td>\n",
              "      <td>NaN</td>\n",
              "      <td>Bordeaux-style Red Blend</td>\n",
              "      <td>Château Témperance</td>\n",
              "    </tr>\n",
              "    <tr>\n",
              "      <th>20993</th>\n",
              "      <td>20993</td>\n",
              "      <td>US</td>\n",
              "      <td>A bit thin and acidic, but charming for its dr...</td>\n",
              "      <td>York Creek</td>\n",
              "      <td>87</td>\n",
              "      <td>30.0</td>\n",
              "      <td>California</td>\n",
              "      <td>California</td>\n",
              "      <td>California Other</td>\n",
              "      <td>Zinfandel</td>\n",
              "      <td>Ridge</td>\n",
              "    </tr>\n",
              "  </tbody>\n",
              "</table>\n",
              "</div>"
            ],
            "text/plain": [
              "        Unnamed: 0 country  ...                   variety              winery\n",
              "98854        98854      US  ...                  Albariño        Ca' del Solo\n",
              "113507      113507      US  ...                    Merlot              Mosaic\n",
              "41728        41728  France  ...                Pinot Noir           Louis Max\n",
              "8994          8994  France  ...  Bordeaux-style Red Blend  Château Témperance\n",
              "20993        20993      US  ...                 Zinfandel               Ridge\n",
              "\n",
              "[5 rows x 11 columns]"
            ]
          },
          "metadata": {
            "tags": []
          },
          "execution_count": 6
        }
      ]
    },
    {
      "cell_type": "code",
      "metadata": {
        "id": "tVbEvFKFENDL"
      },
      "source": [
        "# Do some preprocessing to limit the # of wine varities in the dataset\n",
        "data = data[pd.notnull(data['country'])]\n",
        "data = data[pd.notnull(data['price'])]\n",
        "data = data.drop(data.columns[0], axis=1) \n",
        "\n",
        "variety_threshold = 500 # Anything that occurs less than this will be removed.\n",
        "value_counts = data['variety'].value_counts()\n",
        "to_remove = value_counts[value_counts <= variety_threshold].index\n",
        "data.replace(to_remove, np.nan, inplace=True)\n",
        "data = data[pd.notnull(data['variety'])]"
      ],
      "execution_count": null,
      "outputs": []
    },
    {
      "cell_type": "code",
      "metadata": {
        "id": "h_SDal0khA3n",
        "scrolled": true,
        "colab": {
          "base_uri": "https://localhost:8080/"
        },
        "outputId": "cdcefca4-1ebc-40a0-be56-0e58b642fe4b"
      },
      "source": [
        "# Split data into train and test\n",
        "train_size = int(len(data) * .8)\n",
        "print (\"Train size: %d\" % train_size)\n",
        "print (\"Test size: %d\" % (len(data) - train_size))"
      ],
      "execution_count": null,
      "outputs": [
        {
          "output_type": "stream",
          "text": [
            "Train size: 95646\n",
            "Test size: 23912\n"
          ],
          "name": "stdout"
        }
      ]
    },
    {
      "cell_type": "code",
      "metadata": {
        "id": "anD38iilhA3r"
      },
      "source": [
        "# Train features\n",
        "description_train = data['description'][:train_size]\n",
        "variety_train = data['variety'][:train_size]\n",
        "\n",
        "# Train labels\n",
        "labels_train = data['price'][:train_size]\n",
        "\n",
        "# Test features\n",
        "description_test = data['description'][train_size:]\n",
        "variety_test = data['variety'][train_size:]\n",
        "\n",
        "# Test labels\n",
        "labels_test = data['price'][train_size:]"
      ],
      "execution_count": null,
      "outputs": []
    },
    {
      "cell_type": "code",
      "metadata": {
        "id": "z4GblctFhA3u"
      },
      "source": [
        "# Create a tokenizer to preprocess our text descriptions\n",
        "vocab_size = 5000 # This is a hyperparameter, experiment with different values for your dataset\n",
        "tokenize = keras.preprocessing.text.Tokenizer(num_words=vocab_size, char_level=False)\n",
        "tokenize.fit_on_texts(description_train) # only fit on train"
      ],
      "execution_count": null,
      "outputs": []
    },
    {
      "cell_type": "code",
      "metadata": {
        "id": "YatMLCKXhA3x"
      },
      "source": [
        "# Wide feature 1: sparse bag of words (bow) vocab_size vector \n",
        "description_bow_train = tokenize.texts_to_matrix(description_train)\n",
        "description_bow_test = tokenize.texts_to_matrix(description_test)"
      ],
      "execution_count": null,
      "outputs": []
    },
    {
      "cell_type": "code",
      "metadata": {
        "id": "8quTsErLhA3z"
      },
      "source": [
        "# Wide feature 2: one-hot vector of variety categories\n",
        "\n",
        "# Use sklearn utility to convert label strings to numbered index\n",
        "encoder = LabelEncoder()\n",
        "encoder.fit(variety_train)\n",
        "variety_train = encoder.transform(variety_train)\n",
        "variety_test = encoder.transform(variety_test)\n",
        "num_classes = np.max(variety_train) + 1\n",
        "\n",
        "# Convert labels to one hot\n",
        "variety_train = keras.utils.to_categorical(variety_train, num_classes)\n",
        "variety_test = keras.utils.to_categorical(variety_test, num_classes)"
      ],
      "execution_count": null,
      "outputs": []
    },
    {
      "cell_type": "code",
      "metadata": {
        "id": "aW-YPJdLENDQ",
        "colab": {
          "base_uri": "https://localhost:8080/"
        },
        "outputId": "d695460c-cd11-4cb3-84fa-1c6e7b116255"
      },
      "source": [
        "# Define our wide model with the functional API\n",
        "bow_inputs = layers.Input(shape=(vocab_size,))\n",
        "variety_inputs = layers.Input(shape=(num_classes,))\n",
        "merged_layer = layers.concatenate([bow_inputs, variety_inputs])\n",
        "merged_layer = layers.Dense(128, activation='relu')(merged_layer)\n",
        "predictions = layers.Dense(1)(merged_layer)\n",
        "wide_model = keras.Model(inputs=[bow_inputs, variety_inputs], outputs=predictions)"
      ],
      "execution_count": null,
      "outputs": [
        {
          "output_type": "stream",
          "text": [
            "WARNING:tensorflow:From /usr/local/lib/python3.7/dist-packages/tensorflow/python/ops/resource_variable_ops.py:435: colocate_with (from tensorflow.python.framework.ops) is deprecated and will be removed in a future version.\n",
            "Instructions for updating:\n",
            "Colocations handled automatically by placer.\n"
          ],
          "name": "stdout"
        }
      ]
    },
    {
      "cell_type": "code",
      "metadata": {
        "id": "j6HCIzMEENDQ",
        "colab": {
          "base_uri": "https://localhost:8080/"
        },
        "outputId": "c4a7ee57-aedb-4362-9119-9cd24356cf85"
      },
      "source": [
        "wide_model.compile(loss='mse', optimizer='adam', metrics=['accuracy'])\n",
        "print(wide_model.summary())"
      ],
      "execution_count": null,
      "outputs": [
        {
          "output_type": "stream",
          "text": [
            "WARNING:tensorflow:From /usr/local/lib/python3.7/dist-packages/tensorflow/python/keras/utils/losses_utils.py:170: to_float (from tensorflow.python.ops.math_ops) is deprecated and will be removed in a future version.\n",
            "Instructions for updating:\n",
            "Use tf.cast instead.\n",
            "__________________________________________________________________________________________________\n",
            "Layer (type)                    Output Shape         Param #     Connected to                     \n",
            "==================================================================================================\n",
            "input_1 (InputLayer)            (None, 5000)         0                                            \n",
            "__________________________________________________________________________________________________\n",
            "input_2 (InputLayer)            (None, 40)           0                                            \n",
            "__________________________________________________________________________________________________\n",
            "concatenate (Concatenate)       (None, 5040)         0           input_1[0][0]                    \n",
            "                                                                 input_2[0][0]                    \n",
            "__________________________________________________________________________________________________\n",
            "dense (Dense)                   (None, 128)          645248      concatenate[0][0]                \n",
            "__________________________________________________________________________________________________\n",
            "dense_1 (Dense)                 (None, 1)            129         dense[0][0]                      \n",
            "==================================================================================================\n",
            "Total params: 645,377\n",
            "Trainable params: 645,377\n",
            "Non-trainable params: 0\n",
            "__________________________________________________________________________________________________\n",
            "None\n"
          ],
          "name": "stdout"
        }
      ]
    },
    {
      "cell_type": "code",
      "metadata": {
        "id": "tnvO3TkPENDR"
      },
      "source": [
        "# Deep model feature: word embeddings of wine descriptions\n",
        "train_embed = tokenize.texts_to_sequences(description_train)\n",
        "test_embed = tokenize.texts_to_sequences(description_test)\n",
        "\n",
        "max_seq_length = 110\n",
        "train_embed = keras.preprocessing.sequence.pad_sequences(\n",
        "    train_embed, maxlen=max_seq_length, padding=\"post\")\n",
        "test_embed = keras.preprocessing.sequence.pad_sequences(\n",
        "    test_embed, maxlen=max_seq_length, padding=\"post\")"
      ],
      "execution_count": null,
      "outputs": []
    },
    {
      "cell_type": "code",
      "metadata": {
        "id": "ECC3-VBUENDR",
        "colab": {
          "base_uri": "https://localhost:8080/"
        },
        "outputId": "95c46701-8888-400e-ceeb-70dfd8ae4963"
      },
      "source": [
        "# Define our deep model with the Functional API. \n",
        "deep_inputs = layers.Input(shape=(max_seq_length,))\n",
        "\n",
        "# Note: For the quiz submission, this is the embedding of vocab into a a smaller space.\n",
        "embedding = layers.Embedding(vocab_size, 8, input_length=max_seq_length)(deep_inputs)\n",
        "embedding = layers.Flatten()(embedding)\n",
        "embed_out = layers.Dense(1)(embedding)\n",
        "deep_model = keras.Model(inputs=deep_inputs, outputs=embed_out)\n",
        "print(deep_model.summary())"
      ],
      "execution_count": null,
      "outputs": [
        {
          "output_type": "stream",
          "text": [
            "_________________________________________________________________\n",
            "Layer (type)                 Output Shape              Param #   \n",
            "=================================================================\n",
            "input_3 (InputLayer)         (None, 110)               0         \n",
            "_________________________________________________________________\n",
            "embedding (Embedding)        (None, 110, 8)            40000     \n",
            "_________________________________________________________________\n",
            "flatten (Flatten)            (None, 880)               0         \n",
            "_________________________________________________________________\n",
            "dense_2 (Dense)              (None, 1)                 881       \n",
            "=================================================================\n",
            "Total params: 40,881\n",
            "Trainable params: 40,881\n",
            "Non-trainable params: 0\n",
            "_________________________________________________________________\n",
            "None\n"
          ],
          "name": "stdout"
        }
      ]
    },
    {
      "cell_type": "code",
      "metadata": {
        "id": "3XEnSae-ENDS"
      },
      "source": [
        "deep_model.compile(loss='mse',\n",
        "                       optimizer='adam',\n",
        "                       metrics=['accuracy'])"
      ],
      "execution_count": null,
      "outputs": []
    },
    {
      "cell_type": "code",
      "metadata": {
        "id": "QfpDnD3UENDS",
        "colab": {
          "base_uri": "https://localhost:8080/"
        },
        "outputId": "b86c694c-c8ad-44c4-ea84-37df6835719e"
      },
      "source": [
        "# Combine wide and deep into one model\n",
        "merged_out = layers.concatenate([wide_model.output, deep_model.output])\n",
        "merged_out = layers.Dense(1)(merged_out)\n",
        "combined_model = keras.Model(wide_model.input + [deep_model.input], merged_out)\n",
        "print(combined_model.summary())\n",
        "\n",
        "combined_model.compile(loss='mse',\n",
        "                       optimizer='adam',\n",
        "                       metrics=['accuracy'])"
      ],
      "execution_count": null,
      "outputs": [
        {
          "output_type": "stream",
          "text": [
            "__________________________________________________________________________________________________\n",
            "Layer (type)                    Output Shape         Param #     Connected to                     \n",
            "==================================================================================================\n",
            "input_1 (InputLayer)            (None, 5000)         0                                            \n",
            "__________________________________________________________________________________________________\n",
            "input_2 (InputLayer)            (None, 40)           0                                            \n",
            "__________________________________________________________________________________________________\n",
            "input_3 (InputLayer)            (None, 110)          0                                            \n",
            "__________________________________________________________________________________________________\n",
            "concatenate (Concatenate)       (None, 5040)         0           input_1[0][0]                    \n",
            "                                                                 input_2[0][0]                    \n",
            "__________________________________________________________________________________________________\n",
            "embedding (Embedding)           (None, 110, 8)       40000       input_3[0][0]                    \n",
            "__________________________________________________________________________________________________\n",
            "dense (Dense)                   (None, 128)          645248      concatenate[0][0]                \n",
            "__________________________________________________________________________________________________\n",
            "flatten (Flatten)               (None, 880)          0           embedding[0][0]                  \n",
            "__________________________________________________________________________________________________\n",
            "dense_1 (Dense)                 (None, 1)            129         dense[0][0]                      \n",
            "__________________________________________________________________________________________________\n",
            "dense_2 (Dense)                 (None, 1)            881         flatten[0][0]                    \n",
            "__________________________________________________________________________________________________\n",
            "concatenate_1 (Concatenate)     (None, 2)            0           dense_1[0][0]                    \n",
            "                                                                 dense_2[0][0]                    \n",
            "__________________________________________________________________________________________________\n",
            "dense_3 (Dense)                 (None, 1)            3           concatenate_1[0][0]              \n",
            "==================================================================================================\n",
            "Total params: 686,261\n",
            "Trainable params: 686,261\n",
            "Non-trainable params: 0\n",
            "__________________________________________________________________________________________________\n",
            "None\n"
          ],
          "name": "stdout"
        }
      ]
    },
    {
      "cell_type": "code",
      "metadata": {
        "id": "gtP-hDRZhA31",
        "colab": {
          "base_uri": "https://localhost:8080/"
        },
        "outputId": "0fc1ebc2-8a72-4598-fe80-38bb707eb83e"
      },
      "source": [
        "# Run training\n",
        "combined_model.fit([description_bow_train, variety_train] + [train_embed], labels_train, epochs=10, batch_size=128)"
      ],
      "execution_count": null,
      "outputs": [
        {
          "output_type": "stream",
          "text": [
            "WARNING:tensorflow:From /usr/local/lib/python3.7/dist-packages/tensorflow/python/ops/math_ops.py:3066: to_int32 (from tensorflow.python.ops.math_ops) is deprecated and will be removed in a future version.\n",
            "Instructions for updating:\n",
            "Use tf.cast instead.\n",
            "Epoch 1/10\n",
            "95646/95646 [==============================] - 15s 152us/sample - loss: 1180.5875 - acc: 0.0000e+00\n",
            "Epoch 2/10\n",
            "95646/95646 [==============================] - 14s 151us/sample - loss: 947.2827 - acc: 0.0000e+00\n",
            "Epoch 3/10\n",
            "95646/95646 [==============================] - 14s 151us/sample - loss: 854.3486 - acc: 0.0000e+00\n",
            "Epoch 4/10\n",
            "95646/95646 [==============================] - 14s 151us/sample - loss: 758.9279 - acc: 0.0000e+00\n",
            "Epoch 5/10\n",
            "95646/95646 [==============================] - 15s 153us/sample - loss: 652.2256 - acc: 0.0000e+00\n",
            "Epoch 6/10\n",
            "95646/95646 [==============================] - 14s 150us/sample - loss: 538.0419 - acc: 0.0000e+00\n",
            "Epoch 7/10\n",
            "95646/95646 [==============================] - 15s 152us/sample - loss: 431.5572 - acc: 0.0000e+00\n",
            "Epoch 8/10\n",
            "95646/95646 [==============================] - 14s 150us/sample - loss: 345.7661 - acc: 0.0000e+00\n",
            "Epoch 9/10\n",
            "95646/95646 [==============================] - 14s 151us/sample - loss: 272.3358 - acc: 0.0000e+00\n",
            "Epoch 10/10\n",
            "95646/95646 [==============================] - 15s 152us/sample - loss: 217.9085 - acc: 0.0000e+00\n"
          ],
          "name": "stdout"
        },
        {
          "output_type": "execute_result",
          "data": {
            "text/plain": [
              "<tensorflow.python.keras.callbacks.History at 0x7f29b0dfc850>"
            ]
          },
          "metadata": {
            "tags": []
          },
          "execution_count": 19
        }
      ]
    },
    {
      "cell_type": "code",
      "metadata": {
        "id": "mjserH-QENDU",
        "colab": {
          "base_uri": "https://localhost:8080/"
        },
        "outputId": "20b04214-d249-4cd4-b381-9f7219219072"
      },
      "source": [
        "combined_model.evaluate([description_bow_test, variety_test] + [test_embed], labels_test, batch_size=64)"
      ],
      "execution_count": null,
      "outputs": [
        {
          "output_type": "stream",
          "text": [
            "23912/23912 [==============================] - 2s 69us/sample - loss: 795.0734 - acc: 0.0000e+00\n"
          ],
          "name": "stdout"
        },
        {
          "output_type": "execute_result",
          "data": {
            "text/plain": [
              "[795.0734426243802, 0.0]"
            ]
          },
          "metadata": {
            "tags": []
          },
          "execution_count": 20
        }
      ]
    },
    {
      "cell_type": "code",
      "metadata": {
        "id": "f000lYoxhA4F"
      },
      "source": [
        "# Generate predictions\n",
        "predictions = combined_model.predict([description_bow_test, variety_test] + [test_embed])"
      ],
      "execution_count": null,
      "outputs": []
    },
    {
      "cell_type": "code",
      "metadata": {
        "id": "pmOlQnlrENDV",
        "colab": {
          "base_uri": "https://localhost:8080/"
        },
        "outputId": "ce41cded-eda1-46fb-8302-6dcf78869562"
      },
      "source": [
        "# Compare predictions with actual values for the first few items in our test dataset\n",
        "num_predictions = 40\n",
        "diff = 0\n",
        "\n",
        "for i in range(num_predictions):\n",
        "    val = predictions[i]\n",
        "    print(description_test.iloc[i])\n",
        "    print('Predicted: ', val[0], 'Actual: ', labels_test.iloc[i], '\\n')\n",
        "    diff += abs(val[0] - labels_test.iloc[i])"
      ],
      "execution_count": null,
      "outputs": [
        {
          "output_type": "stream",
          "text": [
            "This is a balanced wine that has attractive citrus flavors, riper peach and pineapple and a light apricot perfume from the Viognier in the blend. It is rich while having plenty of freshness. Drink from late 2016.\n",
            "Predicted:  16.852957 Actual:  18.0 \n",
            "\n",
            "Shows sweet-and-sour pineapple and orange fruit flavors, like a Chinese restaurant duck sauce. Lacks balance and sophistication, but will please fans of the style.\n",
            "Predicted:  33.501 Actual:  30.0 \n",
            "\n",
            "A bit of roasted corn and hay carry the nose of this semi sweet bubbly. It's round and fruity, with notes of canned pear and hints of sweet spice. Decent acidity and zest ensure that it keeps its balance. Imported by Freixenet USA.\n",
            "Predicted:  9.155894 Actual:  12.0 \n",
            "\n",
            "Subtle power and a structure built for aging lift this wine above the crowd. It has deep and concentrated black cherry and cassis flavors, an abundance of fine-grained tannins, velvety texture, and a tasty, lingering finish. Best after 2019.\n",
            "Predicted:  31.907532 Actual:  35.0 \n",
            "\n",
            "As usual, the Nina Lee Syrah is dark, chewy, and hits the mid-fifteens with its alcohol. But it somehow pulls together an impression of balance, highlighted by sweet and tangy blueberry/blackberry fruit. The acids are not quite integrated, and the wine has lost some subtlety – it has traded its elegance for sheer fruit power.\n",
            "Predicted:  55.887577 Actual:  50.0 \n",
            "\n",
            "Youthful raspberry and strawberry aromas bring a little cotton candy as well, while the palate is round, a touch soft and shows bouncy berry and citrus flavors. Solid and tastes just about right, but a bit cloying toward the end.\n",
            "Predicted:  11.188354 Actual:  13.0 \n",
            "\n",
            "Structured from the start, this wine provides succulent boysenberry and blackberry around a full-figured body that's otherwise steeped in vanilla and coffee, the toasted oak quite prevalent. It finishes slightly tart in dried herb and mushroom.\n",
            "Predicted:  68.37647 Actual:  40.0 \n",
            "\n",
            "This new brand is sourced from various vineyards throughout the valley. It's very ripe and interesting, offering the rich flavors and balance of the vintage. Gentle now in blackberries, black currants, anise and sweet cedar wood, and should develop over the next 5–6 years.\n",
            "Predicted:  53.39711 Actual:  52.0 \n",
            "\n",
            "Ripe plum, coconut, vanilla and French oak aromas lead the nose. Youthfully assertive and austere, the palate offers toasted oak, licorice and espresso notes, set against a backdrop of bracing tannins that grip the finish. That structure should mellow and integrate with a few more years of bottle age.\n",
            "Predicted:  57.050358 Actual:  89.0 \n",
            "\n",
            "This Carneros Chardonnay shows solid mainstream style. Apple, caramel and mint aromas on the nose open to apple, coconut and menthol-oak flavors. The mouthfeel is full, though some tasters thought more big than full. Toasty new oak takes the lead, and a touch of heat shows on the back end.\n",
            "Predicted:  28.408556 Actual:  44.0 \n",
            "\n",
            "Tangerine peel and citrus blossom are fragrant and fresh on this flirtatious off-dry Riesling. Straightforward and juicy in style, the palate is saturated with peach and apricot nectar. Zesty lime and touches of mineral add lift to the finish.\n",
            "Predicted:  26.956656 Actual:  14.0 \n",
            "\n",
            "Well priced for the quality, Villa Maria's entry-level Pinot Noir delivers moderately assertive notes of dried leaves, black cherries, cola and oaky spices. It's concentrated and gently mouth-filling, with a silky finish. Drink it now and over the next two years.\n",
            "Predicted:  9.314158 Actual:  20.0 \n",
            "\n",
            "Hard, minty, oaky and even a touch chemical on the nose, then tough as nails in the mouth. Tastes resiny and minty, with black fruit flavors and extreme tannic clamp. Chocolaty tasting on the finish, which retains the wine's hard personality. Tasted twice.\n",
            "Predicted:  17.232496 Actual:  20.0 \n",
            "\n",
            "Mocha, cola, dark cherry and berry aromas are mild, but they pick up power on the supple, polished-feeling palate.\n",
            "Predicted:  25.612385 Actual:  19.0 \n",
            "\n",
            "Produced from two parcels in Aloxe Corton, this structured wine has red-plum fruitiness that is still masked by a dry tannic coating. It has concentration and good potential. Drink this textured, firm wine from 2018.\n",
            "Predicted:  59.944954 Actual:  80.0 \n",
            "\n",
            "Subdued on the nose, where the sulfur is still very much in evidence. Pear and lemon fruit on the palate, gliding into a finish that seems a bit hard, with acids that jut out, interrupting the smooth flow of the wine. Imported by Slocum & Sons, Inc.\n",
            "Predicted:  32.719227 Actual:  29.0 \n",
            "\n",
            "Dark golden in color, with a taste of caramel-toffee apple, this is the winery's classically produced late-harvest blend of Sauvignon Blanc, Riesling and Gewürztraminer. Recalling toasted caramel corn, fig and orange, the aromas are intense and the palate balanced.\n",
            "Predicted:  24.114096 Actual:  85.0 \n",
            "\n",
            "Still in the flush of youth, this creamy-textured vintage Port strikes all the right notes, from complex aromas to powerful flavors. Blackberry, plum and earth notes finish long, buttressed by supple tannins. Based on the rapid maturation of the 2001 and 2002, drink this one from 2010-2020.\n",
            "Predicted:  57.620975 Actual:  60.0 \n",
            "\n",
            "Aromatic and silky upon entry, this stylish Syrah brings dark berry fruit flavors laced with toast and smoked meats. It's saturated, bright and sappy, with fine grained tannins that seem to spread the flavors fully across the palate. The finish is of medium length, expanding gradually as the wine airs, and adding vanilla and chocolate flavors.\n",
            "Predicted:  40.51491 Actual:  22.0 \n",
            "\n",
            "A lusty young Pinot that shows an immature mouthfeel in the vibrantly hard tannins, juicy coastal acidity and jammy red cherry and currant flavors that have not yet wedded to the oak. It would be a shame to open this wine before the end of 2010, although most people will.\n",
            "Predicted:  46.613956 Actual:  50.0 \n",
            "\n",
            "There's enormously ripe, pure fruit in this Pinot. It floods the palate with red cherry pie, cola, root beer and spice flavors that are undeniably delicious. Yet the wine is too soft and jammily extracted to be balanced.\n",
            "Predicted:  42.852337 Actual:  46.0 \n",
            "\n",
            "A blend of five diverse red grapes, this lightly fruity quaffer is almost invisible as far as flavor is concerned. It hits the tongue and vanishes.\n",
            "Predicted:  16.41737 Actual:  17.0 \n",
            "\n",
            "Sémillon (60%) makes up the majority of this blend followed by Sauvignon Blanc (22%) and Muscadelle. The aromas of wet stone, lees, orange rind and fresh flowers are light and elusive. The palate brings a sense of elegance and balance.\n",
            "Predicted:  16.319582 Actual:  25.0 \n",
            "\n",
            "Made to commemorate the winery's 20th vintage, this smooth and polished effort combines choice lots from the Shea, Freedom Hill, Temperance Hill and Vista Hills vineyards. Sweet cherry fruit carries interesting suggestions of ash, smoke, anise and toasted almond, buffed and buttressed by crisp acids.\n",
            "Predicted:  28.148563 Actual:  60.0 \n",
            "\n",
            "A very good wine, rich and dry, filled with cherry and oak flavors, housed in refined tannins. Still, it lacks a certain depth. Would benefit from blending with a weightier Bordeaux variety, like Cabernet Sauvignon, to add dimension.\n",
            "Predicted:  39.34652 Actual:  42.0 \n",
            "\n",
            "Sobra is Brazilian Portuguese for leftovers. It's a Bordeaux blend, but the recipe changes every year. This is very nice and drinking well, smooth with a nicely resolved mix of black fruits, smoky wood, pepper and a bit of bacon fat.\n",
            "Predicted:  18.442522 Actual:  24.0 \n",
            "\n",
            "The variety's typical fruity freshness has been dulled by an extra year in the bottle, but the wine compensates royally with baked apple, spicy cinnamon, nutmeg and peach cobbler. Good acidity renders a youthful appearance in the mouth. Not imported to the U.S.\n",
            "Predicted:  9.564607 Actual:  14.0 \n",
            "\n",
            "A strong hint of charcoal and leather carry the nose, while the palate is snappy and fresh, with good feel, texture and flavors of berry, plum and herbs. Mainstream, familiar and in good balance, with freshness, acidity and toast on the finish. Holds no surprises.\n",
            "Predicted:  10.910823 Actual:  11.0 \n",
            "\n",
            "Here's the latest entry into the red-hot unoaked Chardonnay category in America, and it's a solid hit. Dry and crisp, it's rich in apricots, pineapples, tangerines and spices.\n",
            "Predicted:  12.599999 Actual:  10.0 \n",
            "\n",
            "A little too ripe, this Cab is compromised by a Porty, raisiny aroma. It's also pretty tannic, with an undertow of red and black currant flavors. Needs rich fare to tame it. Drink now.\n",
            "Predicted:  47.12514 Actual:  28.0 \n",
            "\n",
            "Simple and fruity and forward, though still unbalanced from extreme youth. It's more like a Beaujolais nouveau, with an odd, disjointed, watery finish. The price seems way out of line for what's in the bottle.\n",
            "Predicted:  15.297929 Actual:  18.0 \n",
            "\n",
            "Ripe, oaky and somewhat common. Shows all the bells and whistles of a Burgundian-style Chardonnay, with vanilla cream, pineapple tart and buttered toast flavors. But it's too soft for balance, and lacks complexity.\n",
            "Predicted:  22.934546 Actual:  33.0 \n",
            "\n",
            "A very good, richly tannic wine that flatters with strong flavors of blackberries, cherries and oak. It may be a little too ripe for its own good, though, as it's pretty jammy. For some reason, the winery lowered the price considerably from the 2005, which was a much better wine.\n",
            "Predicted:  37.615627 Actual:  40.0 \n",
            "\n",
            "A firm wine, dry in style. The fruit is under the tannins, bitter chocolate, dark and brooding. If the spirit wasn't too obvious on the the finish, this would be an impressive wine.\n",
            "Predicted:  51.6234 Actual:  62.0 \n",
            "\n",
            "Not sure what the difference is between this wine and Agustinos' Gran Reserva and Reserva Privada because all are priced the same and rate about the same. Here we get banana, apple and fresh hay aromas along with a spunky palate of lemon, pineapple and green apple. Finishes with some honey and spice.\n",
            "Predicted:  16.32701 Actual:  13.0 \n",
            "\n",
            "You'll find lots of ripe, jammy blackberry, cherry, herb tea and tangerine fruit flavor in this soft wine, which is accented with smoky oak. It also has a sharp edge of tannins that makes it astringent. Could soften sometime in 2008, but it's not an ager.\n",
            "Predicted:  37.646507 Actual:  30.0 \n",
            "\n",
            "The idea here was to make a white Burgundy-style Chardonnay with lots of oak. But the new oak is so strong that it overshadows what's actually a pretty nice wine underneath. You have to dive down through an ocean of smoky char, woody vanilla and sweet woodsap to find the basic peach and pineapple flavors.\n",
            "Predicted:  5.5967183 Actual:  42.0 \n",
            "\n",
            "Taut, young and laced with accents of bitter greens, the fruit is peppery and sharp, with plenty of backing acidity. Tannins are proportionate and well managed, while the finish is short, showing mostly acid and herbal components.\n",
            "Predicted:  41.51304 Actual:  30.0 \n",
            "\n",
            "Aurelio Settimo offers a ripe and chewy base Barolo with cheerful aromas of almond paste, cherry liqueur and licorice. Those nuances are enhanced by dusty mineral tones and astringent tannins. The wine is powerful, tannic and bold on the close.\n",
            "Predicted:  36.33953 Actual:  22.0 \n",
            "\n",
            "On the subtle side for a Sauvignon Blanc, the Groom 2009 offers up exotic kiwi and guava scents before settling in to a more serious palate of lemon and pear. Its crisp and well-balanced, with a lovely final note of grapefruit peel. Drink now.\n",
            "Predicted:  18.28226 Actual:  18.0 \n",
            "\n"
          ],
          "name": "stdout"
        }
      ]
    },
    {
      "cell_type": "markdown",
      "metadata": {
        "id": "Bt1m-fB852nA"
      },
      "source": [
        "Q2"
      ]
    },
    {
      "cell_type": "code",
      "metadata": {
        "id": "QjqbNz0dENDW",
        "colab": {
          "base_uri": "https://localhost:8080/"
        },
        "outputId": "0573c5db-05b2-4366-f05a-4d8dee7fcc3b"
      },
      "source": [
        "# Compare the average difference between actual price and the model's predicted price\n",
        "print('Average prediction difference: ', diff / num_predictions)"
      ],
      "execution_count": null,
      "outputs": [
        {
          "output_type": "stream",
          "text": [
            "Average prediction difference:  10.383099853992462\n"
          ],
          "name": "stdout"
        }
      ]
    },
    {
      "cell_type": "markdown",
      "metadata": {
        "id": "C2ML4zSC5tHT"
      },
      "source": [
        "Q1"
      ]
    },
    {
      "cell_type": "markdown",
      "metadata": {
        "id": "MnWykhGb5nFr"
      },
      "source": [
        "![image.png](data:image/png;base64,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)"
      ]
    },
    {
      "cell_type": "markdown",
      "metadata": {
        "id": "KAGO2_ek5zQi"
      },
      "source": [
        "![image.png](data:image/png;base64,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)"
      ]
    }
  ]
}